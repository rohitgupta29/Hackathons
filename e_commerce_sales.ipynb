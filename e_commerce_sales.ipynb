{
  "nbformat": 4,
  "nbformat_minor": 0,
  "metadata": {
    "colab": {
      "name": "e-commerce sales.ipynb",
      "provenance": [],
      "collapsed_sections": [],
      "authorship_tag": "ABX9TyNLKE5ZxKbJ9qSol8oH9/Kg",
      "include_colab_link": true
    },
    "kernelspec": {
      "name": "python3",
      "display_name": "Python 3"
    }
  },
  "cells": [
    {
      "cell_type": "markdown",
      "metadata": {
        "id": "view-in-github",
        "colab_type": "text"
      },
      "source": [
        "<a href=\"https://colab.research.google.com/github/rohitgupta29/Hackathons/blob/main/e_commerce_sales.ipynb\" target=\"_parent\"><img src=\"https://colab.research.google.com/assets/colab-badge.svg\" alt=\"Open In Colab\"/></a>"
      ]
    },
    {
      "cell_type": "code",
      "metadata": {
        "id": "-TxuwHa7wYIj"
      },
      "source": [
        ""
      ],
      "execution_count": null,
      "outputs": []
    },
    {
      "cell_type": "code",
      "metadata": {
        "id": "ef2D_J2ZwdmG"
      },
      "source": [
        "import pandas as pd\n",
        "import numpy as np\n",
        "import matplotlib.pyplot as plt\n",
        "import seaborn as sns\n",
        "\n",
        "import warnings\n",
        "warnings.filterwarnings('ignore')\n",
        "\n",
        "plt.style.use('fivethirtyeight')\n",
        "%matplotlib inline"
      ],
      "execution_count": null,
      "outputs": []
    },
    {
      "cell_type": "markdown",
      "metadata": {
        "id": "NO7NczWMi8oP"
      },
      "source": [
        "Files"
      ]
    },
    {
      "cell_type": "code",
      "metadata": {
        "id": "aN3y3iRdi7fF"
      },
      "source": [
        ""
      ],
      "execution_count": null,
      "outputs": []
    },
    {
      "cell_type": "code",
      "metadata": {
        "id": "9XRiD9xpwrkq"
      },
      "source": [
        "train = \"https://raw.githubusercontent.com/rohitgupta29/Hackathons/main/e-commerce_retail/Data/Train.csv\"\n",
        "test = \"https://raw.githubusercontent.com/rohitgupta29/Hackathons/main/e-commerce_retail/Data/Test.csv\""
      ],
      "execution_count": null,
      "outputs": []
    },
    {
      "cell_type": "code",
      "metadata": {
        "colab": {
          "base_uri": "https://localhost:8080/",
          "height": 284
        },
        "id": "8FMxHf2IwejG",
        "outputId": "71f3b514-6923-43be-c0b0-c0f0ad51838d"
      },
      "source": [
        "df = pd.read_csv(train, dtype = {'CustomerID' : str, 'StockCode': str,'Description': str,\n",
        "                                         'Country' : str, 'InvoiceNo' : str}, index_col = False)\n",
        "df.describe()"
      ],
      "execution_count": null,
      "outputs": [
        {
          "output_type": "execute_result",
          "data": {
            "text/html": [
              "<div>\n",
              "<style scoped>\n",
              "    .dataframe tbody tr th:only-of-type {\n",
              "        vertical-align: middle;\n",
              "    }\n",
              "\n",
              "    .dataframe tbody tr th {\n",
              "        vertical-align: top;\n",
              "    }\n",
              "\n",
              "    .dataframe thead th {\n",
              "        text-align: right;\n",
              "    }\n",
              "</style>\n",
              "<table border=\"1\" class=\"dataframe\">\n",
              "  <thead>\n",
              "    <tr style=\"text-align: right;\">\n",
              "      <th></th>\n",
              "      <th>Quantity</th>\n",
              "      <th>UnitPrice</th>\n",
              "    </tr>\n",
              "  </thead>\n",
              "  <tbody>\n",
              "    <tr>\n",
              "      <th>count</th>\n",
              "      <td>284780.000000</td>\n",
              "      <td>284780.000000</td>\n",
              "    </tr>\n",
              "    <tr>\n",
              "      <th>mean</th>\n",
              "      <td>12.028468</td>\n",
              "      <td>3.451216</td>\n",
              "    </tr>\n",
              "    <tr>\n",
              "      <th>std</th>\n",
              "      <td>295.111588</td>\n",
              "      <td>78.399541</td>\n",
              "    </tr>\n",
              "    <tr>\n",
              "      <th>min</th>\n",
              "      <td>-80995.000000</td>\n",
              "      <td>0.000000</td>\n",
              "    </tr>\n",
              "    <tr>\n",
              "      <th>25%</th>\n",
              "      <td>2.000000</td>\n",
              "      <td>1.250000</td>\n",
              "    </tr>\n",
              "    <tr>\n",
              "      <th>50%</th>\n",
              "      <td>5.000000</td>\n",
              "      <td>1.950000</td>\n",
              "    </tr>\n",
              "    <tr>\n",
              "      <th>75%</th>\n",
              "      <td>12.000000</td>\n",
              "      <td>3.750000</td>\n",
              "    </tr>\n",
              "    <tr>\n",
              "      <th>max</th>\n",
              "      <td>80995.000000</td>\n",
              "      <td>38970.000000</td>\n",
              "    </tr>\n",
              "  </tbody>\n",
              "</table>\n",
              "</div>"
            ],
            "text/plain": [
              "            Quantity      UnitPrice\n",
              "count  284780.000000  284780.000000\n",
              "mean       12.028468       3.451216\n",
              "std       295.111588      78.399541\n",
              "min    -80995.000000       0.000000\n",
              "25%         2.000000       1.250000\n",
              "50%         5.000000       1.950000\n",
              "75%        12.000000       3.750000\n",
              "max     80995.000000   38970.000000"
            ]
          },
          "metadata": {
            "tags": []
          },
          "execution_count": 4
        }
      ]
    },
    {
      "cell_type": "code",
      "metadata": {
        "colab": {
          "base_uri": "https://localhost:8080/"
        },
        "id": "VVm_cWlT_Au4",
        "outputId": "35c61769-4842-4187-86d6-6a617696eda3"
      },
      "source": [
        "df.Description.nunique()"
      ],
      "execution_count": null,
      "outputs": [
        {
          "output_type": "execute_result",
          "data": {
            "text/plain": [
              "3819"
            ]
          },
          "metadata": {
            "tags": []
          },
          "execution_count": 10
        }
      ]
    },
    {
      "cell_type": "code",
      "metadata": {
        "colab": {
          "base_uri": "https://localhost:8080/",
          "height": 106
        },
        "id": "orsFqO2eqAki",
        "outputId": "9f3b8971-0515-4a94-afc2-22f87ed4f8e8"
      },
      "source": [
        "df.corr()"
      ],
      "execution_count": null,
      "outputs": [
        {
          "output_type": "execute_result",
          "data": {
            "text/html": [
              "<div>\n",
              "<style scoped>\n",
              "    .dataframe tbody tr th:only-of-type {\n",
              "        vertical-align: middle;\n",
              "    }\n",
              "\n",
              "    .dataframe tbody tr th {\n",
              "        vertical-align: top;\n",
              "    }\n",
              "\n",
              "    .dataframe thead th {\n",
              "        text-align: right;\n",
              "    }\n",
              "</style>\n",
              "<table border=\"1\" class=\"dataframe\">\n",
              "  <thead>\n",
              "    <tr style=\"text-align: right;\">\n",
              "      <th></th>\n",
              "      <th>Quantity</th>\n",
              "      <th>UnitPrice</th>\n",
              "    </tr>\n",
              "  </thead>\n",
              "  <tbody>\n",
              "    <tr>\n",
              "      <th>Quantity</th>\n",
              "      <td>1.000000</td>\n",
              "      <td>-0.000924</td>\n",
              "    </tr>\n",
              "    <tr>\n",
              "      <th>UnitPrice</th>\n",
              "      <td>-0.000924</td>\n",
              "      <td>1.000000</td>\n",
              "    </tr>\n",
              "  </tbody>\n",
              "</table>\n",
              "</div>"
            ],
            "text/plain": [
              "           Quantity  UnitPrice\n",
              "Quantity   1.000000  -0.000924\n",
              "UnitPrice -0.000924   1.000000"
            ]
          },
          "metadata": {
            "tags": []
          },
          "execution_count": 4
        }
      ]
    },
    {
      "cell_type": "code",
      "metadata": {
        "id": "WtAQBUBDG23Y"
      },
      "source": [
        "df['Quantity'] = df.Quantity.abs()"
      ],
      "execution_count": null,
      "outputs": []
    },
    {
      "cell_type": "code",
      "metadata": {
        "colab": {
          "base_uri": "https://localhost:8080/",
          "height": 195
        },
        "id": "jz1ydx-1wuh6",
        "outputId": "bc6fd6af-aa00-4469-a3fe-e03b1cdc8f7b"
      },
      "source": [
        "df['InvoiceDate'] = pd.to_datetime(df['InvoiceDate'])\n",
        "df.sort_values(by=['InvoiceDate'], inplace=True, ascending=True)\n",
        "df.head()"
      ],
      "execution_count": null,
      "outputs": [
        {
          "output_type": "execute_result",
          "data": {
            "text/html": [
              "<div>\n",
              "<style scoped>\n",
              "    .dataframe tbody tr th:only-of-type {\n",
              "        vertical-align: middle;\n",
              "    }\n",
              "\n",
              "    .dataframe tbody tr th {\n",
              "        vertical-align: top;\n",
              "    }\n",
              "\n",
              "    .dataframe thead th {\n",
              "        text-align: right;\n",
              "    }\n",
              "</style>\n",
              "<table border=\"1\" class=\"dataframe\">\n",
              "  <thead>\n",
              "    <tr style=\"text-align: right;\">\n",
              "      <th></th>\n",
              "      <th>InvoiceNo</th>\n",
              "      <th>StockCode</th>\n",
              "      <th>Description</th>\n",
              "      <th>Quantity</th>\n",
              "      <th>InvoiceDate</th>\n",
              "      <th>UnitPrice</th>\n",
              "      <th>CustomerID</th>\n",
              "      <th>Country</th>\n",
              "    </tr>\n",
              "  </thead>\n",
              "  <tbody>\n",
              "    <tr>\n",
              "      <th>33757</th>\n",
              "      <td>0</td>\n",
              "      <td>755</td>\n",
              "      <td>1444</td>\n",
              "      <td>6</td>\n",
              "      <td>2010-12-01 08:26:00</td>\n",
              "      <td>4.25</td>\n",
              "      <td>17850.0</td>\n",
              "      <td>35</td>\n",
              "    </tr>\n",
              "    <tr>\n",
              "      <th>59748</th>\n",
              "      <td>0</td>\n",
              "      <td>2802</td>\n",
              "      <td>2776</td>\n",
              "      <td>6</td>\n",
              "      <td>2010-12-01 08:26:00</td>\n",
              "      <td>3.39</td>\n",
              "      <td>17850.0</td>\n",
              "      <td>35</td>\n",
              "    </tr>\n",
              "    <tr>\n",
              "      <th>124355</th>\n",
              "      <td>0</td>\n",
              "      <td>2855</td>\n",
              "      <td>861</td>\n",
              "      <td>8</td>\n",
              "      <td>2010-12-01 08:26:00</td>\n",
              "      <td>2.75</td>\n",
              "      <td>17850.0</td>\n",
              "      <td>35</td>\n",
              "    </tr>\n",
              "    <tr>\n",
              "      <th>64500</th>\n",
              "      <td>0</td>\n",
              "      <td>3249</td>\n",
              "      <td>3716</td>\n",
              "      <td>6</td>\n",
              "      <td>2010-12-01 08:26:00</td>\n",
              "      <td>2.55</td>\n",
              "      <td>17850.0</td>\n",
              "      <td>35</td>\n",
              "    </tr>\n",
              "    <tr>\n",
              "      <th>281503</th>\n",
              "      <td>0</td>\n",
              "      <td>2803</td>\n",
              "      <td>1813</td>\n",
              "      <td>6</td>\n",
              "      <td>2010-12-01 08:26:00</td>\n",
              "      <td>3.39</td>\n",
              "      <td>17850.0</td>\n",
              "      <td>35</td>\n",
              "    </tr>\n",
              "  </tbody>\n",
              "</table>\n",
              "</div>"
            ],
            "text/plain": [
              "       InvoiceNo StockCode Description  ...  UnitPrice CustomerID  Country\n",
              "33757          0       755        1444  ...       4.25    17850.0       35\n",
              "59748          0      2802        2776  ...       3.39    17850.0       35\n",
              "124355         0      2855         861  ...       2.75    17850.0       35\n",
              "64500          0      3249        3716  ...       2.55    17850.0       35\n",
              "281503         0      2803        1813  ...       3.39    17850.0       35\n",
              "\n",
              "[5 rows x 8 columns]"
            ]
          },
          "metadata": {
            "tags": []
          },
          "execution_count": 6
        }
      ]
    },
    {
      "cell_type": "code",
      "metadata": {
        "id": "SKSaKyT8w2mC"
      },
      "source": [
        "df = df.set_index('InvoiceDate')\n"
      ],
      "execution_count": null,
      "outputs": []
    },
    {
      "cell_type": "code",
      "metadata": {
        "id": "Lt_TTlxrxjKq"
      },
      "source": [
        "#Lets drop Customer ID as it wont provide much.\n",
        "df = df.drop(columns = ['CustomerID'])"
      ],
      "execution_count": null,
      "outputs": []
    },
    {
      "cell_type": "code",
      "metadata": {
        "colab": {
          "base_uri": "https://localhost:8080/",
          "height": 284
        },
        "id": "PYHvggGcxu29",
        "outputId": "63b6301f-9cf0-42e9-d000-7700b23d7dbb"
      },
      "source": [
        "df.describe()"
      ],
      "execution_count": null,
      "outputs": [
        {
          "output_type": "execute_result",
          "data": {
            "text/html": [
              "<div>\n",
              "<style scoped>\n",
              "    .dataframe tbody tr th:only-of-type {\n",
              "        vertical-align: middle;\n",
              "    }\n",
              "\n",
              "    .dataframe tbody tr th {\n",
              "        vertical-align: top;\n",
              "    }\n",
              "\n",
              "    .dataframe thead th {\n",
              "        text-align: right;\n",
              "    }\n",
              "</style>\n",
              "<table border=\"1\" class=\"dataframe\">\n",
              "  <thead>\n",
              "    <tr style=\"text-align: right;\">\n",
              "      <th></th>\n",
              "      <th>Quantity</th>\n",
              "      <th>UnitPrice</th>\n",
              "    </tr>\n",
              "  </thead>\n",
              "  <tbody>\n",
              "    <tr>\n",
              "      <th>count</th>\n",
              "      <td>284780.000000</td>\n",
              "      <td>284780.000000</td>\n",
              "    </tr>\n",
              "    <tr>\n",
              "      <th>mean</th>\n",
              "      <td>13.645885</td>\n",
              "      <td>3.451216</td>\n",
              "    </tr>\n",
              "    <tr>\n",
              "      <th>std</th>\n",
              "      <td>295.041223</td>\n",
              "      <td>78.399541</td>\n",
              "    </tr>\n",
              "    <tr>\n",
              "      <th>min</th>\n",
              "      <td>1.000000</td>\n",
              "      <td>0.000000</td>\n",
              "    </tr>\n",
              "    <tr>\n",
              "      <th>25%</th>\n",
              "      <td>2.000000</td>\n",
              "      <td>1.250000</td>\n",
              "    </tr>\n",
              "    <tr>\n",
              "      <th>50%</th>\n",
              "      <td>5.000000</td>\n",
              "      <td>1.950000</td>\n",
              "    </tr>\n",
              "    <tr>\n",
              "      <th>75%</th>\n",
              "      <td>12.000000</td>\n",
              "      <td>3.750000</td>\n",
              "    </tr>\n",
              "    <tr>\n",
              "      <th>max</th>\n",
              "      <td>80995.000000</td>\n",
              "      <td>38970.000000</td>\n",
              "    </tr>\n",
              "  </tbody>\n",
              "</table>\n",
              "</div>"
            ],
            "text/plain": [
              "            Quantity      UnitPrice\n",
              "count  284780.000000  284780.000000\n",
              "mean       13.645885       3.451216\n",
              "std       295.041223      78.399541\n",
              "min         1.000000       0.000000\n",
              "25%         2.000000       1.250000\n",
              "50%         5.000000       1.950000\n",
              "75%        12.000000       3.750000\n",
              "max     80995.000000   38970.000000"
            ]
          },
          "metadata": {
            "tags": []
          },
          "execution_count": 9
        }
      ]
    },
    {
      "cell_type": "code",
      "metadata": {
        "colab": {
          "base_uri": "https://localhost:8080/"
        },
        "id": "bG0d3uxVxyJ0",
        "outputId": "66e94cb8-8461-4387-be21-8724656d7c1c"
      },
      "source": [
        "df['Description'].value_counts().head()"
      ],
      "execution_count": null,
      "outputs": [
        {
          "output_type": "execute_result",
          "data": {
            "text/plain": [
              "3716    1472\n",
              "2780    1292\n",
              "1771    1172\n",
              "217      998\n",
              "1953     996\n",
              "Name: Description, dtype: int64"
            ]
          },
          "metadata": {
            "tags": []
          },
          "execution_count": 10
        }
      ]
    },
    {
      "cell_type": "code",
      "metadata": {
        "colab": {
          "base_uri": "https://localhost:8080/",
          "height": 431
        },
        "id": "9tTRiu8yyBzQ",
        "outputId": "3880605e-6c84-4d27-9490-640ed69c5047"
      },
      "source": [
        "df.iloc[:1200]"
      ],
      "execution_count": null,
      "outputs": [
        {
          "output_type": "execute_result",
          "data": {
            "text/html": [
              "<div>\n",
              "<style scoped>\n",
              "    .dataframe tbody tr th:only-of-type {\n",
              "        vertical-align: middle;\n",
              "    }\n",
              "\n",
              "    .dataframe tbody tr th {\n",
              "        vertical-align: top;\n",
              "    }\n",
              "\n",
              "    .dataframe thead th {\n",
              "        text-align: right;\n",
              "    }\n",
              "</style>\n",
              "<table border=\"1\" class=\"dataframe\">\n",
              "  <thead>\n",
              "    <tr style=\"text-align: right;\">\n",
              "      <th></th>\n",
              "      <th>InvoiceNo</th>\n",
              "      <th>StockCode</th>\n",
              "      <th>Description</th>\n",
              "      <th>Quantity</th>\n",
              "      <th>UnitPrice</th>\n",
              "      <th>Country</th>\n",
              "      <th>Sales</th>\n",
              "    </tr>\n",
              "    <tr>\n",
              "      <th>InvoiceDate</th>\n",
              "      <th></th>\n",
              "      <th></th>\n",
              "      <th></th>\n",
              "      <th></th>\n",
              "      <th></th>\n",
              "      <th></th>\n",
              "      <th></th>\n",
              "    </tr>\n",
              "  </thead>\n",
              "  <tbody>\n",
              "    <tr>\n",
              "      <th>2010-12-01 08:26:00</th>\n",
              "      <td>0</td>\n",
              "      <td>755</td>\n",
              "      <td>1444</td>\n",
              "      <td>6</td>\n",
              "      <td>4.25</td>\n",
              "      <td>35</td>\n",
              "      <td>25.50</td>\n",
              "    </tr>\n",
              "    <tr>\n",
              "      <th>2010-12-01 08:26:00</th>\n",
              "      <td>0</td>\n",
              "      <td>2802</td>\n",
              "      <td>2776</td>\n",
              "      <td>6</td>\n",
              "      <td>3.39</td>\n",
              "      <td>35</td>\n",
              "      <td>20.34</td>\n",
              "    </tr>\n",
              "    <tr>\n",
              "      <th>2010-12-01 08:26:00</th>\n",
              "      <td>0</td>\n",
              "      <td>2855</td>\n",
              "      <td>861</td>\n",
              "      <td>8</td>\n",
              "      <td>2.75</td>\n",
              "      <td>35</td>\n",
              "      <td>22.00</td>\n",
              "    </tr>\n",
              "    <tr>\n",
              "      <th>2010-12-01 08:26:00</th>\n",
              "      <td>0</td>\n",
              "      <td>3249</td>\n",
              "      <td>3716</td>\n",
              "      <td>6</td>\n",
              "      <td>2.55</td>\n",
              "      <td>35</td>\n",
              "      <td>15.30</td>\n",
              "    </tr>\n",
              "    <tr>\n",
              "      <th>2010-12-01 08:26:00</th>\n",
              "      <td>0</td>\n",
              "      <td>2803</td>\n",
              "      <td>1813</td>\n",
              "      <td>6</td>\n",
              "      <td>3.39</td>\n",
              "      <td>35</td>\n",
              "      <td>20.34</td>\n",
              "    </tr>\n",
              "    <tr>\n",
              "      <th>...</th>\n",
              "      <td>...</td>\n",
              "      <td>...</td>\n",
              "      <td>...</td>\n",
              "      <td>...</td>\n",
              "      <td>...</td>\n",
              "      <td>...</td>\n",
              "      <td>...</td>\n",
              "    </tr>\n",
              "    <tr>\n",
              "      <th>2010-12-01 15:35:00</th>\n",
              "      <td>95</td>\n",
              "      <td>806</td>\n",
              "      <td>1381</td>\n",
              "      <td>1</td>\n",
              "      <td>4.95</td>\n",
              "      <td>35</td>\n",
              "      <td>4.95</td>\n",
              "    </tr>\n",
              "    <tr>\n",
              "      <th>2010-12-01 15:35:00</th>\n",
              "      <td>95</td>\n",
              "      <td>816</td>\n",
              "      <td>2291</td>\n",
              "      <td>4</td>\n",
              "      <td>1.45</td>\n",
              "      <td>35</td>\n",
              "      <td>5.80</td>\n",
              "    </tr>\n",
              "    <tr>\n",
              "      <th>2010-12-01 15:37:00</th>\n",
              "      <td>97</td>\n",
              "      <td>2423</td>\n",
              "      <td>349</td>\n",
              "      <td>24</td>\n",
              "      <td>0.65</td>\n",
              "      <td>35</td>\n",
              "      <td>15.60</td>\n",
              "    </tr>\n",
              "    <tr>\n",
              "      <th>2010-12-01 15:37:00</th>\n",
              "      <td>97</td>\n",
              "      <td>2994</td>\n",
              "      <td>2907</td>\n",
              "      <td>12</td>\n",
              "      <td>1.25</td>\n",
              "      <td>35</td>\n",
              "      <td>15.00</td>\n",
              "    </tr>\n",
              "    <tr>\n",
              "      <th>2010-12-01 15:37:00</th>\n",
              "      <td>97</td>\n",
              "      <td>791</td>\n",
              "      <td>3630</td>\n",
              "      <td>12</td>\n",
              "      <td>0.85</td>\n",
              "      <td>35</td>\n",
              "      <td>10.20</td>\n",
              "    </tr>\n",
              "  </tbody>\n",
              "</table>\n",
              "<p>1200 rows × 7 columns</p>\n",
              "</div>"
            ],
            "text/plain": [
              "                    InvoiceNo StockCode Description  ...  UnitPrice  Country  Sales\n",
              "InvoiceDate                                          ...                           \n",
              "2010-12-01 08:26:00         0       755        1444  ...       4.25       35  25.50\n",
              "2010-12-01 08:26:00         0      2802        2776  ...       3.39       35  20.34\n",
              "2010-12-01 08:26:00         0      2855         861  ...       2.75       35  22.00\n",
              "2010-12-01 08:26:00         0      3249        3716  ...       2.55       35  15.30\n",
              "2010-12-01 08:26:00         0      2803        1813  ...       3.39       35  20.34\n",
              "...                       ...       ...         ...  ...        ...      ...    ...\n",
              "2010-12-01 15:35:00        95       806        1381  ...       4.95       35   4.95\n",
              "2010-12-01 15:35:00        95       816        2291  ...       1.45       35   5.80\n",
              "2010-12-01 15:37:00        97      2423         349  ...       0.65       35  15.60\n",
              "2010-12-01 15:37:00        97      2994        2907  ...       1.25       35  15.00\n",
              "2010-12-01 15:37:00        97       791        3630  ...       0.85       35  10.20\n",
              "\n",
              "[1200 rows x 7 columns]"
            ]
          },
          "metadata": {
            "tags": []
          },
          "execution_count": 72
        }
      ]
    },
    {
      "cell_type": "markdown",
      "metadata": {
        "id": "3tHLedbYyCfA"
      },
      "source": [
        "Here we can see our best selling products, items that appear in orders the most often. Also to make it visually more appealing let's create a bar chart for 15 top items."
      ]
    },
    {
      "cell_type": "code",
      "metadata": {
        "colab": {
          "base_uri": "https://localhost:8080/",
          "height": 379
        },
        "id": "EU0KcmWex93_",
        "outputId": "3c681789-13b8-4686-e1d7-dea0046020ad"
      },
      "source": [
        "item_counts = df['Description'].value_counts().sort_values(ascending=False).iloc[0:15]\n",
        "plt.figure(figsize=(18,6))\n",
        "sns.barplot(item_counts.index, item_counts.values, palette=sns.cubehelix_palette(15))\n",
        "plt.ylabel(\"Counts\")\n",
        "plt.title(\"Which items were bought more often?\");\n",
        "plt.xticks(rotation=90);"
      ],
      "execution_count": null,
      "outputs": [
        {
          "output_type": "display_data",
          "data": {
            "image/png": "[encoded data removed]",
            "text/plain": [
              "<Figure size 1296x432 with 1 Axes>"
            ]
          },
          "metadata": {
            "tags": [],
            "needs_background": "light"
          }
        }
      ]
    },
    {
      "cell_type": "code",
      "metadata": {
        "colab": {
          "base_uri": "https://localhost:8080/"
        },
        "id": "xDQVWx8VyGk0",
        "outputId": "4011b9be-4c0c-40f0-e456-8f7ada148ace"
      },
      "source": [
        "df['Description'].value_counts().tail()"
      ],
      "execution_count": null,
      "outputs": [
        {
          "output_type": "execute_result",
          "data": {
            "text/plain": [
              "2497    1\n",
              "280     1\n",
              "2629    1\n",
              "316     1\n",
              "192     1\n",
              "Name: Description, dtype: int64"
            ]
          },
          "metadata": {
            "tags": []
          },
          "execution_count": 13
        }
      ]
    },
    {
      "cell_type": "markdown",
      "metadata": {
        "id": "6G-5rrdkyhEn"
      },
      "source": [
        "ALso checking out stoke codes, looks like they are deeply correlated with descriptions - which makes perfect sense."
      ]
    },
    {
      "cell_type": "code",
      "metadata": {
        "colab": {
          "base_uri": "https://localhost:8080/"
        },
        "id": "C1d8_Y_eyJ_k",
        "outputId": "182ae34c-c379-4cd3-a4bb-26e53c5650e3"
      },
      "source": [
        "df['StockCode'].value_counts().head()"
      ],
      "execution_count": null,
      "outputs": [
        {
          "output_type": "execute_result",
          "data": {
            "text/plain": [
              "3249    1478\n",
              "1292    1292\n",
              "3235    1172\n",
              "3069     998\n",
              "170      997\n",
              "Name: StockCode, dtype: int64"
            ]
          },
          "metadata": {
            "tags": []
          },
          "execution_count": 14
        }
      ]
    },
    {
      "cell_type": "code",
      "metadata": {
        "colab": {
          "base_uri": "https://localhost:8080/",
          "height": 403
        },
        "id": "63tvei4iyjAV",
        "outputId": "bfe42aed-95d3-4b98-c890-85d0f8ac41ab"
      },
      "source": [
        "stock_counts = df['StockCode'].value_counts().sort_values(ascending=False).iloc[0:15]\n",
        "plt.figure(figsize=(18,6))\n",
        "sns.barplot(stock_counts.index, stock_counts.values, palette=sns.color_palette(\"GnBu_d\"))\n",
        "plt.ylabel(\"Counts\")\n",
        "plt.title(\"Which stock codes were used the most?\");\n",
        "plt.xticks(rotation=90);"
      ],
      "execution_count": null,
      "outputs": [
        {
          "output_type": "display_data",
          "data": {
            "image/png": "[encoded data removed]",
            "text/plain": [
              "<Figure size 1296x432 with 1 Axes>"
            ]
          },
          "metadata": {
            "tags": [],
            "needs_background": "light"
          }
        }
      ]
    },
    {
      "cell_type": "code",
      "metadata": {
        "id": "dS_X7dsTym-w"
      },
      "source": [
        ""
      ],
      "execution_count": null,
      "outputs": []
    },
    {
      "cell_type": "markdown",
      "metadata": {
        "id": "isKFfuSQyqgv"
      },
      "source": [
        "Checking out also InvoiceNo feature."
      ]
    },
    {
      "cell_type": "code",
      "metadata": {
        "colab": {
          "base_uri": "https://localhost:8080/"
        },
        "id": "d8EDE80Yyq5D",
        "outputId": "c733c4bf-dc09-4fed-d971-c168ab2903a5"
      },
      "source": [
        "df['InvoiceNo'].value_counts().tail()"
      ],
      "execution_count": null,
      "outputs": [
        {
          "output_type": "execute_result",
          "data": {
            "text/plain": [
              "21753    1\n",
              "19646    1\n",
              "21193    1\n",
              "17777    1\n",
              "20791    1\n",
              "Name: InvoiceNo, dtype: int64"
            ]
          },
          "metadata": {
            "tags": []
          },
          "execution_count": 16
        }
      ]
    },
    {
      "cell_type": "code",
      "metadata": {
        "colab": {
          "base_uri": "https://localhost:8080/",
          "height": 409
        },
        "id": "uzTh7HLHysiY",
        "outputId": "aae9ef56-0257-4013-e00d-496cc8bfa86f"
      },
      "source": [
        "inv_counts = df['InvoiceNo'].value_counts().sort_values(ascending=False).iloc[0:15]\n",
        "plt.figure(figsize=(18,6))\n",
        "sns.barplot(inv_counts.index, inv_counts.values, palette=sns.color_palette(\"BuGn_d\"))\n",
        "plt.ylabel(\"Counts\")\n",
        "plt.title(\"Which invoices had the most items?\");\n",
        "plt.xticks(rotation=90);"
      ],
      "execution_count": null,
      "outputs": [
        {
          "output_type": "display_data",
          "data": {
            "image/png": "[encoded data removed]",
            "text/plain": [
              "<Figure size 1296x432 with 1 Axes>"
            ]
          },
          "metadata": {
            "tags": [],
            "needs_background": "light"
          }
        }
      ]
    },
    {
      "cell_type": "code",
      "metadata": {
        "id": "ijFnmdXf1dBI"
      },
      "source": [
        ""
      ],
      "execution_count": null,
      "outputs": []
    },
    {
      "cell_type": "markdown",
      "metadata": {
        "id": "ZsNnvOb-1dWw"
      },
      "source": [
        "Here we can see that other \"Negative quantities\" appear to be damaged/lost/unknown items. Again, we will just ignore them for the sake of simplicity of analysis for this project."
      ]
    },
    {
      "cell_type": "code",
      "metadata": {
        "colab": {
          "base_uri": "https://localhost:8080/",
          "height": 284
        },
        "id": "SkFTnl5Yyv4r",
        "outputId": "78239a83-2d9a-4295-9c7b-9be66c3d9939"
      },
      "source": [
        "df.describe()"
      ],
      "execution_count": null,
      "outputs": [
        {
          "output_type": "execute_result",
          "data": {
            "text/html": [
              "<div>\n",
              "<style scoped>\n",
              "    .dataframe tbody tr th:only-of-type {\n",
              "        vertical-align: middle;\n",
              "    }\n",
              "\n",
              "    .dataframe tbody tr th {\n",
              "        vertical-align: top;\n",
              "    }\n",
              "\n",
              "    .dataframe thead th {\n",
              "        text-align: right;\n",
              "    }\n",
              "</style>\n",
              "<table border=\"1\" class=\"dataframe\">\n",
              "  <thead>\n",
              "    <tr style=\"text-align: right;\">\n",
              "      <th></th>\n",
              "      <th>Quantity</th>\n",
              "      <th>UnitPrice</th>\n",
              "    </tr>\n",
              "  </thead>\n",
              "  <tbody>\n",
              "    <tr>\n",
              "      <th>count</th>\n",
              "      <td>284780.000000</td>\n",
              "      <td>284780.000000</td>\n",
              "    </tr>\n",
              "    <tr>\n",
              "      <th>mean</th>\n",
              "      <td>13.645885</td>\n",
              "      <td>3.451216</td>\n",
              "    </tr>\n",
              "    <tr>\n",
              "      <th>std</th>\n",
              "      <td>295.041223</td>\n",
              "      <td>78.399541</td>\n",
              "    </tr>\n",
              "    <tr>\n",
              "      <th>min</th>\n",
              "      <td>1.000000</td>\n",
              "      <td>0.000000</td>\n",
              "    </tr>\n",
              "    <tr>\n",
              "      <th>25%</th>\n",
              "      <td>2.000000</td>\n",
              "      <td>1.250000</td>\n",
              "    </tr>\n",
              "    <tr>\n",
              "      <th>50%</th>\n",
              "      <td>5.000000</td>\n",
              "      <td>1.950000</td>\n",
              "    </tr>\n",
              "    <tr>\n",
              "      <th>75%</th>\n",
              "      <td>12.000000</td>\n",
              "      <td>3.750000</td>\n",
              "    </tr>\n",
              "    <tr>\n",
              "      <th>max</th>\n",
              "      <td>80995.000000</td>\n",
              "      <td>38970.000000</td>\n",
              "    </tr>\n",
              "  </tbody>\n",
              "</table>\n",
              "</div>"
            ],
            "text/plain": [
              "            Quantity      UnitPrice\n",
              "count  284780.000000  284780.000000\n",
              "mean       13.645885       3.451216\n",
              "std       295.041223      78.399541\n",
              "min         1.000000       0.000000\n",
              "25%         2.000000       1.250000\n",
              "50%         5.000000       1.950000\n",
              "75%        12.000000       3.750000\n",
              "max     80995.000000   38970.000000"
            ]
          },
          "metadata": {
            "tags": []
          },
          "execution_count": 18
        }
      ]
    },
    {
      "cell_type": "code",
      "metadata": {
        "colab": {
          "base_uri": "https://localhost:8080/",
          "height": 284
        },
        "id": "NzcVVEoQzGnq",
        "outputId": "5d52e200-9226-4d3c-93af-e68ec3dc8a61"
      },
      "source": [
        "df[df['UnitPrice'] <= 0].describe()"
      ],
      "execution_count": null,
      "outputs": [
        {
          "output_type": "execute_result",
          "data": {
            "text/html": [
              "<div>\n",
              "<style scoped>\n",
              "    .dataframe tbody tr th:only-of-type {\n",
              "        vertical-align: middle;\n",
              "    }\n",
              "\n",
              "    .dataframe tbody tr th {\n",
              "        vertical-align: top;\n",
              "    }\n",
              "\n",
              "    .dataframe thead th {\n",
              "        text-align: right;\n",
              "    }\n",
              "</style>\n",
              "<table border=\"1\" class=\"dataframe\">\n",
              "  <thead>\n",
              "    <tr style=\"text-align: right;\">\n",
              "      <th></th>\n",
              "      <th>Quantity</th>\n",
              "      <th>UnitPrice</th>\n",
              "    </tr>\n",
              "  </thead>\n",
              "  <tbody>\n",
              "    <tr>\n",
              "      <th>count</th>\n",
              "      <td>34.000000</td>\n",
              "      <td>34.0</td>\n",
              "    </tr>\n",
              "    <tr>\n",
              "      <th>mean</th>\n",
              "      <td>400.411765</td>\n",
              "      <td>0.0</td>\n",
              "    </tr>\n",
              "    <tr>\n",
              "      <th>std</th>\n",
              "      <td>2145.979781</td>\n",
              "      <td>0.0</td>\n",
              "    </tr>\n",
              "    <tr>\n",
              "      <th>min</th>\n",
              "      <td>1.000000</td>\n",
              "      <td>0.0</td>\n",
              "    </tr>\n",
              "    <tr>\n",
              "      <th>25%</th>\n",
              "      <td>1.000000</td>\n",
              "      <td>0.0</td>\n",
              "    </tr>\n",
              "    <tr>\n",
              "      <th>50%</th>\n",
              "      <td>4.000000</td>\n",
              "      <td>0.0</td>\n",
              "    </tr>\n",
              "    <tr>\n",
              "      <th>75%</th>\n",
              "      <td>24.000000</td>\n",
              "      <td>0.0</td>\n",
              "    </tr>\n",
              "    <tr>\n",
              "      <th>max</th>\n",
              "      <td>12540.000000</td>\n",
              "      <td>0.0</td>\n",
              "    </tr>\n",
              "  </tbody>\n",
              "</table>\n",
              "</div>"
            ],
            "text/plain": [
              "           Quantity  UnitPrice\n",
              "count     34.000000       34.0\n",
              "mean     400.411765        0.0\n",
              "std     2145.979781        0.0\n",
              "min        1.000000        0.0\n",
              "25%        1.000000        0.0\n",
              "50%        4.000000        0.0\n",
              "75%       24.000000        0.0\n",
              "max    12540.000000        0.0"
            ]
          },
          "metadata": {
            "tags": []
          },
          "execution_count": 19
        }
      ]
    },
    {
      "cell_type": "code",
      "metadata": {
        "colab": {
          "base_uri": "https://localhost:8080/",
          "height": 284
        },
        "id": "q3_VM16V1wIM",
        "outputId": "c6dad871-730c-4b0f-fc44-9b38ea11459e"
      },
      "source": [
        "df = df[df['UnitPrice'] > 0]\n",
        "df.describe()"
      ],
      "execution_count": null,
      "outputs": [
        {
          "output_type": "execute_result",
          "data": {
            "text/html": [
              "<div>\n",
              "<style scoped>\n",
              "    .dataframe tbody tr th:only-of-type {\n",
              "        vertical-align: middle;\n",
              "    }\n",
              "\n",
              "    .dataframe tbody tr th {\n",
              "        vertical-align: top;\n",
              "    }\n",
              "\n",
              "    .dataframe thead th {\n",
              "        text-align: right;\n",
              "    }\n",
              "</style>\n",
              "<table border=\"1\" class=\"dataframe\">\n",
              "  <thead>\n",
              "    <tr style=\"text-align: right;\">\n",
              "      <th></th>\n",
              "      <th>Quantity</th>\n",
              "      <th>UnitPrice</th>\n",
              "    </tr>\n",
              "  </thead>\n",
              "  <tbody>\n",
              "    <tr>\n",
              "      <th>count</th>\n",
              "      <td>284746.000000</td>\n",
              "      <td>284746.000000</td>\n",
              "    </tr>\n",
              "    <tr>\n",
              "      <th>mean</th>\n",
              "      <td>13.599703</td>\n",
              "      <td>3.451628</td>\n",
              "    </tr>\n",
              "    <tr>\n",
              "      <th>std</th>\n",
              "      <td>294.122660</td>\n",
              "      <td>78.404213</td>\n",
              "    </tr>\n",
              "    <tr>\n",
              "      <th>min</th>\n",
              "      <td>1.000000</td>\n",
              "      <td>0.001000</td>\n",
              "    </tr>\n",
              "    <tr>\n",
              "      <th>25%</th>\n",
              "      <td>2.000000</td>\n",
              "      <td>1.250000</td>\n",
              "    </tr>\n",
              "    <tr>\n",
              "      <th>50%</th>\n",
              "      <td>5.000000</td>\n",
              "      <td>1.950000</td>\n",
              "    </tr>\n",
              "    <tr>\n",
              "      <th>75%</th>\n",
              "      <td>12.000000</td>\n",
              "      <td>3.750000</td>\n",
              "    </tr>\n",
              "    <tr>\n",
              "      <th>max</th>\n",
              "      <td>80995.000000</td>\n",
              "      <td>38970.000000</td>\n",
              "    </tr>\n",
              "  </tbody>\n",
              "</table>\n",
              "</div>"
            ],
            "text/plain": [
              "            Quantity      UnitPrice\n",
              "count  284746.000000  284746.000000\n",
              "mean       13.599703       3.451628\n",
              "std       294.122660      78.404213\n",
              "min         1.000000       0.001000\n",
              "25%         2.000000       1.250000\n",
              "50%         5.000000       1.950000\n",
              "75%        12.000000       3.750000\n",
              "max     80995.000000   38970.000000"
            ]
          },
          "metadata": {
            "tags": []
          },
          "execution_count": 20
        }
      ]
    },
    {
      "cell_type": "code",
      "metadata": {
        "colab": {
          "base_uri": "https://localhost:8080/",
          "height": 284
        },
        "id": "K23cSjr118ky",
        "outputId": "e600db87-2686-4549-943e-48f98e7dcf0d"
      },
      "source": [
        "temp = df[df['UnitPrice'] < 0.06].describe()\n",
        "temp"
      ],
      "execution_count": null,
      "outputs": [
        {
          "output_type": "execute_result",
          "data": {
            "text/html": [
              "<div>\n",
              "<style scoped>\n",
              "    .dataframe tbody tr th:only-of-type {\n",
              "        vertical-align: middle;\n",
              "    }\n",
              "\n",
              "    .dataframe tbody tr th {\n",
              "        vertical-align: top;\n",
              "    }\n",
              "\n",
              "    .dataframe thead th {\n",
              "        text-align: right;\n",
              "    }\n",
              "</style>\n",
              "<table border=\"1\" class=\"dataframe\">\n",
              "  <thead>\n",
              "    <tr style=\"text-align: right;\">\n",
              "      <th></th>\n",
              "      <th>Quantity</th>\n",
              "      <th>UnitPrice</th>\n",
              "    </tr>\n",
              "  </thead>\n",
              "  <tbody>\n",
              "    <tr>\n",
              "      <th>count</th>\n",
              "      <td>48.000000</td>\n",
              "      <td>48.000000</td>\n",
              "    </tr>\n",
              "    <tr>\n",
              "      <th>mean</th>\n",
              "      <td>127.583333</td>\n",
              "      <td>0.036125</td>\n",
              "    </tr>\n",
              "    <tr>\n",
              "      <th>std</th>\n",
              "      <td>149.970470</td>\n",
              "      <td>0.011544</td>\n",
              "    </tr>\n",
              "    <tr>\n",
              "      <th>min</th>\n",
              "      <td>1.000000</td>\n",
              "      <td>0.001000</td>\n",
              "    </tr>\n",
              "    <tr>\n",
              "      <th>25%</th>\n",
              "      <td>100.000000</td>\n",
              "      <td>0.040000</td>\n",
              "    </tr>\n",
              "    <tr>\n",
              "      <th>50%</th>\n",
              "      <td>100.000000</td>\n",
              "      <td>0.040000</td>\n",
              "    </tr>\n",
              "    <tr>\n",
              "      <th>75%</th>\n",
              "      <td>100.000000</td>\n",
              "      <td>0.040000</td>\n",
              "    </tr>\n",
              "    <tr>\n",
              "      <th>max</th>\n",
              "      <td>900.000000</td>\n",
              "      <td>0.040000</td>\n",
              "    </tr>\n",
              "  </tbody>\n",
              "</table>\n",
              "</div>"
            ],
            "text/plain": [
              "         Quantity  UnitPrice\n",
              "count   48.000000  48.000000\n",
              "mean   127.583333   0.036125\n",
              "std    149.970470   0.011544\n",
              "min      1.000000   0.001000\n",
              "25%    100.000000   0.040000\n",
              "50%    100.000000   0.040000\n",
              "75%    100.000000   0.040000\n",
              "max    900.000000   0.040000"
            ]
          },
          "metadata": {
            "tags": []
          },
          "execution_count": 21
        }
      ]
    },
    {
      "cell_type": "code",
      "metadata": {
        "colab": {
          "base_uri": "https://localhost:8080/",
          "height": 225
        },
        "id": "2SovYZb12FbP",
        "outputId": "982348c8-f205-48bb-f63d-21ae0a0b2058"
      },
      "source": [
        "df['Sales'] = df['Quantity'] * df['UnitPrice']\n",
        "df.head()"
      ],
      "execution_count": null,
      "outputs": [
        {
          "output_type": "execute_result",
          "data": {
            "text/html": [
              "<div>\n",
              "<style scoped>\n",
              "    .dataframe tbody tr th:only-of-type {\n",
              "        vertical-align: middle;\n",
              "    }\n",
              "\n",
              "    .dataframe tbody tr th {\n",
              "        vertical-align: top;\n",
              "    }\n",
              "\n",
              "    .dataframe thead th {\n",
              "        text-align: right;\n",
              "    }\n",
              "</style>\n",
              "<table border=\"1\" class=\"dataframe\">\n",
              "  <thead>\n",
              "    <tr style=\"text-align: right;\">\n",
              "      <th></th>\n",
              "      <th>InvoiceNo</th>\n",
              "      <th>StockCode</th>\n",
              "      <th>Description</th>\n",
              "      <th>Quantity</th>\n",
              "      <th>UnitPrice</th>\n",
              "      <th>Country</th>\n",
              "      <th>Sales</th>\n",
              "    </tr>\n",
              "    <tr>\n",
              "      <th>InvoiceDate</th>\n",
              "      <th></th>\n",
              "      <th></th>\n",
              "      <th></th>\n",
              "      <th></th>\n",
              "      <th></th>\n",
              "      <th></th>\n",
              "      <th></th>\n",
              "    </tr>\n",
              "  </thead>\n",
              "  <tbody>\n",
              "    <tr>\n",
              "      <th>2010-12-01 08:26:00</th>\n",
              "      <td>0</td>\n",
              "      <td>755</td>\n",
              "      <td>1444</td>\n",
              "      <td>6</td>\n",
              "      <td>4.25</td>\n",
              "      <td>35</td>\n",
              "      <td>25.50</td>\n",
              "    </tr>\n",
              "    <tr>\n",
              "      <th>2010-12-01 08:26:00</th>\n",
              "      <td>0</td>\n",
              "      <td>2802</td>\n",
              "      <td>2776</td>\n",
              "      <td>6</td>\n",
              "      <td>3.39</td>\n",
              "      <td>35</td>\n",
              "      <td>20.34</td>\n",
              "    </tr>\n",
              "    <tr>\n",
              "      <th>2010-12-01 08:26:00</th>\n",
              "      <td>0</td>\n",
              "      <td>2855</td>\n",
              "      <td>861</td>\n",
              "      <td>8</td>\n",
              "      <td>2.75</td>\n",
              "      <td>35</td>\n",
              "      <td>22.00</td>\n",
              "    </tr>\n",
              "    <tr>\n",
              "      <th>2010-12-01 08:26:00</th>\n",
              "      <td>0</td>\n",
              "      <td>3249</td>\n",
              "      <td>3716</td>\n",
              "      <td>6</td>\n",
              "      <td>2.55</td>\n",
              "      <td>35</td>\n",
              "      <td>15.30</td>\n",
              "    </tr>\n",
              "    <tr>\n",
              "      <th>2010-12-01 08:26:00</th>\n",
              "      <td>0</td>\n",
              "      <td>2803</td>\n",
              "      <td>1813</td>\n",
              "      <td>6</td>\n",
              "      <td>3.39</td>\n",
              "      <td>35</td>\n",
              "      <td>20.34</td>\n",
              "    </tr>\n",
              "  </tbody>\n",
              "</table>\n",
              "</div>"
            ],
            "text/plain": [
              "                    InvoiceNo StockCode Description  ...  UnitPrice  Country  Sales\n",
              "InvoiceDate                                          ...                           \n",
              "2010-12-01 08:26:00         0       755        1444  ...       4.25       35  25.50\n",
              "2010-12-01 08:26:00         0      2802        2776  ...       3.39       35  20.34\n",
              "2010-12-01 08:26:00         0      2855         861  ...       2.75       35  22.00\n",
              "2010-12-01 08:26:00         0      3249        3716  ...       2.55       35  15.30\n",
              "2010-12-01 08:26:00         0      2803        1813  ...       3.39       35  20.34\n",
              "\n",
              "[5 rows x 7 columns]"
            ]
          },
          "metadata": {
            "tags": []
          },
          "execution_count": 22
        }
      ]
    },
    {
      "cell_type": "code",
      "metadata": {
        "id": "Bs2TFo-H2u0A"
      },
      "source": [
        ""
      ],
      "execution_count": null,
      "outputs": []
    },
    {
      "cell_type": "markdown",
      "metadata": {
        "id": "3dzFCcrD2xrR"
      },
      "source": [
        "Visual EDA "
      ]
    },
    {
      "cell_type": "code",
      "metadata": {
        "colab": {
          "base_uri": "https://localhost:8080/",
          "height": 407
        },
        "id": "2BDHtEvv20zu",
        "outputId": "bf11543d-6209-4d6b-ae12-ef12d61a52a0"
      },
      "source": [
        "plt.figure(figsize=(3,6))\n",
        "sns.countplot(df[df['Country'] == '35']['Country'])\n",
        "plt.xticks(rotation=90)"
      ],
      "execution_count": null,
      "outputs": [
        {
          "output_type": "execute_result",
          "data": {
            "text/plain": [
              "(array([0]), <a list of 1 Text major ticklabel objects>)"
            ]
          },
          "metadata": {
            "tags": []
          },
          "execution_count": 23
        },
        {
          "output_type": "display_data",
          "data": {
            "image/png": "[encoded data removed]",
            "text/plain": [
              "<Figure size 216x432 with 1 Axes>"
            ]
          },
          "metadata": {
            "tags": [],
            "needs_background": "light"
          }
        }
      ]
    },
    {
      "cell_type": "code",
      "metadata": {
        "colab": {
          "base_uri": "https://localhost:8080/",
          "height": 441
        },
        "id": "T-oQNV-6236O",
        "outputId": "63e58197-cbfd-4fe3-a360-ec35361a8fb6"
      },
      "source": [
        "plt.figure(figsize=(18,6))\n",
        "sns.countplot(df[df['Country'] != '35']['Country'])\n",
        "plt.xticks(rotation=90)"
      ],
      "execution_count": null,
      "outputs": [
        {
          "output_type": "execute_result",
          "data": {
            "text/plain": [
              "(array([ 0,  1,  2,  3,  4,  5,  6,  7,  8,  9, 10, 11, 12, 13, 14, 15, 16,\n",
              "        17, 18, 19, 20, 21, 22, 23, 24, 25, 26, 27, 28, 29, 30, 31, 32, 33,\n",
              "        34, 35]), <a list of 36 Text major ticklabel objects>)"
            ]
          },
          "metadata": {
            "tags": []
          },
          "execution_count": 24
        },
        {
          "output_type": "display_data",
          "data": {
            "image/png": "[encoded data removed]",
            "text/plain": [
              "<Figure size 1296x432 with 1 Axes>"
            ]
          },
          "metadata": {
            "tags": [],
            "needs_background": "light"
          }
        }
      ]
    },
    {
      "cell_type": "code",
      "metadata": {
        "colab": {
          "base_uri": "https://localhost:8080/"
        },
        "id": "CtfKv6Q8282B",
        "outputId": "3963c5dc-a595-43af-adf5-e2b588e6c891"
      },
      "source": [
        "base_count = df[df['Country'] == '35']['Country'].count()\n",
        "all_count = df['Country'].count()\n",
        "base_perc = base_count/all_count\n",
        "print(str('{0:.2f}%').format(base_perc*100))"
      ],
      "execution_count": null,
      "outputs": [
        {
          "output_type": "stream",
          "text": [
            "88.93%\n"
          ],
          "name": "stdout"
        }
      ]
    },
    {
      "cell_type": "markdown",
      "metadata": {
        "id": "6JqLMt0V3MY_"
      },
      "source": [
        "From above plots and calculations we can see that vast majority of sales were made in \"35\" and just 11% went abroad. We can say our dataset is skewed to the \"35\" side :D."
      ]
    },
    {
      "cell_type": "code",
      "metadata": {
        "colab": {
          "base_uri": "https://localhost:8080/",
          "height": 367
        },
        "id": "KhnWxQlG3IMl",
        "outputId": "38f907e0-19a2-45f5-e02c-ad9520b51df3"
      },
      "source": [
        "plt.figure(figsize=(18,6))\n",
        "plt.scatter(x=df.index, y=df['Sales'])"
      ],
      "execution_count": null,
      "outputs": [
        {
          "output_type": "execute_result",
          "data": {
            "text/plain": [
              "<matplotlib.collections.PathCollection at 0x7f088cc310f0>"
            ]
          },
          "metadata": {
            "tags": []
          },
          "execution_count": 26
        },
        {
          "output_type": "display_data",
          "data": {
            "image/png": "[encoded data removed]",
            "text/plain": [
              "<Figure size 1296x432 with 1 Axes>"
            ]
          },
          "metadata": {
            "tags": [],
            "needs_background": "light"
          }
        }
      ]
    },
    {
      "cell_type": "markdown",
      "metadata": {
        "id": "4WXqV9bC8sMf"
      },
      "source": [
        "Let's remove obvious outliers"
      ]
    },
    {
      "cell_type": "code",
      "metadata": {
        "colab": {
          "base_uri": "https://localhost:8080/",
          "height": 436
        },
        "id": "Zsye7EO33WzF",
        "outputId": "95cfe6ed-5d89-4898-bd40-a3c577b60436"
      },
      "source": [
        "df = df[df['Sales'] < 25000]\n",
        "plt.figure(figsize=(18,6))\n",
        "plt.scatter(x=df.index, y=df['Sales'])\n",
        "plt.xticks(rotation=90)"
      ],
      "execution_count": null,
      "outputs": [
        {
          "output_type": "execute_result",
          "data": {
            "text/plain": [
              "(array([734138., 734197., 734258., 734319., 734381., 734442.]),\n",
              " <a list of 6 Text major ticklabel objects>)"
            ]
          },
          "metadata": {
            "tags": []
          },
          "execution_count": 27
        },
        {
          "output_type": "display_data",
          "data": {
            "image/png": "[encoded data removed]",
            "text/plain": [
              "<Figure size 1296x432 with 1 Axes>"
            ]
          },
          "metadata": {
            "tags": [],
            "needs_background": "light"
          }
        }
      ]
    },
    {
      "cell_type": "markdown",
      "metadata": {
        "id": "LnG8umrr84V2"
      },
      "source": [
        "After removing obvious outliers we still see some values that are out of normal distribution. To understand better the distribution of our data let's check out different percentiles of our numeric features."
      ]
    },
    {
      "cell_type": "code",
      "metadata": {
        "colab": {
          "base_uri": "https://localhost:8080/",
          "height": 195
        },
        "id": "8ZO0mVEL8t_n",
        "outputId": "a918f983-093f-4c3b-a78c-9a2bef18d02a"
      },
      "source": [
        "df.quantile([0.05, 0.95, 0.98, 0.99, 0.999])"
      ],
      "execution_count": null,
      "outputs": [
        {
          "output_type": "execute_result",
          "data": {
            "text/html": [
              "<div>\n",
              "<style scoped>\n",
              "    .dataframe tbody tr th:only-of-type {\n",
              "        vertical-align: middle;\n",
              "    }\n",
              "\n",
              "    .dataframe tbody tr th {\n",
              "        vertical-align: top;\n",
              "    }\n",
              "\n",
              "    .dataframe thead th {\n",
              "        text-align: right;\n",
              "    }\n",
              "</style>\n",
              "<table border=\"1\" class=\"dataframe\">\n",
              "  <thead>\n",
              "    <tr style=\"text-align: right;\">\n",
              "      <th></th>\n",
              "      <th>Quantity</th>\n",
              "      <th>UnitPrice</th>\n",
              "      <th>Sales</th>\n",
              "    </tr>\n",
              "  </thead>\n",
              "  <tbody>\n",
              "    <tr>\n",
              "      <th>0.050</th>\n",
              "      <td>1.0</td>\n",
              "      <td>0.42</td>\n",
              "      <td>1.25</td>\n",
              "    </tr>\n",
              "    <tr>\n",
              "      <th>0.950</th>\n",
              "      <td>36.0</td>\n",
              "      <td>8.50</td>\n",
              "      <td>67.50</td>\n",
              "    </tr>\n",
              "    <tr>\n",
              "      <th>0.980</th>\n",
              "      <td>96.0</td>\n",
              "      <td>12.75</td>\n",
              "      <td>136.00</td>\n",
              "    </tr>\n",
              "    <tr>\n",
              "      <th>0.990</th>\n",
              "      <td>120.0</td>\n",
              "      <td>15.00</td>\n",
              "      <td>204.00</td>\n",
              "    </tr>\n",
              "    <tr>\n",
              "      <th>0.999</th>\n",
              "      <td>504.0</td>\n",
              "      <td>50.00</td>\n",
              "      <td>900.00</td>\n",
              "    </tr>\n",
              "  </tbody>\n",
              "</table>\n",
              "</div>"
            ],
            "text/plain": [
              "       Quantity  UnitPrice   Sales\n",
              "0.050       1.0       0.42    1.25\n",
              "0.950      36.0       8.50   67.50\n",
              "0.980      96.0      12.75  136.00\n",
              "0.990     120.0      15.00  204.00\n",
              "0.999     504.0      50.00  900.00"
            ]
          },
          "metadata": {
            "tags": []
          },
          "execution_count": 28
        }
      ]
    },
    {
      "cell_type": "markdown",
      "metadata": {
        "id": "Sk1a6O9H9XAB"
      },
      "source": [
        "We can see that if we remove top 2% of our data points we will get rid of absolute outliers and will have more balaced dataset."
      ]
    },
    {
      "cell_type": "code",
      "metadata": {
        "colab": {
          "base_uri": "https://localhost:8080/",
          "height": 328
        },
        "id": "cDYkI-AP89ig",
        "outputId": "c1721618-2fc9-4c4e-e634-73ae0c6f48dc"
      },
      "source": [
        "df_quantile = df[df['Sales'] < 150]\n",
        "plt.scatter(x=df_quantile.index, y=df_quantile['Sales'])\n",
        "plt.xticks(rotation=90)"
      ],
      "execution_count": null,
      "outputs": [
        {
          "output_type": "execute_result",
          "data": {
            "text/plain": [
              "(array([734138., 734197., 734258., 734319., 734381., 734442.]),\n",
              " <a list of 6 Text major ticklabel objects>)"
            ]
          },
          "metadata": {
            "tags": []
          },
          "execution_count": 29
        },
        {
          "output_type": "display_data",
          "data": {
            "image/png": "[encoded data removed]",
            "text/plain": [
              "<Figure size 432x288 with 1 Axes>"
            ]
          },
          "metadata": {
            "tags": [],
            "needs_background": "light"
          }
        }
      ]
    },
    {
      "cell_type": "code",
      "metadata": {
        "colab": {
          "base_uri": "https://localhost:8080/",
          "height": 284
        },
        "id": "r3d2hPR79ie6",
        "outputId": "a36b21f7-60f3-4d2d-c0cf-740f5f82a91a"
      },
      "source": [
        "df_quantile.describe()"
      ],
      "execution_count": null,
      "outputs": [
        {
          "output_type": "execute_result",
          "data": {
            "text/html": [
              "<div>\n",
              "<style scoped>\n",
              "    .dataframe tbody tr th:only-of-type {\n",
              "        vertical-align: middle;\n",
              "    }\n",
              "\n",
              "    .dataframe tbody tr th {\n",
              "        vertical-align: top;\n",
              "    }\n",
              "\n",
              "    .dataframe thead th {\n",
              "        text-align: right;\n",
              "    }\n",
              "</style>\n",
              "<table border=\"1\" class=\"dataframe\">\n",
              "  <thead>\n",
              "    <tr style=\"text-align: right;\">\n",
              "      <th></th>\n",
              "      <th>Quantity</th>\n",
              "      <th>UnitPrice</th>\n",
              "      <th>Sales</th>\n",
              "    </tr>\n",
              "  </thead>\n",
              "  <tbody>\n",
              "    <tr>\n",
              "      <th>count</th>\n",
              "      <td>279723.000000</td>\n",
              "      <td>279723.000000</td>\n",
              "      <td>279723.000000</td>\n",
              "    </tr>\n",
              "    <tr>\n",
              "      <th>mean</th>\n",
              "      <td>9.851954</td>\n",
              "      <td>2.921753</td>\n",
              "      <td>15.890253</td>\n",
              "    </tr>\n",
              "    <tr>\n",
              "      <th>std</th>\n",
              "      <td>19.048995</td>\n",
              "      <td>3.653550</td>\n",
              "      <td>18.862580</td>\n",
              "    </tr>\n",
              "    <tr>\n",
              "      <th>min</th>\n",
              "      <td>1.000000</td>\n",
              "      <td>0.001000</td>\n",
              "      <td>0.001000</td>\n",
              "    </tr>\n",
              "    <tr>\n",
              "      <th>25%</th>\n",
              "      <td>2.000000</td>\n",
              "      <td>1.250000</td>\n",
              "      <td>4.350000</td>\n",
              "    </tr>\n",
              "    <tr>\n",
              "      <th>50%</th>\n",
              "      <td>5.000000</td>\n",
              "      <td>1.950000</td>\n",
              "      <td>10.950000</td>\n",
              "    </tr>\n",
              "    <tr>\n",
              "      <th>75%</th>\n",
              "      <td>12.000000</td>\n",
              "      <td>3.750000</td>\n",
              "      <td>18.000000</td>\n",
              "    </tr>\n",
              "    <tr>\n",
              "      <th>max</th>\n",
              "      <td>2400.000000</td>\n",
              "      <td>145.000000</td>\n",
              "      <td>149.850000</td>\n",
              "    </tr>\n",
              "  </tbody>\n",
              "</table>\n",
              "</div>"
            ],
            "text/plain": [
              "            Quantity      UnitPrice          Sales\n",
              "count  279723.000000  279723.000000  279723.000000\n",
              "mean        9.851954       2.921753      15.890253\n",
              "std        19.048995       3.653550      18.862580\n",
              "min         1.000000       0.001000       0.001000\n",
              "25%         2.000000       1.250000       4.350000\n",
              "50%         5.000000       1.950000      10.950000\n",
              "75%        12.000000       3.750000      18.000000\n",
              "max      2400.000000     145.000000     149.850000"
            ]
          },
          "metadata": {
            "tags": []
          },
          "execution_count": 30
        }
      ]
    },
    {
      "cell_type": "markdown",
      "metadata": {
        "id": "YHRn40XG-IX2"
      },
      "source": [
        "ooks like our data is almost ready for modelling. We performed a clean up, we removed outliers that were disturbing the balance of our dataset, we removed invalid records - now our data looks much better! and it doesn't lose it's value."
      ]
    },
    {
      "cell_type": "markdown",
      "metadata": {
        "id": "3S5Wl8MJ-K8v"
      },
      "source": [
        "Visually checking distribution of numeric features"
      ]
    },
    {
      "cell_type": "code",
      "metadata": {
        "colab": {
          "base_uri": "https://localhost:8080/",
          "height": 279
        },
        "id": "NDkIH7jX99cy",
        "outputId": "fb118050-b319-44d7-9f03-80788514c003"
      },
      "source": [
        "plt.figure(figsize=(12,4))\n",
        "sns.distplot(df_quantile[df_quantile['UnitPrice'] < 10]['UnitPrice'].values, kde=True, bins=10)"
      ],
      "execution_count": null,
      "outputs": [
        {
          "output_type": "execute_result",
          "data": {
            "text/plain": [
              "<matplotlib.axes._subplots.AxesSubplot at 0x7f088cd9b160>"
            ]
          },
          "metadata": {
            "tags": []
          },
          "execution_count": 31
        },
        {
          "output_type": "display_data",
          "data": {
            "image/png": "[encoded data removed]",
            "text/plain": [
              "<Figure size 864x288 with 1 Axes>"
            ]
          },
          "metadata": {
            "tags": [],
            "needs_background": "light"
          }
        }
      ]
    },
    {
      "cell_type": "code",
      "metadata": {
        "colab": {
          "base_uri": "https://localhost:8080/",
          "height": 279
        },
        "id": "LU_5qdb2-MnT",
        "outputId": "0a856133-d0fb-499e-f964-f04e26da848a"
      },
      "source": [
        "plt.figure(figsize=(12,4))\n",
        "sns.distplot(df_quantile[df_quantile['UnitPrice'] < 5]['UnitPrice'].values, kde=True, bins=10, color='green')"
      ],
      "execution_count": null,
      "outputs": [
        {
          "output_type": "execute_result",
          "data": {
            "text/plain": [
              "<matplotlib.axes._subplots.AxesSubplot at 0x7f088d3c42b0>"
            ]
          },
          "metadata": {
            "tags": []
          },
          "execution_count": 32
        },
        {
          "output_type": "display_data",
          "data": {
            "image/png": "[encoded data removed]",
            "text/plain": [
              "<Figure size 864x288 with 1 Axes>"
            ]
          },
          "metadata": {
            "tags": [],
            "needs_background": "light"
          }
        }
      ]
    },
    {
      "cell_type": "markdown",
      "metadata": {
        "id": "JVOc_Y85-gM2"
      },
      "source": [
        "From these histograms we can infer that vast majority of items sold in this store has a low price range - 0 to 3 units."
      ]
    },
    {
      "cell_type": "code",
      "metadata": {
        "colab": {
          "base_uri": "https://localhost:8080/",
          "height": 296
        },
        "id": "VrmtvKQH-TY3",
        "outputId": "48522da3-2e90-4903-fc1f-12ea6acb4b84"
      },
      "source": [
        "plt.figure(figsize=(12,4))\n",
        "sns.distplot(df_quantile[df_quantile['Quantity'] <= 30]['Quantity'], kde=True, bins=10, color='red')"
      ],
      "execution_count": null,
      "outputs": [
        {
          "output_type": "execute_result",
          "data": {
            "text/plain": [
              "<matplotlib.axes._subplots.AxesSubplot at 0x7f088c9d5c50>"
            ]
          },
          "metadata": {
            "tags": []
          },
          "execution_count": 33
        },
        {
          "output_type": "display_data",
          "data": {
            "image/png": "[encoded data removed]",
            "text/plain": [
              "<Figure size 864x288 with 1 Axes>"
            ]
          },
          "metadata": {
            "tags": [],
            "needs_background": "light"
          }
        }
      ]
    },
    {
      "cell_type": "code",
      "metadata": {
        "colab": {
          "base_uri": "https://localhost:8080/",
          "height": 300
        },
        "id": "rRN9LCIm-xIr",
        "outputId": "444dff90-c95c-4db9-fe2f-58a1951be20d"
      },
      "source": [
        "plt.figure(figsize=(12,4))\n",
        "sns.distplot(df_quantile[df_quantile['Quantity'] <= 15]['Quantity'], kde=True, bins=10, color='orange')"
      ],
      "execution_count": null,
      "outputs": [
        {
          "output_type": "execute_result",
          "data": {
            "text/plain": [
              "<matplotlib.axes._subplots.AxesSubplot at 0x7f088d31aa20>"
            ]
          },
          "metadata": {
            "tags": []
          },
          "execution_count": 34
        },
        {
          "output_type": "display_data",
          "data": {
            "image/png": "[encoded data removed]",
            "text/plain": [
              "<Figure size 864x288 with 1 Axes>"
            ]
          },
          "metadata": {
            "tags": [],
            "needs_background": "light"
          }
        }
      ]
    },
    {
      "cell_type": "markdown",
      "metadata": {
        "id": "2tSyiSjM-9wB"
      },
      "source": [
        "From these histograms we that people bought normally 1-5 items or 10-12 - maybe there were some kind of offers for sets?"
      ]
    },
    {
      "cell_type": "code",
      "metadata": {
        "colab": {
          "base_uri": "https://localhost:8080/",
          "height": 296
        },
        "id": "2VlDmg9l-0QE",
        "outputId": "a19884a8-6a0c-4faa-d1a1-e0fdfcfec336"
      },
      "source": [
        "plt.figure(figsize=(12,4))\n",
        "sns.distplot(df_quantile[df_quantile['Sales'] < 60]['Sales'], kde=True, bins=10, color='purple')"
      ],
      "execution_count": null,
      "outputs": [
        {
          "output_type": "execute_result",
          "data": {
            "text/plain": [
              "<matplotlib.axes._subplots.AxesSubplot at 0x7f0888985908>"
            ]
          },
          "metadata": {
            "tags": []
          },
          "execution_count": 35
        },
        {
          "output_type": "display_data",
          "data": {
            "image/png": "[encoded data removed]",
            "text/plain": [
              "<Figure size 864x288 with 1 Axes>"
            ]
          },
          "metadata": {
            "tags": [],
            "needs_background": "light"
          }
        }
      ]
    },
    {
      "cell_type": "code",
      "metadata": {
        "colab": {
          "base_uri": "https://localhost:8080/",
          "height": 297
        },
        "id": "DCuKvDmM_Aj2",
        "outputId": "ae6c668e-67fc-4fd9-efb4-5a60c932eb09"
      },
      "source": [
        "plt.figure(figsize=(12,4))\n",
        "sns.distplot(df_quantile[df_quantile['Sales'] < 30]['Sales'], kde=True, bins=10, color='grey')\n"
      ],
      "execution_count": null,
      "outputs": [
        {
          "output_type": "execute_result",
          "data": {
            "text/plain": [
              "<matplotlib.axes._subplots.AxesSubplot at 0x7f0888985198>"
            ]
          },
          "metadata": {
            "tags": []
          },
          "execution_count": 36
        },
        {
          "output_type": "display_data",
          "data": {
            "image/png": "[encoded data removed]",
            "text/plain": [
              "<Figure size 864x288 with 1 Axes>"
            ]
          },
          "metadata": {
            "tags": [],
            "needs_background": "light"
          }
        }
      ]
    },
    {
      "cell_type": "markdown",
      "metadata": {
        "id": "I5GH2VGC_Rm2"
      },
      "source": [
        "From these histograms we can understand that majority of sales per order were in range 1-15 pounds each."
      ]
    },
    {
      "cell_type": "markdown",
      "metadata": {
        "id": "a1RR2O6M_biF"
      },
      "source": [
        "Analysing sales over time"
      ]
    },
    {
      "cell_type": "code",
      "metadata": {
        "colab": {
          "base_uri": "https://localhost:8080/",
          "height": 225
        },
        "id": "ZMb2yDsT_Dmb",
        "outputId": "c433c51c-5b92-4655-c19a-e28e55e04b96"
      },
      "source": [
        "df_ts = df[['Sales']]\n",
        "df_ts.head()"
      ],
      "execution_count": null,
      "outputs": [
        {
          "output_type": "execute_result",
          "data": {
            "text/html": [
              "<div>\n",
              "<style scoped>\n",
              "    .dataframe tbody tr th:only-of-type {\n",
              "        vertical-align: middle;\n",
              "    }\n",
              "\n",
              "    .dataframe tbody tr th {\n",
              "        vertical-align: top;\n",
              "    }\n",
              "\n",
              "    .dataframe thead th {\n",
              "        text-align: right;\n",
              "    }\n",
              "</style>\n",
              "<table border=\"1\" class=\"dataframe\">\n",
              "  <thead>\n",
              "    <tr style=\"text-align: right;\">\n",
              "      <th></th>\n",
              "      <th>Sales</th>\n",
              "    </tr>\n",
              "    <tr>\n",
              "      <th>InvoiceDate</th>\n",
              "      <th></th>\n",
              "    </tr>\n",
              "  </thead>\n",
              "  <tbody>\n",
              "    <tr>\n",
              "      <th>2010-12-01 08:26:00</th>\n",
              "      <td>25.50</td>\n",
              "    </tr>\n",
              "    <tr>\n",
              "      <th>2010-12-01 08:26:00</th>\n",
              "      <td>20.34</td>\n",
              "    </tr>\n",
              "    <tr>\n",
              "      <th>2010-12-01 08:26:00</th>\n",
              "      <td>22.00</td>\n",
              "    </tr>\n",
              "    <tr>\n",
              "      <th>2010-12-01 08:26:00</th>\n",
              "      <td>15.30</td>\n",
              "    </tr>\n",
              "    <tr>\n",
              "      <th>2010-12-01 08:26:00</th>\n",
              "      <td>20.34</td>\n",
              "    </tr>\n",
              "  </tbody>\n",
              "</table>\n",
              "</div>"
            ],
            "text/plain": [
              "                     Sales\n",
              "InvoiceDate               \n",
              "2010-12-01 08:26:00  25.50\n",
              "2010-12-01 08:26:00  20.34\n",
              "2010-12-01 08:26:00  22.00\n",
              "2010-12-01 08:26:00  15.30\n",
              "2010-12-01 08:26:00  20.34"
            ]
          },
          "metadata": {
            "tags": []
          },
          "execution_count": 37
        }
      ]
    },
    {
      "cell_type": "markdown",
      "metadata": {
        "id": "p8ZyXoOZ_jmN"
      },
      "source": [
        "As we can see every invoice has it's own timestamp (definitely based on time the order was made). We can resample time data by, for example weeks, and try see if there is any patterns in our sales."
      ]
    },
    {
      "cell_type": "code",
      "metadata": {
        "colab": {
          "base_uri": "https://localhost:8080/",
          "height": 324
        },
        "id": "K7XMIGJ7_eGe",
        "outputId": "410eeced-2b1a-4b88-d8af-c1adaa58cfa0"
      },
      "source": [
        "plt.figure(figsize=(18,6))\n",
        "df_resample = df_ts.resample('W').sum()\n",
        "df_resample.plot()"
      ],
      "execution_count": null,
      "outputs": [
        {
          "output_type": "execute_result",
          "data": {
            "text/plain": [
              "<matplotlib.axes._subplots.AxesSubplot at 0x7f08888749e8>"
            ]
          },
          "metadata": {
            "tags": []
          },
          "execution_count": 38
        },
        {
          "output_type": "display_data",
          "data": {
            "text/plain": [
              "<Figure size 1296x432 with 0 Axes>"
            ]
          },
          "metadata": {
            "tags": []
          }
        },
        {
          "output_type": "display_data",
          "data": {
            "image/png": "[encoded data removed]",
            "text/plain": [
              "<Figure size 432x288 with 1 Axes>"
            ]
          },
          "metadata": {
            "tags": [],
            "needs_background": "light"
          }
        }
      ]
    },
    {
      "cell_type": "markdown",
      "metadata": {
        "id": "Y-1myGg9_vcW"
      },
      "source": [
        "That week with 0 sales in January looks suspicious, let's check it closer"
      ]
    },
    {
      "cell_type": "code",
      "metadata": {
        "colab": {
          "base_uri": "https://localhost:8080/",
          "height": 343
        },
        "id": "5AuTNx-S_hjS",
        "outputId": "0d90fe49-8f79-4c74-ad6a-c177d3442b50"
      },
      "source": [
        "df_resample['12-2010':'01-2011']"
      ],
      "execution_count": null,
      "outputs": [
        {
          "output_type": "execute_result",
          "data": {
            "text/html": [
              "<div>\n",
              "<style scoped>\n",
              "    .dataframe tbody tr th:only-of-type {\n",
              "        vertical-align: middle;\n",
              "    }\n",
              "\n",
              "    .dataframe tbody tr th {\n",
              "        vertical-align: top;\n",
              "    }\n",
              "\n",
              "    .dataframe thead th {\n",
              "        text-align: right;\n",
              "    }\n",
              "</style>\n",
              "<table border=\"1\" class=\"dataframe\">\n",
              "  <thead>\n",
              "    <tr style=\"text-align: right;\">\n",
              "      <th></th>\n",
              "      <th>Sales</th>\n",
              "    </tr>\n",
              "    <tr>\n",
              "      <th>InvoiceDate</th>\n",
              "      <th></th>\n",
              "    </tr>\n",
              "  </thead>\n",
              "  <tbody>\n",
              "    <tr>\n",
              "      <th>2010-12-05</th>\n",
              "      <td>101857.11</td>\n",
              "    </tr>\n",
              "    <tr>\n",
              "      <th>2010-12-12</th>\n",
              "      <td>150269.56</td>\n",
              "    </tr>\n",
              "    <tr>\n",
              "      <th>2010-12-19</th>\n",
              "      <td>119460.43</td>\n",
              "    </tr>\n",
              "    <tr>\n",
              "      <th>2010-12-26</th>\n",
              "      <td>31857.53</td>\n",
              "    </tr>\n",
              "    <tr>\n",
              "      <th>2011-01-02</th>\n",
              "      <td>0.00</td>\n",
              "    </tr>\n",
              "    <tr>\n",
              "      <th>2011-01-09</th>\n",
              "      <td>84631.60</td>\n",
              "    </tr>\n",
              "    <tr>\n",
              "      <th>2011-01-16</th>\n",
              "      <td>102713.96</td>\n",
              "    </tr>\n",
              "    <tr>\n",
              "      <th>2011-01-23</th>\n",
              "      <td>70622.46</td>\n",
              "    </tr>\n",
              "    <tr>\n",
              "      <th>2011-01-30</th>\n",
              "      <td>78414.77</td>\n",
              "    </tr>\n",
              "  </tbody>\n",
              "</table>\n",
              "</div>"
            ],
            "text/plain": [
              "                 Sales\n",
              "InvoiceDate           \n",
              "2010-12-05   101857.11\n",
              "2010-12-12   150269.56\n",
              "2010-12-19   119460.43\n",
              "2010-12-26    31857.53\n",
              "2011-01-02        0.00\n",
              "2011-01-09    84631.60\n",
              "2011-01-16   102713.96\n",
              "2011-01-23    70622.46\n",
              "2011-01-30    78414.77"
            ]
          },
          "metadata": {
            "tags": []
          },
          "execution_count": 39
        }
      ]
    },
    {
      "cell_type": "markdown",
      "metadata": {
        "id": "evHeqv0y_0ml"
      },
      "source": [
        "Now it makes sense - possibly, during the New Year holidays period the store was closed and didn't process orders, that's why they didn't make any sales."
      ]
    },
    {
      "cell_type": "markdown",
      "metadata": {
        "id": "bI9oGTYN_2mu"
      },
      "source": [
        "Preparing data for modeling and feature creation"
      ]
    },
    {
      "cell_type": "markdown",
      "metadata": {
        "id": "cjM9IBZV_4pF"
      },
      "source": [
        "Now it comes the most fun part of the project - building a model. To do this we will need to create few more additional features to make our model more sophisticated."
      ]
    },
    {
      "cell_type": "code",
      "metadata": {
        "colab": {
          "base_uri": "https://localhost:8080/",
          "height": 284
        },
        "id": "gnMXqKEy_yU1",
        "outputId": "e8c6bc84-32e5-4522-edaa-025c4ac16288"
      },
      "source": [
        "df_clean = df[df['UnitPrice'] < 15]\n",
        "df_clean.describe()"
      ],
      "execution_count": null,
      "outputs": [
        {
          "output_type": "execute_result",
          "data": {
            "text/html": [
              "<div>\n",
              "<style scoped>\n",
              "    .dataframe tbody tr th:only-of-type {\n",
              "        vertical-align: middle;\n",
              "    }\n",
              "\n",
              "    .dataframe tbody tr th {\n",
              "        vertical-align: top;\n",
              "    }\n",
              "\n",
              "    .dataframe thead th {\n",
              "        text-align: right;\n",
              "    }\n",
              "</style>\n",
              "<table border=\"1\" class=\"dataframe\">\n",
              "  <thead>\n",
              "    <tr style=\"text-align: right;\">\n",
              "      <th></th>\n",
              "      <th>Quantity</th>\n",
              "      <th>UnitPrice</th>\n",
              "      <th>Sales</th>\n",
              "    </tr>\n",
              "  </thead>\n",
              "  <tbody>\n",
              "    <tr>\n",
              "      <th>count</th>\n",
              "      <td>281849.000000</td>\n",
              "      <td>281849.000000</td>\n",
              "      <td>281849.000000</td>\n",
              "    </tr>\n",
              "    <tr>\n",
              "      <th>mean</th>\n",
              "      <td>12.617810</td>\n",
              "      <td>2.733173</td>\n",
              "      <td>21.196198</td>\n",
              "    </tr>\n",
              "    <tr>\n",
              "      <th>std</th>\n",
              "      <td>42.303379</td>\n",
              "      <td>2.554944</td>\n",
              "      <td>71.248773</td>\n",
              "    </tr>\n",
              "    <tr>\n",
              "      <th>min</th>\n",
              "      <td>1.000000</td>\n",
              "      <td>0.001000</td>\n",
              "      <td>0.001000</td>\n",
              "    </tr>\n",
              "    <tr>\n",
              "      <th>25%</th>\n",
              "      <td>2.000000</td>\n",
              "      <td>1.250000</td>\n",
              "      <td>4.560000</td>\n",
              "    </tr>\n",
              "    <tr>\n",
              "      <th>50%</th>\n",
              "      <td>6.000000</td>\n",
              "      <td>1.950000</td>\n",
              "      <td>11.500000</td>\n",
              "    </tr>\n",
              "    <tr>\n",
              "      <th>75%</th>\n",
              "      <td>12.000000</td>\n",
              "      <td>3.750000</td>\n",
              "      <td>19.500000</td>\n",
              "    </tr>\n",
              "    <tr>\n",
              "      <th>max</th>\n",
              "      <td>4300.000000</td>\n",
              "      <td>14.960000</td>\n",
              "      <td>7144.720000</td>\n",
              "    </tr>\n",
              "  </tbody>\n",
              "</table>\n",
              "</div>"
            ],
            "text/plain": [
              "            Quantity      UnitPrice          Sales\n",
              "count  281849.000000  281849.000000  281849.000000\n",
              "mean       12.617810       2.733173      21.196198\n",
              "std        42.303379       2.554944      71.248773\n",
              "min         1.000000       0.001000       0.001000\n",
              "25%         2.000000       1.250000       4.560000\n",
              "50%         6.000000       1.950000      11.500000\n",
              "75%        12.000000       3.750000      19.500000\n",
              "max      4300.000000      14.960000    7144.720000"
            ]
          },
          "metadata": {
            "tags": []
          },
          "execution_count": 40
        }
      ]
    },
    {
      "cell_type": "code",
      "metadata": {
        "colab": {
          "base_uri": "https://localhost:8080/"
        },
        "id": "_fPvqIhT__mN",
        "outputId": "076c1b47-19b3-4dc5-c657-d87393db38a4"
      },
      "source": [
        "df_clean.index"
      ],
      "execution_count": null,
      "outputs": [
        {
          "output_type": "execute_result",
          "data": {
            "text/plain": [
              "DatetimeIndex(['2010-12-01 08:26:00', '2010-12-01 08:26:00',\n",
              "               '2010-12-01 08:26:00', '2010-12-01 08:26:00',\n",
              "               '2010-12-01 08:26:00', '2010-12-01 08:26:00',\n",
              "               '2010-12-01 08:28:00', '2010-12-01 08:34:00',\n",
              "               '2010-12-01 08:34:00', '2010-12-01 08:34:00',\n",
              "               ...\n",
              "               '2011-12-09 12:49:00', '2011-12-09 12:50:00',\n",
              "               '2011-12-09 12:50:00', '2011-12-09 12:50:00',\n",
              "               '2011-12-09 12:50:00', '2011-12-09 12:50:00',\n",
              "               '2011-12-09 12:50:00', '2011-12-09 12:50:00',\n",
              "               '2011-12-09 12:50:00', '2011-12-09 12:50:00'],\n",
              "              dtype='datetime64[ns]', name='InvoiceDate', length=281849, freq=None)"
            ]
          },
          "metadata": {
            "tags": []
          },
          "execution_count": 41
        }
      ]
    },
    {
      "cell_type": "markdown",
      "metadata": {
        "id": "dm3khniqCwLW"
      },
      "source": [
        "Quantity per invoice Feature"
      ]
    },
    {
      "cell_type": "markdown",
      "metadata": {
        "id": "XICW6lx9Cz_-"
      },
      "source": [
        "A feature that could influence the sales output could be \"Quantity per invoice\". Let's find the data for this feature."
      ]
    },
    {
      "cell_type": "code",
      "metadata": {
        "id": "LUrwRyG2AJ8x"
      },
      "source": [
        "df_join = df_clean.groupby('InvoiceNo')[['Quantity']].sum()"
      ],
      "execution_count": null,
      "outputs": []
    },
    {
      "cell_type": "code",
      "metadata": {
        "colab": {
          "base_uri": "https://localhost:8080/",
          "height": 343
        },
        "id": "rzDuIjGEC3nL",
        "outputId": "d3a889ce-aab6-4172-cef3-16e1d60589c6"
      },
      "source": [
        "df_join = df_join.reset_index()\n",
        "df_join.head(10)"
      ],
      "execution_count": null,
      "outputs": [
        {
          "output_type": "execute_result",
          "data": {
            "text/html": [
              "<div>\n",
              "<style scoped>\n",
              "    .dataframe tbody tr th:only-of-type {\n",
              "        vertical-align: middle;\n",
              "    }\n",
              "\n",
              "    .dataframe tbody tr th {\n",
              "        vertical-align: top;\n",
              "    }\n",
              "\n",
              "    .dataframe thead th {\n",
              "        text-align: right;\n",
              "    }\n",
              "</style>\n",
              "<table border=\"1\" class=\"dataframe\">\n",
              "  <thead>\n",
              "    <tr style=\"text-align: right;\">\n",
              "      <th></th>\n",
              "      <th>InvoiceNo</th>\n",
              "      <th>Quantity</th>\n",
              "    </tr>\n",
              "  </thead>\n",
              "  <tbody>\n",
              "    <tr>\n",
              "      <th>0</th>\n",
              "      <td>0</td>\n",
              "      <td>34</td>\n",
              "    </tr>\n",
              "    <tr>\n",
              "      <th>1</th>\n",
              "      <td>1</td>\n",
              "      <td>6</td>\n",
              "    </tr>\n",
              "    <tr>\n",
              "      <th>2</th>\n",
              "      <td>10</td>\n",
              "      <td>74</td>\n",
              "    </tr>\n",
              "    <tr>\n",
              "      <th>3</th>\n",
              "      <td>100</td>\n",
              "      <td>3</td>\n",
              "    </tr>\n",
              "    <tr>\n",
              "      <th>4</th>\n",
              "      <td>1000</td>\n",
              "      <td>31</td>\n",
              "    </tr>\n",
              "    <tr>\n",
              "      <th>5</th>\n",
              "      <td>10000</td>\n",
              "      <td>96</td>\n",
              "    </tr>\n",
              "    <tr>\n",
              "      <th>6</th>\n",
              "      <td>10001</td>\n",
              "      <td>172</td>\n",
              "    </tr>\n",
              "    <tr>\n",
              "      <th>7</th>\n",
              "      <td>10002</td>\n",
              "      <td>60</td>\n",
              "    </tr>\n",
              "    <tr>\n",
              "      <th>8</th>\n",
              "      <td>10003</td>\n",
              "      <td>192</td>\n",
              "    </tr>\n",
              "    <tr>\n",
              "      <th>9</th>\n",
              "      <td>10004</td>\n",
              "      <td>1676</td>\n",
              "    </tr>\n",
              "  </tbody>\n",
              "</table>\n",
              "</div>"
            ],
            "text/plain": [
              "  InvoiceNo  Quantity\n",
              "0         0        34\n",
              "1         1         6\n",
              "2        10        74\n",
              "3       100         3\n",
              "4      1000        31\n",
              "5     10000        96\n",
              "6     10001       172\n",
              "7     10002        60\n",
              "8     10003       192\n",
              "9     10004      1676"
            ]
          },
          "metadata": {
            "tags": []
          },
          "execution_count": 43
        }
      ]
    },
    {
      "cell_type": "code",
      "metadata": {
        "colab": {
          "base_uri": "https://localhost:8080/",
          "height": 491
        },
        "id": "nq1EzxrmC5Ur",
        "outputId": "7608866d-4dc4-4ae2-d984-0dc9abfc7162"
      },
      "source": [
        "df_clean['InvoiceDate'] = df_clean.index\n",
        "df_clean = df_clean.merge(df_join, how='left', on='InvoiceNo')\n",
        "df_clean = df_clean.rename(columns={'Quantity_x' : 'Quantity', 'Quantity_y' : 'QuantityInv'})\n",
        "df_clean.tail(15)"
      ],
      "execution_count": null,
      "outputs": [
        {
          "output_type": "execute_result",
          "data": {
            "text/html": [
              "<div>\n",
              "<style scoped>\n",
              "    .dataframe tbody tr th:only-of-type {\n",
              "        vertical-align: middle;\n",
              "    }\n",
              "\n",
              "    .dataframe tbody tr th {\n",
              "        vertical-align: top;\n",
              "    }\n",
              "\n",
              "    .dataframe thead th {\n",
              "        text-align: right;\n",
              "    }\n",
              "</style>\n",
              "<table border=\"1\" class=\"dataframe\">\n",
              "  <thead>\n",
              "    <tr style=\"text-align: right;\">\n",
              "      <th></th>\n",
              "      <th>InvoiceNo</th>\n",
              "      <th>StockCode</th>\n",
              "      <th>Description</th>\n",
              "      <th>Quantity</th>\n",
              "      <th>UnitPrice</th>\n",
              "      <th>Country</th>\n",
              "      <th>Sales</th>\n",
              "      <th>InvoiceDate</th>\n",
              "      <th>QuantityInv</th>\n",
              "    </tr>\n",
              "  </thead>\n",
              "  <tbody>\n",
              "    <tr>\n",
              "      <th>281834</th>\n",
              "      <td>18533</td>\n",
              "      <td>1761</td>\n",
              "      <td>213</td>\n",
              "      <td>24</td>\n",
              "      <td>0.19</td>\n",
              "      <td>35</td>\n",
              "      <td>4.56</td>\n",
              "      <td>2011-12-09 12:31:00</td>\n",
              "      <td>206</td>\n",
              "    </tr>\n",
              "    <tr>\n",
              "      <th>281835</th>\n",
              "      <td>18533</td>\n",
              "      <td>1073</td>\n",
              "      <td>3550</td>\n",
              "      <td>12</td>\n",
              "      <td>1.95</td>\n",
              "      <td>35</td>\n",
              "      <td>23.40</td>\n",
              "      <td>2011-12-09 12:31:00</td>\n",
              "      <td>206</td>\n",
              "    </tr>\n",
              "    <tr>\n",
              "      <th>281836</th>\n",
              "      <td>18533</td>\n",
              "      <td>1332</td>\n",
              "      <td>1174</td>\n",
              "      <td>12</td>\n",
              "      <td>1.95</td>\n",
              "      <td>35</td>\n",
              "      <td>23.40</td>\n",
              "      <td>2011-12-09 12:31:00</td>\n",
              "      <td>206</td>\n",
              "    </tr>\n",
              "    <tr>\n",
              "      <th>281837</th>\n",
              "      <td>18534</td>\n",
              "      <td>964</td>\n",
              "      <td>1836</td>\n",
              "      <td>8</td>\n",
              "      <td>2.95</td>\n",
              "      <td>35</td>\n",
              "      <td>23.60</td>\n",
              "      <td>2011-12-09 12:49:00</td>\n",
              "      <td>42</td>\n",
              "    </tr>\n",
              "    <tr>\n",
              "      <th>281838</th>\n",
              "      <td>18534</td>\n",
              "      <td>429</td>\n",
              "      <td>2750</td>\n",
              "      <td>24</td>\n",
              "      <td>8.95</td>\n",
              "      <td>35</td>\n",
              "      <td>214.80</td>\n",
              "      <td>2011-12-09 12:49:00</td>\n",
              "      <td>42</td>\n",
              "    </tr>\n",
              "    <tr>\n",
              "      <th>281839</th>\n",
              "      <td>18534</td>\n",
              "      <td>146</td>\n",
              "      <td>1029</td>\n",
              "      <td>10</td>\n",
              "      <td>7.08</td>\n",
              "      <td>35</td>\n",
              "      <td>70.80</td>\n",
              "      <td>2011-12-09 12:49:00</td>\n",
              "      <td>42</td>\n",
              "    </tr>\n",
              "    <tr>\n",
              "      <th>281840</th>\n",
              "      <td>18535</td>\n",
              "      <td>1488</td>\n",
              "      <td>785</td>\n",
              "      <td>12</td>\n",
              "      <td>1.95</td>\n",
              "      <td>13</td>\n",
              "      <td>23.40</td>\n",
              "      <td>2011-12-09 12:50:00</td>\n",
              "      <td>61</td>\n",
              "    </tr>\n",
              "    <tr>\n",
              "      <th>281841</th>\n",
              "      <td>18535</td>\n",
              "      <td>2088</td>\n",
              "      <td>706</td>\n",
              "      <td>4</td>\n",
              "      <td>4.15</td>\n",
              "      <td>13</td>\n",
              "      <td>16.60</td>\n",
              "      <td>2011-12-09 12:50:00</td>\n",
              "      <td>61</td>\n",
              "    </tr>\n",
              "    <tr>\n",
              "      <th>281842</th>\n",
              "      <td>18535</td>\n",
              "      <td>1746</td>\n",
              "      <td>695</td>\n",
              "      <td>6</td>\n",
              "      <td>2.10</td>\n",
              "      <td>13</td>\n",
              "      <td>12.60</td>\n",
              "      <td>2011-12-09 12:50:00</td>\n",
              "      <td>61</td>\n",
              "    </tr>\n",
              "    <tr>\n",
              "      <th>281843</th>\n",
              "      <td>18535</td>\n",
              "      <td>1579</td>\n",
              "      <td>143</td>\n",
              "      <td>4</td>\n",
              "      <td>3.75</td>\n",
              "      <td>13</td>\n",
              "      <td>15.00</td>\n",
              "      <td>2011-12-09 12:50:00</td>\n",
              "      <td>61</td>\n",
              "    </tr>\n",
              "    <tr>\n",
              "      <th>281844</th>\n",
              "      <td>18535</td>\n",
              "      <td>1414</td>\n",
              "      <td>2584</td>\n",
              "      <td>12</td>\n",
              "      <td>1.65</td>\n",
              "      <td>13</td>\n",
              "      <td>19.80</td>\n",
              "      <td>2011-12-09 12:50:00</td>\n",
              "      <td>61</td>\n",
              "    </tr>\n",
              "    <tr>\n",
              "      <th>281845</th>\n",
              "      <td>18535</td>\n",
              "      <td>1486</td>\n",
              "      <td>3330</td>\n",
              "      <td>12</td>\n",
              "      <td>1.95</td>\n",
              "      <td>13</td>\n",
              "      <td>23.40</td>\n",
              "      <td>2011-12-09 12:50:00</td>\n",
              "      <td>61</td>\n",
              "    </tr>\n",
              "    <tr>\n",
              "      <th>281846</th>\n",
              "      <td>18535</td>\n",
              "      <td>1581</td>\n",
              "      <td>146</td>\n",
              "      <td>4</td>\n",
              "      <td>3.75</td>\n",
              "      <td>13</td>\n",
              "      <td>15.00</td>\n",
              "      <td>2011-12-09 12:50:00</td>\n",
              "      <td>61</td>\n",
              "    </tr>\n",
              "    <tr>\n",
              "      <th>281847</th>\n",
              "      <td>18535</td>\n",
              "      <td>1039</td>\n",
              "      <td>271</td>\n",
              "      <td>3</td>\n",
              "      <td>4.95</td>\n",
              "      <td>13</td>\n",
              "      <td>14.85</td>\n",
              "      <td>2011-12-09 12:50:00</td>\n",
              "      <td>61</td>\n",
              "    </tr>\n",
              "    <tr>\n",
              "      <th>281848</th>\n",
              "      <td>18535</td>\n",
              "      <td>2087</td>\n",
              "      <td>700</td>\n",
              "      <td>4</td>\n",
              "      <td>4.15</td>\n",
              "      <td>13</td>\n",
              "      <td>16.60</td>\n",
              "      <td>2011-12-09 12:50:00</td>\n",
              "      <td>61</td>\n",
              "    </tr>\n",
              "  </tbody>\n",
              "</table>\n",
              "</div>"
            ],
            "text/plain": [
              "       InvoiceNo StockCode Description  ...   Sales         InvoiceDate QuantityInv\n",
              "281834     18533      1761         213  ...    4.56 2011-12-09 12:31:00         206\n",
              "281835     18533      1073        3550  ...   23.40 2011-12-09 12:31:00         206\n",
              "281836     18533      1332        1174  ...   23.40 2011-12-09 12:31:00         206\n",
              "281837     18534       964        1836  ...   23.60 2011-12-09 12:49:00          42\n",
              "281838     18534       429        2750  ...  214.80 2011-12-09 12:49:00          42\n",
              "281839     18534       146        1029  ...   70.80 2011-12-09 12:49:00          42\n",
              "281840     18535      1488         785  ...   23.40 2011-12-09 12:50:00          61\n",
              "281841     18535      2088         706  ...   16.60 2011-12-09 12:50:00          61\n",
              "281842     18535      1746         695  ...   12.60 2011-12-09 12:50:00          61\n",
              "281843     18535      1579         143  ...   15.00 2011-12-09 12:50:00          61\n",
              "281844     18535      1414        2584  ...   19.80 2011-12-09 12:50:00          61\n",
              "281845     18535      1486        3330  ...   23.40 2011-12-09 12:50:00          61\n",
              "281846     18535      1581         146  ...   15.00 2011-12-09 12:50:00          61\n",
              "281847     18535      1039         271  ...   14.85 2011-12-09 12:50:00          61\n",
              "281848     18535      2087         700  ...   16.60 2011-12-09 12:50:00          61\n",
              "\n",
              "[15 rows x 9 columns]"
            ]
          },
          "metadata": {
            "tags": []
          },
          "execution_count": 44
        }
      ]
    },
    {
      "cell_type": "code",
      "metadata": {
        "colab": {
          "base_uri": "https://localhost:8080/",
          "height": 284
        },
        "id": "tnWqqQQ6DQhM",
        "outputId": "238477e2-7323-4812-83a8-6cfc1fb0f9da"
      },
      "source": [
        "df_clean.describe()"
      ],
      "execution_count": null,
      "outputs": [
        {
          "output_type": "execute_result",
          "data": {
            "text/html": [
              "<div>\n",
              "<style scoped>\n",
              "    .dataframe tbody tr th:only-of-type {\n",
              "        vertical-align: middle;\n",
              "    }\n",
              "\n",
              "    .dataframe tbody tr th {\n",
              "        vertical-align: top;\n",
              "    }\n",
              "\n",
              "    .dataframe thead th {\n",
              "        text-align: right;\n",
              "    }\n",
              "</style>\n",
              "<table border=\"1\" class=\"dataframe\">\n",
              "  <thead>\n",
              "    <tr style=\"text-align: right;\">\n",
              "      <th></th>\n",
              "      <th>Quantity</th>\n",
              "      <th>UnitPrice</th>\n",
              "      <th>Sales</th>\n",
              "      <th>QuantityInv</th>\n",
              "    </tr>\n",
              "  </thead>\n",
              "  <tbody>\n",
              "    <tr>\n",
              "      <th>count</th>\n",
              "      <td>281849.000000</td>\n",
              "      <td>281849.000000</td>\n",
              "      <td>281849.000000</td>\n",
              "      <td>281849.000000</td>\n",
              "    </tr>\n",
              "    <tr>\n",
              "      <th>mean</th>\n",
              "      <td>12.617810</td>\n",
              "      <td>2.733173</td>\n",
              "      <td>21.196198</td>\n",
              "      <td>302.734475</td>\n",
              "    </tr>\n",
              "    <tr>\n",
              "      <th>std</th>\n",
              "      <td>42.303379</td>\n",
              "      <td>2.554944</td>\n",
              "      <td>71.248773</td>\n",
              "      <td>622.927987</td>\n",
              "    </tr>\n",
              "    <tr>\n",
              "      <th>min</th>\n",
              "      <td>1.000000</td>\n",
              "      <td>0.001000</td>\n",
              "      <td>0.001000</td>\n",
              "      <td>1.000000</td>\n",
              "    </tr>\n",
              "    <tr>\n",
              "      <th>25%</th>\n",
              "      <td>2.000000</td>\n",
              "      <td>1.250000</td>\n",
              "      <td>4.560000</td>\n",
              "      <td>91.000000</td>\n",
              "    </tr>\n",
              "    <tr>\n",
              "      <th>50%</th>\n",
              "      <td>6.000000</td>\n",
              "      <td>1.950000</td>\n",
              "      <td>11.500000</td>\n",
              "      <td>166.000000</td>\n",
              "    </tr>\n",
              "    <tr>\n",
              "      <th>75%</th>\n",
              "      <td>12.000000</td>\n",
              "      <td>3.750000</td>\n",
              "      <td>19.500000</td>\n",
              "      <td>303.000000</td>\n",
              "    </tr>\n",
              "    <tr>\n",
              "      <th>max</th>\n",
              "      <td>4300.000000</td>\n",
              "      <td>14.960000</td>\n",
              "      <td>7144.720000</td>\n",
              "      <td>11568.000000</td>\n",
              "    </tr>\n",
              "  </tbody>\n",
              "</table>\n",
              "</div>"
            ],
            "text/plain": [
              "            Quantity      UnitPrice          Sales    QuantityInv\n",
              "count  281849.000000  281849.000000  281849.000000  281849.000000\n",
              "mean       12.617810       2.733173      21.196198     302.734475\n",
              "std        42.303379       2.554944      71.248773     622.927987\n",
              "min         1.000000       0.001000       0.001000       1.000000\n",
              "25%         2.000000       1.250000       4.560000      91.000000\n",
              "50%         6.000000       1.950000      11.500000     166.000000\n",
              "75%        12.000000       3.750000      19.500000     303.000000\n",
              "max      4300.000000      14.960000    7144.720000   11568.000000"
            ]
          },
          "metadata": {
            "tags": []
          },
          "execution_count": 45
        }
      ]
    },
    {
      "cell_type": "code",
      "metadata": {
        "id": "NOmYsZ4aDnfW"
      },
      "source": [
        "df_clean['InvoiceDate'] = pd.to_datetime(df_clean['InvoiceDate'])\n"
      ],
      "execution_count": null,
      "outputs": []
    },
    {
      "cell_type": "code",
      "metadata": {
        "colab": {
          "base_uri": "https://localhost:8080/"
        },
        "id": "k0hkPTT4DsLX",
        "outputId": "f3087a09-3cdd-4707-9bc8-db255bbb2413"
      },
      "source": [
        "df_clean.dtypes"
      ],
      "execution_count": null,
      "outputs": [
        {
          "output_type": "execute_result",
          "data": {
            "text/plain": [
              "InvoiceNo              object\n",
              "StockCode              object\n",
              "Description            object\n",
              "Quantity                int64\n",
              "UnitPrice             float64\n",
              "Country                object\n",
              "Sales                 float64\n",
              "InvoiceDate    datetime64[ns]\n",
              "QuantityInv             int64\n",
              "dtype: object"
            ]
          },
          "metadata": {
            "tags": []
          },
          "execution_count": 47
        }
      ]
    },
    {
      "cell_type": "markdown",
      "metadata": {
        "id": "ghJzoJgPEBbG"
      },
      "source": [
        "Bucketizing Quantity and UnitPrice features"
      ]
    },
    {
      "cell_type": "markdown",
      "metadata": {
        "id": "Tc0gXyEjEFCT"
      },
      "source": [
        "Based on the EDA done previously we can group these features into 6 buckets for Quantity and 5 for UnitePrice using pandas .cut() method."
      ]
    },
    {
      "cell_type": "code",
      "metadata": {
        "colab": {
          "base_uri": "https://localhost:8080/",
          "height": 195
        },
        "id": "zU7xZ2ImDuWk",
        "outputId": "47ff0f57-c635-4a7b-bf21-8547d82234dd"
      },
      "source": [
        "bins_q = pd.IntervalIndex.from_tuples([(0, 2), (2, 5), (5, 8), (8, 11), (11, 14), (15, 5000)])\n",
        "df_clean['QuantityRange'] = pd.cut(df_clean['Quantity'], bins=bins_q)\n",
        "bins_p = pd.IntervalIndex.from_tuples([(0, 1), (1, 2), (2, 3), (3, 4), (4, 20)])\n",
        "df_clean['PriceRange'] = pd.cut(df_clean['UnitPrice'], bins=bins_p)\n",
        "df_clean.head()"
      ],
      "execution_count": null,
      "outputs": [
        {
          "output_type": "execute_result",
          "data": {
            "text/html": [
              "<div>\n",
              "<style scoped>\n",
              "    .dataframe tbody tr th:only-of-type {\n",
              "        vertical-align: middle;\n",
              "    }\n",
              "\n",
              "    .dataframe tbody tr th {\n",
              "        vertical-align: top;\n",
              "    }\n",
              "\n",
              "    .dataframe thead th {\n",
              "        text-align: right;\n",
              "    }\n",
              "</style>\n",
              "<table border=\"1\" class=\"dataframe\">\n",
              "  <thead>\n",
              "    <tr style=\"text-align: right;\">\n",
              "      <th></th>\n",
              "      <th>InvoiceNo</th>\n",
              "      <th>StockCode</th>\n",
              "      <th>Description</th>\n",
              "      <th>Quantity</th>\n",
              "      <th>UnitPrice</th>\n",
              "      <th>Country</th>\n",
              "      <th>Sales</th>\n",
              "      <th>InvoiceDate</th>\n",
              "      <th>QuantityInv</th>\n",
              "      <th>QuantityRange</th>\n",
              "      <th>PriceRange</th>\n",
              "    </tr>\n",
              "  </thead>\n",
              "  <tbody>\n",
              "    <tr>\n",
              "      <th>0</th>\n",
              "      <td>0</td>\n",
              "      <td>755</td>\n",
              "      <td>1444</td>\n",
              "      <td>6</td>\n",
              "      <td>4.25</td>\n",
              "      <td>35</td>\n",
              "      <td>25.50</td>\n",
              "      <td>2010-12-01 08:26:00</td>\n",
              "      <td>34</td>\n",
              "      <td>(5, 8]</td>\n",
              "      <td>(4, 20]</td>\n",
              "    </tr>\n",
              "    <tr>\n",
              "      <th>1</th>\n",
              "      <td>0</td>\n",
              "      <td>2802</td>\n",
              "      <td>2776</td>\n",
              "      <td>6</td>\n",
              "      <td>3.39</td>\n",
              "      <td>35</td>\n",
              "      <td>20.34</td>\n",
              "      <td>2010-12-01 08:26:00</td>\n",
              "      <td>34</td>\n",
              "      <td>(5, 8]</td>\n",
              "      <td>(3, 4]</td>\n",
              "    </tr>\n",
              "    <tr>\n",
              "      <th>2</th>\n",
              "      <td>0</td>\n",
              "      <td>2855</td>\n",
              "      <td>861</td>\n",
              "      <td>8</td>\n",
              "      <td>2.75</td>\n",
              "      <td>35</td>\n",
              "      <td>22.00</td>\n",
              "      <td>2010-12-01 08:26:00</td>\n",
              "      <td>34</td>\n",
              "      <td>(5, 8]</td>\n",
              "      <td>(2, 3]</td>\n",
              "    </tr>\n",
              "    <tr>\n",
              "      <th>3</th>\n",
              "      <td>0</td>\n",
              "      <td>3249</td>\n",
              "      <td>3716</td>\n",
              "      <td>6</td>\n",
              "      <td>2.55</td>\n",
              "      <td>35</td>\n",
              "      <td>15.30</td>\n",
              "      <td>2010-12-01 08:26:00</td>\n",
              "      <td>34</td>\n",
              "      <td>(5, 8]</td>\n",
              "      <td>(2, 3]</td>\n",
              "    </tr>\n",
              "    <tr>\n",
              "      <th>4</th>\n",
              "      <td>0</td>\n",
              "      <td>2803</td>\n",
              "      <td>1813</td>\n",
              "      <td>6</td>\n",
              "      <td>3.39</td>\n",
              "      <td>35</td>\n",
              "      <td>20.34</td>\n",
              "      <td>2010-12-01 08:26:00</td>\n",
              "      <td>34</td>\n",
              "      <td>(5, 8]</td>\n",
              "      <td>(3, 4]</td>\n",
              "    </tr>\n",
              "  </tbody>\n",
              "</table>\n",
              "</div>"
            ],
            "text/plain": [
              "  InvoiceNo StockCode Description  ...  QuantityInv  QuantityRange PriceRange\n",
              "0         0       755        1444  ...           34         (5, 8]    (4, 20]\n",
              "1         0      2802        2776  ...           34         (5, 8]     (3, 4]\n",
              "2         0      2855         861  ...           34         (5, 8]     (2, 3]\n",
              "3         0      3249        3716  ...           34         (5, 8]     (2, 3]\n",
              "4         0      2803        1813  ...           34         (5, 8]     (3, 4]\n",
              "\n",
              "[5 rows x 11 columns]"
            ]
          },
          "metadata": {
            "tags": []
          },
          "execution_count": 48
        }
      ]
    },
    {
      "cell_type": "markdown",
      "metadata": {
        "id": "AePFwMXyEXtu"
      },
      "source": [
        "Extracting and bucketizing dates"
      ]
    },
    {
      "cell_type": "markdown",
      "metadata": {
        "id": "-xbXlaReEbpW"
      },
      "source": [
        "We have noticed that depends on a season gifts sell differently: pick of sales is in the Q4, then it drastically drops in Q1 of the next year and continues to grow till its new pick in Q4 again. From this observation we can create another feature that could improve our model."
      ]
    },
    {
      "cell_type": "code",
      "metadata": {
        "colab": {
          "base_uri": "https://localhost:8080/",
          "height": 195
        },
        "id": "PKaHrL3WEJQi",
        "outputId": "dcf0263f-0834-45e8-90f2-816311430d4a"
      },
      "source": [
        "df_clean['Month'] = df_clean['InvoiceDate'].dt.month\n",
        "df_clean.head()"
      ],
      "execution_count": null,
      "outputs": [
        {
          "output_type": "execute_result",
          "data": {
            "text/html": [
              "<div>\n",
              "<style scoped>\n",
              "    .dataframe tbody tr th:only-of-type {\n",
              "        vertical-align: middle;\n",
              "    }\n",
              "\n",
              "    .dataframe tbody tr th {\n",
              "        vertical-align: top;\n",
              "    }\n",
              "\n",
              "    .dataframe thead th {\n",
              "        text-align: right;\n",
              "    }\n",
              "</style>\n",
              "<table border=\"1\" class=\"dataframe\">\n",
              "  <thead>\n",
              "    <tr style=\"text-align: right;\">\n",
              "      <th></th>\n",
              "      <th>InvoiceNo</th>\n",
              "      <th>StockCode</th>\n",
              "      <th>Description</th>\n",
              "      <th>Quantity</th>\n",
              "      <th>UnitPrice</th>\n",
              "      <th>Country</th>\n",
              "      <th>Sales</th>\n",
              "      <th>InvoiceDate</th>\n",
              "      <th>QuantityInv</th>\n",
              "      <th>QuantityRange</th>\n",
              "      <th>PriceRange</th>\n",
              "      <th>Month</th>\n",
              "    </tr>\n",
              "  </thead>\n",
              "  <tbody>\n",
              "    <tr>\n",
              "      <th>0</th>\n",
              "      <td>0</td>\n",
              "      <td>755</td>\n",
              "      <td>1444</td>\n",
              "      <td>6</td>\n",
              "      <td>4.25</td>\n",
              "      <td>35</td>\n",
              "      <td>25.50</td>\n",
              "      <td>2010-12-01 08:26:00</td>\n",
              "      <td>34</td>\n",
              "      <td>(5, 8]</td>\n",
              "      <td>(4, 20]</td>\n",
              "      <td>12</td>\n",
              "    </tr>\n",
              "    <tr>\n",
              "      <th>1</th>\n",
              "      <td>0</td>\n",
              "      <td>2802</td>\n",
              "      <td>2776</td>\n",
              "      <td>6</td>\n",
              "      <td>3.39</td>\n",
              "      <td>35</td>\n",
              "      <td>20.34</td>\n",
              "      <td>2010-12-01 08:26:00</td>\n",
              "      <td>34</td>\n",
              "      <td>(5, 8]</td>\n",
              "      <td>(3, 4]</td>\n",
              "      <td>12</td>\n",
              "    </tr>\n",
              "    <tr>\n",
              "      <th>2</th>\n",
              "      <td>0</td>\n",
              "      <td>2855</td>\n",
              "      <td>861</td>\n",
              "      <td>8</td>\n",
              "      <td>2.75</td>\n",
              "      <td>35</td>\n",
              "      <td>22.00</td>\n",
              "      <td>2010-12-01 08:26:00</td>\n",
              "      <td>34</td>\n",
              "      <td>(5, 8]</td>\n",
              "      <td>(2, 3]</td>\n",
              "      <td>12</td>\n",
              "    </tr>\n",
              "    <tr>\n",
              "      <th>3</th>\n",
              "      <td>0</td>\n",
              "      <td>3249</td>\n",
              "      <td>3716</td>\n",
              "      <td>6</td>\n",
              "      <td>2.55</td>\n",
              "      <td>35</td>\n",
              "      <td>15.30</td>\n",
              "      <td>2010-12-01 08:26:00</td>\n",
              "      <td>34</td>\n",
              "      <td>(5, 8]</td>\n",
              "      <td>(2, 3]</td>\n",
              "      <td>12</td>\n",
              "    </tr>\n",
              "    <tr>\n",
              "      <th>4</th>\n",
              "      <td>0</td>\n",
              "      <td>2803</td>\n",
              "      <td>1813</td>\n",
              "      <td>6</td>\n",
              "      <td>3.39</td>\n",
              "      <td>35</td>\n",
              "      <td>20.34</td>\n",
              "      <td>2010-12-01 08:26:00</td>\n",
              "      <td>34</td>\n",
              "      <td>(5, 8]</td>\n",
              "      <td>(3, 4]</td>\n",
              "      <td>12</td>\n",
              "    </tr>\n",
              "  </tbody>\n",
              "</table>\n",
              "</div>"
            ],
            "text/plain": [
              "  InvoiceNo StockCode Description  ...  QuantityRange  PriceRange Month\n",
              "0         0       755        1444  ...         (5, 8]     (4, 20]    12\n",
              "1         0      2802        2776  ...         (5, 8]      (3, 4]    12\n",
              "2         0      2855         861  ...         (5, 8]      (2, 3]    12\n",
              "3         0      3249        3716  ...         (5, 8]      (2, 3]    12\n",
              "4         0      2803        1813  ...         (5, 8]      (3, 4]    12\n",
              "\n",
              "[5 rows x 12 columns]"
            ]
          },
          "metadata": {
            "tags": []
          },
          "execution_count": 49
        }
      ]
    },
    {
      "cell_type": "code",
      "metadata": {
        "colab": {
          "base_uri": "https://localhost:8080/",
          "height": 299
        },
        "id": "-VsMe-HdEdur",
        "outputId": "4645edfc-db47-40f9-aaf0-1b1542080aad"
      },
      "source": [
        "bins_d = pd.IntervalIndex.from_tuples([(0,3),(3,6),(6,9),(9,12)])\n",
        "df_clean['DateRange'] = pd.cut(df_clean['Month'], bins=bins_d, labels=['q1','q2','q3','q4'])\n",
        "df_clean.tail()"
      ],
      "execution_count": null,
      "outputs": [
        {
          "output_type": "execute_result",
          "data": {
            "text/html": [
              "<div>\n",
              "<style scoped>\n",
              "    .dataframe tbody tr th:only-of-type {\n",
              "        vertical-align: middle;\n",
              "    }\n",
              "\n",
              "    .dataframe tbody tr th {\n",
              "        vertical-align: top;\n",
              "    }\n",
              "\n",
              "    .dataframe thead th {\n",
              "        text-align: right;\n",
              "    }\n",
              "</style>\n",
              "<table border=\"1\" class=\"dataframe\">\n",
              "  <thead>\n",
              "    <tr style=\"text-align: right;\">\n",
              "      <th></th>\n",
              "      <th>InvoiceNo</th>\n",
              "      <th>StockCode</th>\n",
              "      <th>Description</th>\n",
              "      <th>Quantity</th>\n",
              "      <th>UnitPrice</th>\n",
              "      <th>Country</th>\n",
              "      <th>Sales</th>\n",
              "      <th>InvoiceDate</th>\n",
              "      <th>QuantityInv</th>\n",
              "      <th>QuantityRange</th>\n",
              "      <th>PriceRange</th>\n",
              "      <th>Month</th>\n",
              "      <th>DateRange</th>\n",
              "    </tr>\n",
              "  </thead>\n",
              "  <tbody>\n",
              "    <tr>\n",
              "      <th>281844</th>\n",
              "      <td>18535</td>\n",
              "      <td>1414</td>\n",
              "      <td>2584</td>\n",
              "      <td>12</td>\n",
              "      <td>1.65</td>\n",
              "      <td>13</td>\n",
              "      <td>19.80</td>\n",
              "      <td>2011-12-09 12:50:00</td>\n",
              "      <td>61</td>\n",
              "      <td>(11, 14]</td>\n",
              "      <td>(1, 2]</td>\n",
              "      <td>12</td>\n",
              "      <td>(9, 12]</td>\n",
              "    </tr>\n",
              "    <tr>\n",
              "      <th>281845</th>\n",
              "      <td>18535</td>\n",
              "      <td>1486</td>\n",
              "      <td>3330</td>\n",
              "      <td>12</td>\n",
              "      <td>1.95</td>\n",
              "      <td>13</td>\n",
              "      <td>23.40</td>\n",
              "      <td>2011-12-09 12:50:00</td>\n",
              "      <td>61</td>\n",
              "      <td>(11, 14]</td>\n",
              "      <td>(1, 2]</td>\n",
              "      <td>12</td>\n",
              "      <td>(9, 12]</td>\n",
              "    </tr>\n",
              "    <tr>\n",
              "      <th>281846</th>\n",
              "      <td>18535</td>\n",
              "      <td>1581</td>\n",
              "      <td>146</td>\n",
              "      <td>4</td>\n",
              "      <td>3.75</td>\n",
              "      <td>13</td>\n",
              "      <td>15.00</td>\n",
              "      <td>2011-12-09 12:50:00</td>\n",
              "      <td>61</td>\n",
              "      <td>(2, 5]</td>\n",
              "      <td>(3, 4]</td>\n",
              "      <td>12</td>\n",
              "      <td>(9, 12]</td>\n",
              "    </tr>\n",
              "    <tr>\n",
              "      <th>281847</th>\n",
              "      <td>18535</td>\n",
              "      <td>1039</td>\n",
              "      <td>271</td>\n",
              "      <td>3</td>\n",
              "      <td>4.95</td>\n",
              "      <td>13</td>\n",
              "      <td>14.85</td>\n",
              "      <td>2011-12-09 12:50:00</td>\n",
              "      <td>61</td>\n",
              "      <td>(2, 5]</td>\n",
              "      <td>(4, 20]</td>\n",
              "      <td>12</td>\n",
              "      <td>(9, 12]</td>\n",
              "    </tr>\n",
              "    <tr>\n",
              "      <th>281848</th>\n",
              "      <td>18535</td>\n",
              "      <td>2087</td>\n",
              "      <td>700</td>\n",
              "      <td>4</td>\n",
              "      <td>4.15</td>\n",
              "      <td>13</td>\n",
              "      <td>16.60</td>\n",
              "      <td>2011-12-09 12:50:00</td>\n",
              "      <td>61</td>\n",
              "      <td>(2, 5]</td>\n",
              "      <td>(4, 20]</td>\n",
              "      <td>12</td>\n",
              "      <td>(9, 12]</td>\n",
              "    </tr>\n",
              "  </tbody>\n",
              "</table>\n",
              "</div>"
            ],
            "text/plain": [
              "       InvoiceNo StockCode Description  ...  PriceRange  Month DateRange\n",
              "281844     18535      1414        2584  ...      (1, 2]     12   (9, 12]\n",
              "281845     18535      1486        3330  ...      (1, 2]     12   (9, 12]\n",
              "281846     18535      1581         146  ...      (3, 4]     12   (9, 12]\n",
              "281847     18535      1039         271  ...     (4, 20]     12   (9, 12]\n",
              "281848     18535      2087         700  ...     (4, 20]     12   (9, 12]\n",
              "\n",
              "[5 rows x 13 columns]"
            ]
          },
          "metadata": {
            "tags": []
          },
          "execution_count": 50
        }
      ]
    },
    {
      "cell_type": "code",
      "metadata": {
        "colab": {
          "base_uri": "https://localhost:8080/",
          "height": 402
        },
        "id": "xP5Ph57iRqCf",
        "outputId": "e642b7ab-e95e-4e65-b1e1-8b2950031d01"
      },
      "source": [
        "df_clean.drop([\"PriceRange\", \"Sales\"], axis = 1)"
      ],
      "execution_count": null,
      "outputs": [
        {
          "output_type": "execute_result",
          "data": {
            "text/html": [
              "<div>\n",
              "<style scoped>\n",
              "    .dataframe tbody tr th:only-of-type {\n",
              "        vertical-align: middle;\n",
              "    }\n",
              "\n",
              "    .dataframe tbody tr th {\n",
              "        vertical-align: top;\n",
              "    }\n",
              "\n",
              "    .dataframe thead th {\n",
              "        text-align: right;\n",
              "    }\n",
              "</style>\n",
              "<table border=\"1\" class=\"dataframe\">\n",
              "  <thead>\n",
              "    <tr style=\"text-align: right;\">\n",
              "      <th></th>\n",
              "      <th>InvoiceNo</th>\n",
              "      <th>StockCode</th>\n",
              "      <th>Description</th>\n",
              "      <th>Quantity</th>\n",
              "      <th>UnitPrice</th>\n",
              "      <th>Country</th>\n",
              "      <th>InvoiceDate</th>\n",
              "      <th>QuantityInv</th>\n",
              "      <th>QuantityRange</th>\n",
              "      <th>Month</th>\n",
              "      <th>DateRange</th>\n",
              "    </tr>\n",
              "  </thead>\n",
              "  <tbody>\n",
              "    <tr>\n",
              "      <th>0</th>\n",
              "      <td>0</td>\n",
              "      <td>755</td>\n",
              "      <td>1444</td>\n",
              "      <td>6</td>\n",
              "      <td>4.25</td>\n",
              "      <td>35</td>\n",
              "      <td>2010-12-01 08:26:00</td>\n",
              "      <td>34</td>\n",
              "      <td>(5, 8]</td>\n",
              "      <td>12</td>\n",
              "      <td>(9, 12]</td>\n",
              "    </tr>\n",
              "    <tr>\n",
              "      <th>1</th>\n",
              "      <td>0</td>\n",
              "      <td>2802</td>\n",
              "      <td>2776</td>\n",
              "      <td>6</td>\n",
              "      <td>3.39</td>\n",
              "      <td>35</td>\n",
              "      <td>2010-12-01 08:26:00</td>\n",
              "      <td>34</td>\n",
              "      <td>(5, 8]</td>\n",
              "      <td>12</td>\n",
              "      <td>(9, 12]</td>\n",
              "    </tr>\n",
              "    <tr>\n",
              "      <th>2</th>\n",
              "      <td>0</td>\n",
              "      <td>2855</td>\n",
              "      <td>861</td>\n",
              "      <td>8</td>\n",
              "      <td>2.75</td>\n",
              "      <td>35</td>\n",
              "      <td>2010-12-01 08:26:00</td>\n",
              "      <td>34</td>\n",
              "      <td>(5, 8]</td>\n",
              "      <td>12</td>\n",
              "      <td>(9, 12]</td>\n",
              "    </tr>\n",
              "    <tr>\n",
              "      <th>3</th>\n",
              "      <td>0</td>\n",
              "      <td>3249</td>\n",
              "      <td>3716</td>\n",
              "      <td>6</td>\n",
              "      <td>2.55</td>\n",
              "      <td>35</td>\n",
              "      <td>2010-12-01 08:26:00</td>\n",
              "      <td>34</td>\n",
              "      <td>(5, 8]</td>\n",
              "      <td>12</td>\n",
              "      <td>(9, 12]</td>\n",
              "    </tr>\n",
              "    <tr>\n",
              "      <th>4</th>\n",
              "      <td>0</td>\n",
              "      <td>2803</td>\n",
              "      <td>1813</td>\n",
              "      <td>6</td>\n",
              "      <td>3.39</td>\n",
              "      <td>35</td>\n",
              "      <td>2010-12-01 08:26:00</td>\n",
              "      <td>34</td>\n",
              "      <td>(5, 8]</td>\n",
              "      <td>12</td>\n",
              "      <td>(9, 12]</td>\n",
              "    </tr>\n",
              "    <tr>\n",
              "      <th>...</th>\n",
              "      <td>...</td>\n",
              "      <td>...</td>\n",
              "      <td>...</td>\n",
              "      <td>...</td>\n",
              "      <td>...</td>\n",
              "      <td>...</td>\n",
              "      <td>...</td>\n",
              "      <td>...</td>\n",
              "      <td>...</td>\n",
              "      <td>...</td>\n",
              "      <td>...</td>\n",
              "    </tr>\n",
              "    <tr>\n",
              "      <th>281844</th>\n",
              "      <td>18535</td>\n",
              "      <td>1414</td>\n",
              "      <td>2584</td>\n",
              "      <td>12</td>\n",
              "      <td>1.65</td>\n",
              "      <td>13</td>\n",
              "      <td>2011-12-09 12:50:00</td>\n",
              "      <td>61</td>\n",
              "      <td>(11, 14]</td>\n",
              "      <td>12</td>\n",
              "      <td>(9, 12]</td>\n",
              "    </tr>\n",
              "    <tr>\n",
              "      <th>281845</th>\n",
              "      <td>18535</td>\n",
              "      <td>1486</td>\n",
              "      <td>3330</td>\n",
              "      <td>12</td>\n",
              "      <td>1.95</td>\n",
              "      <td>13</td>\n",
              "      <td>2011-12-09 12:50:00</td>\n",
              "      <td>61</td>\n",
              "      <td>(11, 14]</td>\n",
              "      <td>12</td>\n",
              "      <td>(9, 12]</td>\n",
              "    </tr>\n",
              "    <tr>\n",
              "      <th>281846</th>\n",
              "      <td>18535</td>\n",
              "      <td>1581</td>\n",
              "      <td>146</td>\n",
              "      <td>4</td>\n",
              "      <td>3.75</td>\n",
              "      <td>13</td>\n",
              "      <td>2011-12-09 12:50:00</td>\n",
              "      <td>61</td>\n",
              "      <td>(2, 5]</td>\n",
              "      <td>12</td>\n",
              "      <td>(9, 12]</td>\n",
              "    </tr>\n",
              "    <tr>\n",
              "      <th>281847</th>\n",
              "      <td>18535</td>\n",
              "      <td>1039</td>\n",
              "      <td>271</td>\n",
              "      <td>3</td>\n",
              "      <td>4.95</td>\n",
              "      <td>13</td>\n",
              "      <td>2011-12-09 12:50:00</td>\n",
              "      <td>61</td>\n",
              "      <td>(2, 5]</td>\n",
              "      <td>12</td>\n",
              "      <td>(9, 12]</td>\n",
              "    </tr>\n",
              "    <tr>\n",
              "      <th>281848</th>\n",
              "      <td>18535</td>\n",
              "      <td>2087</td>\n",
              "      <td>700</td>\n",
              "      <td>4</td>\n",
              "      <td>4.15</td>\n",
              "      <td>13</td>\n",
              "      <td>2011-12-09 12:50:00</td>\n",
              "      <td>61</td>\n",
              "      <td>(2, 5]</td>\n",
              "      <td>12</td>\n",
              "      <td>(9, 12]</td>\n",
              "    </tr>\n",
              "  </tbody>\n",
              "</table>\n",
              "<p>281849 rows × 11 columns</p>\n",
              "</div>"
            ],
            "text/plain": [
              "       InvoiceNo StockCode Description  ...  QuantityRange  Month DateRange\n",
              "0              0       755        1444  ...         (5, 8]     12   (9, 12]\n",
              "1              0      2802        2776  ...         (5, 8]     12   (9, 12]\n",
              "2              0      2855         861  ...         (5, 8]     12   (9, 12]\n",
              "3              0      3249        3716  ...         (5, 8]     12   (9, 12]\n",
              "4              0      2803        1813  ...         (5, 8]     12   (9, 12]\n",
              "...          ...       ...         ...  ...            ...    ...       ...\n",
              "281844     18535      1414        2584  ...       (11, 14]     12   (9, 12]\n",
              "281845     18535      1486        3330  ...       (11, 14]     12   (9, 12]\n",
              "281846     18535      1581         146  ...         (2, 5]     12   (9, 12]\n",
              "281847     18535      1039         271  ...         (2, 5]     12   (9, 12]\n",
              "281848     18535      2087         700  ...         (2, 5]     12   (9, 12]\n",
              "\n",
              "[281849 rows x 11 columns]"
            ]
          },
          "metadata": {
            "tags": []
          },
          "execution_count": 51
        }
      ]
    },
    {
      "cell_type": "markdown",
      "metadata": {
        "id": "yHLZ928bEr2f"
      },
      "source": [
        "# **Building a model**"
      ]
    },
    {
      "cell_type": "markdown",
      "metadata": {
        "id": "bMqQjTMiE1q4"
      },
      "source": [
        "Splitting data into \"35\" and non-35"
      ]
    },
    {
      "cell_type": "markdown",
      "metadata": {
        "id": "SEPlccDmE6uV"
      },
      "source": [
        "We have to analyze these 2 datasets separately to have more standardized data for a model, because there can be some patterns that work for other countries and do not for \"35\" or vise versa. Also a hypothesis to test - does the model built for \"35\" performs good on data for other countries?"
      ]
    },
    {
      "cell_type": "code",
      "metadata": {
        "id": "rd35ASCJKviN"
      },
      "source": [
        ""
      ],
      "execution_count": null,
      "outputs": []
    },
    {
      "cell_type": "code",
      "metadata": {
        "id": "8viPLb9vLEEB"
      },
      "source": [
        ""
      ],
      "execution_count": null,
      "outputs": []
    },
    {
      "cell_type": "code",
      "metadata": {
        "id": "T15mSa3JLEnH"
      },
      "source": [
        ""
      ],
      "execution_count": null,
      "outputs": []
    },
    {
      "cell_type": "code",
      "metadata": {
        "id": "Nq9_0yWrKqZ_"
      },
      "source": [
        "df_clean[\"35\"] = np.where(df_clean.Country == \"35\", 1, 0)\n",
        "df_clean[\"35\"] = df_clean[\"35\"].apply(str)"
      ],
      "execution_count": null,
      "outputs": []
    },
    {
      "cell_type": "code",
      "metadata": {
        "colab": {
          "base_uri": "https://localhost:8080/"
        },
        "id": "tCvvNYwJLFiS",
        "outputId": "53c2008a-2b99-4045-8bff-203fccf68db6"
      },
      "source": [
        "df_clean.info()"
      ],
      "execution_count": null,
      "outputs": [
        {
          "output_type": "stream",
          "text": [
            "<class 'pandas.core.frame.DataFrame'>\n",
            "Int64Index: 281849 entries, 0 to 281848\n",
            "Data columns (total 14 columns):\n",
            " #   Column         Non-Null Count   Dtype         \n",
            "---  ------         --------------   -----         \n",
            " 0   InvoiceNo      281849 non-null  object        \n",
            " 1   StockCode      281849 non-null  object        \n",
            " 2   Description    281849 non-null  object        \n",
            " 3   Quantity       281849 non-null  int64         \n",
            " 4   UnitPrice      281849 non-null  float64       \n",
            " 5   Country        281849 non-null  object        \n",
            " 6   Sales          281849 non-null  float64       \n",
            " 7   InvoiceDate    281849 non-null  datetime64[ns]\n",
            " 8   QuantityInv    281849 non-null  int64         \n",
            " 9   QuantityRange  281516 non-null  category      \n",
            " 10  PriceRange     281849 non-null  category      \n",
            " 11  Month          281849 non-null  int64         \n",
            " 12  DateRange      281849 non-null  category      \n",
            " 13  35             281849 non-null  object        \n",
            "dtypes: category(3), datetime64[ns](1), float64(2), int64(3), object(5)\n",
            "memory usage: 26.6+ MB\n"
          ],
          "name": "stdout"
        }
      ]
    },
    {
      "cell_type": "code",
      "metadata": {
        "id": "_a_aSFXtEjlf"
      },
      "source": [
        "# df_35 = df_clean[df_clean['Country'] == '35']\n",
        "# df_abroad = df_clean[df_clean['Country'] != '35']"
      ],
      "execution_count": null,
      "outputs": []
    },
    {
      "cell_type": "code",
      "metadata": {
        "id": "ITIQrOKmFFNR"
      },
      "source": [
        "# df_35.shape, df_abroad.shape"
      ],
      "execution_count": null,
      "outputs": []
    },
    {
      "cell_type": "markdown",
      "metadata": {
        "id": "Z5qux6qQ2SIW"
      },
      "source": [
        "Extracting features and creating dummy variables"
      ]
    },
    {
      "cell_type": "code",
      "metadata": {
        "colab": {
          "base_uri": "https://localhost:8080/",
          "height": 195
        },
        "id": "VbUKBC5hFHbO",
        "outputId": "4e6e8ed0-8fda-405c-88bf-f67025561f80"
      },
      "source": [
        "df_clean_model = df_clean[['UnitPrice', 'QuantityInv', 'QuantityRange', 'DateRange',\"Country\"]]\n",
        "df_clean_model.head()"
      ],
      "execution_count": null,
      "outputs": [
        {
          "output_type": "execute_result",
          "data": {
            "text/html": [
              "<div>\n",
              "<style scoped>\n",
              "    .dataframe tbody tr th:only-of-type {\n",
              "        vertical-align: middle;\n",
              "    }\n",
              "\n",
              "    .dataframe tbody tr th {\n",
              "        vertical-align: top;\n",
              "    }\n",
              "\n",
              "    .dataframe thead th {\n",
              "        text-align: right;\n",
              "    }\n",
              "</style>\n",
              "<table border=\"1\" class=\"dataframe\">\n",
              "  <thead>\n",
              "    <tr style=\"text-align: right;\">\n",
              "      <th></th>\n",
              "      <th>UnitPrice</th>\n",
              "      <th>QuantityInv</th>\n",
              "      <th>QuantityRange</th>\n",
              "      <th>DateRange</th>\n",
              "      <th>Country</th>\n",
              "    </tr>\n",
              "  </thead>\n",
              "  <tbody>\n",
              "    <tr>\n",
              "      <th>0</th>\n",
              "      <td>4.25</td>\n",
              "      <td>34</td>\n",
              "      <td>(5, 8]</td>\n",
              "      <td>(9, 12]</td>\n",
              "      <td>35</td>\n",
              "    </tr>\n",
              "    <tr>\n",
              "      <th>1</th>\n",
              "      <td>3.39</td>\n",
              "      <td>34</td>\n",
              "      <td>(5, 8]</td>\n",
              "      <td>(9, 12]</td>\n",
              "      <td>35</td>\n",
              "    </tr>\n",
              "    <tr>\n",
              "      <th>2</th>\n",
              "      <td>2.75</td>\n",
              "      <td>34</td>\n",
              "      <td>(5, 8]</td>\n",
              "      <td>(9, 12]</td>\n",
              "      <td>35</td>\n",
              "    </tr>\n",
              "    <tr>\n",
              "      <th>3</th>\n",
              "      <td>2.55</td>\n",
              "      <td>34</td>\n",
              "      <td>(5, 8]</td>\n",
              "      <td>(9, 12]</td>\n",
              "      <td>35</td>\n",
              "    </tr>\n",
              "    <tr>\n",
              "      <th>4</th>\n",
              "      <td>3.39</td>\n",
              "      <td>34</td>\n",
              "      <td>(5, 8]</td>\n",
              "      <td>(9, 12]</td>\n",
              "      <td>35</td>\n",
              "    </tr>\n",
              "  </tbody>\n",
              "</table>\n",
              "</div>"
            ],
            "text/plain": [
              "   UnitPrice  QuantityInv QuantityRange DateRange Country\n",
              "0       4.25           34        (5, 8]   (9, 12]      35\n",
              "1       3.39           34        (5, 8]   (9, 12]      35\n",
              "2       2.75           34        (5, 8]   (9, 12]      35\n",
              "3       2.55           34        (5, 8]   (9, 12]      35\n",
              "4       3.39           34        (5, 8]   (9, 12]      35"
            ]
          },
          "metadata": {
            "tags": []
          },
          "execution_count": 56
        }
      ]
    },
    {
      "cell_type": "code",
      "metadata": {
        "colab": {
          "base_uri": "https://localhost:8080/",
          "height": 195
        },
        "id": "EjrrySgM3vdP",
        "outputId": "dc55d17c-783a-442e-e6d9-03f4a2815dfe"
      },
      "source": [
        "df_data = df_clean_model.copy()\n",
        "df_data = pd.get_dummies(df_data, columns=['QuantityRange'], prefix='qr')\n",
        "# df_data = pd.get_dummies(df_data, columns=['PriceRange'], prefix='pr')\n",
        "df_data = pd.get_dummies(df_data, columns=['DateRange'], prefix='dr')\n",
        "df_data.head()"
      ],
      "execution_count": null,
      "outputs": [
        {
          "output_type": "execute_result",
          "data": {
            "text/html": [
              "<div>\n",
              "<style scoped>\n",
              "    .dataframe tbody tr th:only-of-type {\n",
              "        vertical-align: middle;\n",
              "    }\n",
              "\n",
              "    .dataframe tbody tr th {\n",
              "        vertical-align: top;\n",
              "    }\n",
              "\n",
              "    .dataframe thead th {\n",
              "        text-align: right;\n",
              "    }\n",
              "</style>\n",
              "<table border=\"1\" class=\"dataframe\">\n",
              "  <thead>\n",
              "    <tr style=\"text-align: right;\">\n",
              "      <th></th>\n",
              "      <th>UnitPrice</th>\n",
              "      <th>QuantityInv</th>\n",
              "      <th>Country</th>\n",
              "      <th>qr_(0, 2]</th>\n",
              "      <th>qr_(2, 5]</th>\n",
              "      <th>qr_(5, 8]</th>\n",
              "      <th>qr_(8, 11]</th>\n",
              "      <th>qr_(11, 14]</th>\n",
              "      <th>qr_(15, 5000]</th>\n",
              "      <th>dr_(0, 3]</th>\n",
              "      <th>dr_(3, 6]</th>\n",
              "      <th>dr_(6, 9]</th>\n",
              "      <th>dr_(9, 12]</th>\n",
              "    </tr>\n",
              "  </thead>\n",
              "  <tbody>\n",
              "    <tr>\n",
              "      <th>0</th>\n",
              "      <td>4.25</td>\n",
              "      <td>34</td>\n",
              "      <td>35</td>\n",
              "      <td>0</td>\n",
              "      <td>0</td>\n",
              "      <td>1</td>\n",
              "      <td>0</td>\n",
              "      <td>0</td>\n",
              "      <td>0</td>\n",
              "      <td>0</td>\n",
              "      <td>0</td>\n",
              "      <td>0</td>\n",
              "      <td>1</td>\n",
              "    </tr>\n",
              "    <tr>\n",
              "      <th>1</th>\n",
              "      <td>3.39</td>\n",
              "      <td>34</td>\n",
              "      <td>35</td>\n",
              "      <td>0</td>\n",
              "      <td>0</td>\n",
              "      <td>1</td>\n",
              "      <td>0</td>\n",
              "      <td>0</td>\n",
              "      <td>0</td>\n",
              "      <td>0</td>\n",
              "      <td>0</td>\n",
              "      <td>0</td>\n",
              "      <td>1</td>\n",
              "    </tr>\n",
              "    <tr>\n",
              "      <th>2</th>\n",
              "      <td>2.75</td>\n",
              "      <td>34</td>\n",
              "      <td>35</td>\n",
              "      <td>0</td>\n",
              "      <td>0</td>\n",
              "      <td>1</td>\n",
              "      <td>0</td>\n",
              "      <td>0</td>\n",
              "      <td>0</td>\n",
              "      <td>0</td>\n",
              "      <td>0</td>\n",
              "      <td>0</td>\n",
              "      <td>1</td>\n",
              "    </tr>\n",
              "    <tr>\n",
              "      <th>3</th>\n",
              "      <td>2.55</td>\n",
              "      <td>34</td>\n",
              "      <td>35</td>\n",
              "      <td>0</td>\n",
              "      <td>0</td>\n",
              "      <td>1</td>\n",
              "      <td>0</td>\n",
              "      <td>0</td>\n",
              "      <td>0</td>\n",
              "      <td>0</td>\n",
              "      <td>0</td>\n",
              "      <td>0</td>\n",
              "      <td>1</td>\n",
              "    </tr>\n",
              "    <tr>\n",
              "      <th>4</th>\n",
              "      <td>3.39</td>\n",
              "      <td>34</td>\n",
              "      <td>35</td>\n",
              "      <td>0</td>\n",
              "      <td>0</td>\n",
              "      <td>1</td>\n",
              "      <td>0</td>\n",
              "      <td>0</td>\n",
              "      <td>0</td>\n",
              "      <td>0</td>\n",
              "      <td>0</td>\n",
              "      <td>0</td>\n",
              "      <td>1</td>\n",
              "    </tr>\n",
              "  </tbody>\n",
              "</table>\n",
              "</div>"
            ],
            "text/plain": [
              "   UnitPrice  QuantityInv Country  ...  dr_(3, 6]  dr_(6, 9]  dr_(9, 12]\n",
              "0       4.25           34      35  ...          0          0           1\n",
              "1       3.39           34      35  ...          0          0           1\n",
              "2       2.75           34      35  ...          0          0           1\n",
              "3       2.55           34      35  ...          0          0           1\n",
              "4       3.39           34      35  ...          0          0           1\n",
              "\n",
              "[5 rows x 13 columns]"
            ]
          },
          "metadata": {
            "tags": []
          },
          "execution_count": 57
        }
      ]
    },
    {
      "cell_type": "markdown",
      "metadata": {
        "id": "N-h1XVFr36PI"
      },
      "source": [
        "## **Scaling**"
      ]
    },
    {
      "cell_type": "markdown",
      "metadata": {
        "id": "LoHUvsXR4AFu"
      },
      "source": [
        "As the majority of our features are in 0-1 range it would make sense to scale \"QuantityInv\" feature too. In general, scaling features is normally a good idea."
      ]
    },
    {
      "cell_type": "code",
      "metadata": {
        "id": "2h_HqK1z32xR"
      },
      "source": [
        "from sklearn.preprocessing import scale\n",
        "df_data['QuantityInv'] = scale(df_data['QuantityInv'])"
      ],
      "execution_count": null,
      "outputs": []
    },
    {
      "cell_type": "code",
      "metadata": {
        "colab": {
          "base_uri": "https://localhost:8080/",
          "height": 212
        },
        "id": "0px_J5V0amY6",
        "outputId": "aedca9ad-7e10-4f50-ea0f-0b8224ce3708"
      },
      "source": [
        "df_data.head()"
      ],
      "execution_count": null,
      "outputs": [
        {
          "output_type": "execute_result",
          "data": {
            "text/html": [
              "<div>\n",
              "<style scoped>\n",
              "    .dataframe tbody tr th:only-of-type {\n",
              "        vertical-align: middle;\n",
              "    }\n",
              "\n",
              "    .dataframe tbody tr th {\n",
              "        vertical-align: top;\n",
              "    }\n",
              "\n",
              "    .dataframe thead th {\n",
              "        text-align: right;\n",
              "    }\n",
              "</style>\n",
              "<table border=\"1\" class=\"dataframe\">\n",
              "  <thead>\n",
              "    <tr style=\"text-align: right;\">\n",
              "      <th></th>\n",
              "      <th>UnitPrice</th>\n",
              "      <th>QuantityInv</th>\n",
              "      <th>Country</th>\n",
              "      <th>qr_(0, 2]</th>\n",
              "      <th>qr_(2, 5]</th>\n",
              "      <th>qr_(5, 8]</th>\n",
              "      <th>qr_(8, 11]</th>\n",
              "      <th>qr_(11, 14]</th>\n",
              "      <th>qr_(15, 5000]</th>\n",
              "      <th>dr_(0, 3]</th>\n",
              "      <th>dr_(3, 6]</th>\n",
              "      <th>dr_(6, 9]</th>\n",
              "      <th>dr_(9, 12]</th>\n",
              "    </tr>\n",
              "  </thead>\n",
              "  <tbody>\n",
              "    <tr>\n",
              "      <th>0</th>\n",
              "      <td>4.25</td>\n",
              "      <td>-0.431406</td>\n",
              "      <td>35</td>\n",
              "      <td>0</td>\n",
              "      <td>0</td>\n",
              "      <td>1</td>\n",
              "      <td>0</td>\n",
              "      <td>0</td>\n",
              "      <td>0</td>\n",
              "      <td>0</td>\n",
              "      <td>0</td>\n",
              "      <td>0</td>\n",
              "      <td>1</td>\n",
              "    </tr>\n",
              "    <tr>\n",
              "      <th>1</th>\n",
              "      <td>3.39</td>\n",
              "      <td>-0.431406</td>\n",
              "      <td>35</td>\n",
              "      <td>0</td>\n",
              "      <td>0</td>\n",
              "      <td>1</td>\n",
              "      <td>0</td>\n",
              "      <td>0</td>\n",
              "      <td>0</td>\n",
              "      <td>0</td>\n",
              "      <td>0</td>\n",
              "      <td>0</td>\n",
              "      <td>1</td>\n",
              "    </tr>\n",
              "    <tr>\n",
              "      <th>2</th>\n",
              "      <td>2.75</td>\n",
              "      <td>-0.431406</td>\n",
              "      <td>35</td>\n",
              "      <td>0</td>\n",
              "      <td>0</td>\n",
              "      <td>1</td>\n",
              "      <td>0</td>\n",
              "      <td>0</td>\n",
              "      <td>0</td>\n",
              "      <td>0</td>\n",
              "      <td>0</td>\n",
              "      <td>0</td>\n",
              "      <td>1</td>\n",
              "    </tr>\n",
              "    <tr>\n",
              "      <th>3</th>\n",
              "      <td>2.55</td>\n",
              "      <td>-0.431406</td>\n",
              "      <td>35</td>\n",
              "      <td>0</td>\n",
              "      <td>0</td>\n",
              "      <td>1</td>\n",
              "      <td>0</td>\n",
              "      <td>0</td>\n",
              "      <td>0</td>\n",
              "      <td>0</td>\n",
              "      <td>0</td>\n",
              "      <td>0</td>\n",
              "      <td>1</td>\n",
              "    </tr>\n",
              "    <tr>\n",
              "      <th>4</th>\n",
              "      <td>3.39</td>\n",
              "      <td>-0.431406</td>\n",
              "      <td>35</td>\n",
              "      <td>0</td>\n",
              "      <td>0</td>\n",
              "      <td>1</td>\n",
              "      <td>0</td>\n",
              "      <td>0</td>\n",
              "      <td>0</td>\n",
              "      <td>0</td>\n",
              "      <td>0</td>\n",
              "      <td>0</td>\n",
              "      <td>1</td>\n",
              "    </tr>\n",
              "  </tbody>\n",
              "</table>\n",
              "</div>"
            ],
            "text/plain": [
              "   UnitPrice  QuantityInv Country  ...  dr_(3, 6]  dr_(6, 9]  dr_(9, 12]\n",
              "0       4.25    -0.431406      35  ...          0          0           1\n",
              "1       3.39    -0.431406      35  ...          0          0           1\n",
              "2       2.75    -0.431406      35  ...          0          0           1\n",
              "3       2.55    -0.431406      35  ...          0          0           1\n",
              "4       3.39    -0.431406      35  ...          0          0           1\n",
              "\n",
              "[5 rows x 13 columns]"
            ]
          },
          "metadata": {
            "tags": []
          },
          "execution_count": 59
        }
      ]
    },
    {
      "cell_type": "markdown",
      "metadata": {
        "id": "9Azpuzk-4Hy5"
      },
      "source": [
        "# Train-Test Split"
      ]
    },
    {
      "cell_type": "markdown",
      "metadata": {
        "id": "Ca8_TyaY5Apy"
      },
      "source": [
        "Now we have to split our data into train-test data to be able to train our model and validate its capabilities."
      ]
    },
    {
      "cell_type": "code",
      "metadata": {
        "colab": {
          "base_uri": "https://localhost:8080/"
        },
        "id": "6hiMQuo14DXo",
        "outputId": "5f9bfc22-4979-4670-eb0d-b51e81c1dfd5"
      },
      "source": [
        "y = df_data['UnitPrice']\n",
        "X = df_data.drop(columns=['UnitPrice'])\n",
        "X.shape, y.shape"
      ],
      "execution_count": null,
      "outputs": [
        {
          "output_type": "execute_result",
          "data": {
            "text/plain": [
              "((281849, 12), (281849,))"
            ]
          },
          "metadata": {
            "tags": []
          },
          "execution_count": 60
        }
      ]
    },
    {
      "cell_type": "code",
      "metadata": {
        "id": "gAq1fnjX5ML3"
      },
      "source": [
        "from sklearn.model_selection import train_test_split\n",
        "X_train, X_test, y_train, y_test = train_test_split(X, y, test_size = 0.20, random_state=42)"
      ],
      "execution_count": null,
      "outputs": []
    },
    {
      "cell_type": "markdown",
      "metadata": {
        "id": "n1iMzOhf5U-u"
      },
      "source": [
        "## **Testing and validating different models**"
      ]
    },
    {
      "cell_type": "markdown",
      "metadata": {
        "id": "THh9Cpl05X6D"
      },
      "source": [
        "Here we use GridSearch and CrossValidation to test three types of regressors: Linear, DecisionTree and RandomForest. This can take a while..."
      ]
    },
    {
      "cell_type": "code",
      "metadata": {
        "colab": {
          "base_uri": "https://localhost:8080/"
        },
        "id": "i75dppXe5OyX",
        "outputId": "39d751a7-d3f0-4a1d-86a0-76c313f118f5"
      },
      "source": [
        "from sklearn.model_selection import KFold\n",
        "from sklearn.linear_model import LinearRegression\n",
        "from sklearn.tree import DecisionTreeRegressor\n",
        "from sklearn.ensemble import RandomForestRegressor\n",
        "\n",
        "from sklearn.model_selection import GridSearchCV\n",
        "\n",
        "from sklearn.metrics import mean_absolute_error\n",
        "from sklearn.metrics import mean_squared_error\n",
        "from sklearn.metrics import r2_score\n",
        "\n",
        "# Linear Regression\n",
        "fit_intercepts = [True, False]\n",
        "param_grid_linear = dict(fit_intercept=fit_intercepts)\n",
        "linear_model = LinearRegression()\n",
        "\n",
        "# Decision Tree\n",
        "min_tree_splits = range(2,3)\n",
        "min_tree_leaves = range(2,3)\n",
        "param_grid_tree = dict(min_samples_split=min_tree_splits,\n",
        "                       min_samples_leaf=min_tree_leaves)\n",
        "tree_model = DecisionTreeRegressor()\n",
        "\n",
        "# Random Forest\n",
        "estimators_space = [100]\n",
        "min_sample_splits = range(2,4)\n",
        "min_sample_leaves = range(2,3)\n",
        "param_grid_forest = dict(min_samples_split=min_sample_splits,\n",
        "                       min_samples_leaf=min_sample_leaves,\n",
        "                       n_estimators=estimators_space)\n",
        "forest_model = RandomForestRegressor()\n",
        "\n",
        "cv = 5\n",
        "\n",
        "models_to_test = ['LinearRegression','DecisionTreeRegressor','RandomForest']\n",
        "regression_dict = dict(LinearRegression=linear_model,\n",
        "                       DecisionTreeRegressor=tree_model,\n",
        "                       RandomForest=forest_model)\n",
        "param_grid_dict = dict(LinearRegression=param_grid_linear,\n",
        "                       DecisionTreeRegressor=param_grid_tree,\n",
        "                       RandomForest=param_grid_forest)\n",
        "\n",
        "score_dict = {}\n",
        "params_dict = {}\n",
        "mae_dict = {}\n",
        "mse_dict = {}\n",
        "r2_dict = {}\n",
        "best_est_dict = {}\n",
        "\n",
        "for model in models_to_test:\n",
        "  regressor = GridSearchCV(regression_dict[model], param_grid_dict[model], cv=cv, n_jobs=-1)\n",
        "\n",
        "  regressor.fit(X_train, y_train)\n",
        "  y_pred = regressor.predict(X_test)\n",
        "\n",
        "  # Print the tuned parameters and score\n",
        "  print(\" === Start report for regressor {} ===\".format(model))\n",
        "  score_dict[model] = regressor.best_score_\n",
        "  print(\"Tuned Parameters: {}\".format(regressor.best_params_)) \n",
        "  params_dict = regressor.best_params_\n",
        "  print(\"Best score is {}\".format(regressor.best_score_))\n",
        "\n",
        "  # Compute metrics\n",
        "  mae_dict[model] = mean_absolute_error(y_test, y_pred)\n",
        "  print(\"MAE for {}\".format(model))\n",
        "  print(mean_absolute_error(y_test, y_pred))\n",
        "  mse_dict[model] = mean_squared_error(y_test, y_pred)\n",
        "  print(\"MSE for {}\".format(model))\n",
        "  print(mean_squared_error(y_test, y_pred))\n",
        "  r2_dict[model] = r2_score(y_test, y_pred)\n",
        "  print(\"R2 score for {}\".format(model))\n",
        "  print(r2_score(y_test, y_pred))\n",
        "  print(\" === End of report for regressor {} === \\n\".format(model))\n",
        "  \n",
        "  # Add best estimator to the dict\n",
        "  best_est_dict[model] = regressor.best_estimator_"
      ],
      "execution_count": null,
      "outputs": [
        {
          "output_type": "stream",
          "text": [
            " === Start report for regressor LinearRegression ===\n",
            "Tuned Parameters: {'fit_intercept': True}\n",
            "Best score is 0.1606268641907721\n",
            "MAE for LinearRegression\n",
            "1.6353237691659788\n",
            "MSE for LinearRegression\n",
            "5.467068074911137\n",
            "R2 score for LinearRegression\n",
            "0.16206053195717673\n",
            " === End of report for regressor LinearRegression === \n",
            "\n",
            " === Start report for regressor DecisionTreeRegressor ===\n",
            "Tuned Parameters: {'min_samples_leaf': 2, 'min_samples_split': 2}\n",
            "Best score is 0.23765759838601266\n",
            "MAE for DecisionTreeRegressor\n",
            "1.501050039016451\n",
            "MSE for DecisionTreeRegressor\n",
            "4.875292912243831\n",
            "R2 score for DecisionTreeRegressor\n",
            "0.25276212158654265\n",
            " === End of report for regressor DecisionTreeRegressor === \n",
            "\n",
            " === Start report for regressor RandomForest ===\n",
            "Tuned Parameters: {'min_samples_leaf': 2, 'min_samples_split': 3, 'n_estimators': 100}\n",
            "Best score is 0.24774562728949467\n",
            "MAE for RandomForest\n",
            "1.4951850738375247\n",
            "MSE for RandomForest\n",
            "4.824553527019926\n",
            "R2 score for RandomForest\n",
            "0.2605389652037734\n",
            " === End of report for regressor RandomForest === \n",
            "\n"
          ],
          "name": "stdout"
        }
      ]
    },
    {
      "cell_type": "code",
      "metadata": {
        "colab": {
          "base_uri": "https://localhost:8080/",
          "height": 195
        },
        "id": "NHZdu77o5noo",
        "outputId": "d907d844-0792-4252-f524-3fd85f6a0d14"
      },
      "source": [
        "\n",
        "test = pd.read_csv(\"https://raw.githubusercontent.com/rohitgupta29/Hackathons/main/e-commerce_retail/Data/test_range_35.csv\", index_col = False)\n",
        "X_test = test.drop(\"Unnamed: 0\", axis =1 )\n",
        "X_test.head()"
      ],
      "execution_count": null,
      "outputs": [
        {
          "output_type": "execute_result",
          "data": {
            "text/html": [
              "<div>\n",
              "<style scoped>\n",
              "    .dataframe tbody tr th:only-of-type {\n",
              "        vertical-align: middle;\n",
              "    }\n",
              "\n",
              "    .dataframe tbody tr th {\n",
              "        vertical-align: top;\n",
              "    }\n",
              "\n",
              "    .dataframe thead th {\n",
              "        text-align: right;\n",
              "    }\n",
              "</style>\n",
              "<table border=\"1\" class=\"dataframe\">\n",
              "  <thead>\n",
              "    <tr style=\"text-align: right;\">\n",
              "      <th></th>\n",
              "      <th>QuantityInv</th>\n",
              "      <th>Country</th>\n",
              "      <th>qr_(0, 2]</th>\n",
              "      <th>qr_(2, 5]</th>\n",
              "      <th>qr_(5, 8]</th>\n",
              "      <th>qr_(8, 11]</th>\n",
              "      <th>qr_(11, 14]</th>\n",
              "      <th>qr_(15, 5000]</th>\n",
              "      <th>dr_(0, 3]</th>\n",
              "      <th>dr_(3, 6]</th>\n",
              "      <th>dr_(6, 9]</th>\n",
              "      <th>dr_(9, 12]</th>\n",
              "    </tr>\n",
              "  </thead>\n",
              "  <tbody>\n",
              "    <tr>\n",
              "      <th>0</th>\n",
              "      <td>-0.487008</td>\n",
              "      <td>35</td>\n",
              "      <td>0</td>\n",
              "      <td>0</td>\n",
              "      <td>1</td>\n",
              "      <td>0</td>\n",
              "      <td>0</td>\n",
              "      <td>0</td>\n",
              "      <td>0</td>\n",
              "      <td>0</td>\n",
              "      <td>0</td>\n",
              "      <td>1</td>\n",
              "    </tr>\n",
              "    <tr>\n",
              "      <th>1</th>\n",
              "      <td>-0.487008</td>\n",
              "      <td>35</td>\n",
              "      <td>0</td>\n",
              "      <td>0</td>\n",
              "      <td>1</td>\n",
              "      <td>0</td>\n",
              "      <td>0</td>\n",
              "      <td>0</td>\n",
              "      <td>0</td>\n",
              "      <td>0</td>\n",
              "      <td>0</td>\n",
              "      <td>1</td>\n",
              "    </tr>\n",
              "    <tr>\n",
              "      <th>2</th>\n",
              "      <td>-0.475691</td>\n",
              "      <td>35</td>\n",
              "      <td>0</td>\n",
              "      <td>1</td>\n",
              "      <td>0</td>\n",
              "      <td>0</td>\n",
              "      <td>0</td>\n",
              "      <td>0</td>\n",
              "      <td>0</td>\n",
              "      <td>0</td>\n",
              "      <td>0</td>\n",
              "      <td>1</td>\n",
              "    </tr>\n",
              "    <tr>\n",
              "      <th>3</th>\n",
              "      <td>-0.475691</td>\n",
              "      <td>35</td>\n",
              "      <td>0</td>\n",
              "      <td>0</td>\n",
              "      <td>1</td>\n",
              "      <td>0</td>\n",
              "      <td>0</td>\n",
              "      <td>0</td>\n",
              "      <td>0</td>\n",
              "      <td>0</td>\n",
              "      <td>0</td>\n",
              "      <td>1</td>\n",
              "    </tr>\n",
              "    <tr>\n",
              "      <th>4</th>\n",
              "      <td>-0.373842</td>\n",
              "      <td>13</td>\n",
              "      <td>0</td>\n",
              "      <td>0</td>\n",
              "      <td>0</td>\n",
              "      <td>0</td>\n",
              "      <td>0</td>\n",
              "      <td>1</td>\n",
              "      <td>0</td>\n",
              "      <td>0</td>\n",
              "      <td>0</td>\n",
              "      <td>1</td>\n",
              "    </tr>\n",
              "  </tbody>\n",
              "</table>\n",
              "</div>"
            ],
            "text/plain": [
              "   QuantityInv  Country  qr_(0, 2]  ...  dr_(3, 6]  dr_(6, 9]  dr_(9, 12]\n",
              "0    -0.487008       35          0  ...          0          0           1\n",
              "1    -0.487008       35          0  ...          0          0           1\n",
              "2    -0.475691       35          0  ...          0          0           1\n",
              "3    -0.475691       35          0  ...          0          0           1\n",
              "4    -0.373842       13          0  ...          0          0           1\n",
              "\n",
              "[5 rows x 12 columns]"
            ]
          },
          "metadata": {
            "tags": []
          },
          "execution_count": 63
        }
      ]
    },
    {
      "cell_type": "code",
      "metadata": {
        "colab": {
          "base_uri": "https://localhost:8080/"
        },
        "id": "uHLif_OAc74G",
        "outputId": "890797be-8b39-4ce6-d3e8-94d946235d85"
      },
      "source": [
        "y_train = df_data['UnitPrice']\n",
        "X_train = df_data.drop(columns=['UnitPrice'])\n",
        "X_train.shape"
      ],
      "execution_count": null,
      "outputs": [
        {
          "output_type": "execute_result",
          "data": {
            "text/plain": [
              "(281849, 12)"
            ]
          },
          "metadata": {
            "tags": []
          },
          "execution_count": 64
        }
      ]
    },
    {
      "cell_type": "code",
      "metadata": {
        "id": "m5cpomVma-wc"
      },
      "source": [
        ""
      ],
      "execution_count": null,
      "outputs": []
    },
    {
      "cell_type": "code",
      "metadata": {
        "colab": {
          "base_uri": "https://localhost:8080/"
        },
        "id": "2GH49-VXcQ8V",
        "outputId": "9e4cceac-b490-4dd2-d849-5f42ed4b4e37"
      },
      "source": [
        "from sklearn.model_selection import KFold\n",
        "from sklearn.linear_model import LinearRegression\n",
        "from sklearn.tree import DecisionTreeRegressor\n",
        "from sklearn.ensemble import RandomForestRegressor\n",
        "\n",
        "from sklearn.model_selection import GridSearchCV\n",
        "\n",
        "from sklearn.metrics import mean_absolute_error\n",
        "from sklearn.metrics import mean_squared_error\n",
        "from sklearn.metrics import r2_score\n",
        "\n",
        "# Linear Regression\n",
        "fit_intercepts = [True, False]\n",
        "param_grid_linear = dict(fit_intercept=fit_intercepts)\n",
        "linear_model = LinearRegression()\n",
        "\n",
        "# Decision Tree\n",
        "min_tree_splits = range(2,3)\n",
        "min_tree_leaves = range(2,3)\n",
        "param_grid_tree = dict(min_samples_split=min_tree_splits,\n",
        "                       min_samples_leaf=min_tree_leaves)\n",
        "tree_model = DecisionTreeRegressor()\n",
        "\n",
        "# Random Forest\n",
        "estimators_space = [100]\n",
        "min_sample_splits = range(2,4)\n",
        "min_sample_leaves = range(2,3)\n",
        "param_grid_forest = dict(min_samples_split=min_sample_splits,\n",
        "                       min_samples_leaf=min_sample_leaves,\n",
        "                       n_estimators=estimators_space)\n",
        "forest_model = RandomForestRegressor()\n",
        "\n",
        "cv = 5\n",
        "\n",
        "models_to_test = ['LinearRegression','DecisionTreeRegressor','RandomForest']\n",
        "regression_dict = dict(LinearRegression=linear_model,\n",
        "                       DecisionTreeRegressor=tree_model,\n",
        "                       RandomForest=forest_model)\n",
        "param_grid_dict = dict(LinearRegression=param_grid_linear,\n",
        "                       DecisionTreeRegressor=param_grid_tree,\n",
        "                       RandomForest=param_grid_forest)\n",
        "\n",
        "score_dict = {}\n",
        "params_dict = {}\n",
        "mae_dict = {}\n",
        "mse_dict = {}\n",
        "r2_dict = {}\n",
        "best_est_dict = {}\n",
        "\n",
        "for model in models_to_test:\n",
        "  regressor = GridSearchCV(regression_dict[model], param_grid_dict[model], cv=cv, n_jobs=-1)\n",
        "\n",
        "  regressor.fit(X_train, y_train)\n",
        "  y_pred = regressor.predict(X_test)\n",
        "\n",
        "  # Print the tuned parameters and score\n",
        "  print(\" === Start report for regressor {} ===\".format(model))\n",
        "  score_dict[model] = regressor.best_score_\n",
        "  print(\"Tuned Parameters: {}\".format(regressor.best_params_)) \n",
        "  params_dict = regressor.best_params_\n",
        "  print(\"Best score is {}\".format(regressor.best_score_))\n",
        "\n",
        "  # Compute metrics\n",
        "  # mae_dict[model] = mean_absolute_error(y_test, y_pred)\n",
        "  # print(\"MAE for {}\".format(model))\n",
        "  # print(mean_absolute_error(y_test, y_pred))\n",
        "  # mse_dict[model] = mean_squared_error(y_test, y_pred)\n",
        "  # print(\"MSE for {}\".format(model))\n",
        "  # print(mean_squared_error(y_test, y_pred))\n",
        "  # r2_dict[model] = r2_score(y_test, y_pred)\n",
        "  # print(\"R2 score for {}\".format(model))\n",
        "  # print(r2_score(y_test, y_pred))\n",
        "  # print(\" === End of report for regressor {} === \\n\".format(model))\n",
        "  \n",
        "  # Add best estimator to the dict\n",
        "  best_est_dict[model] = regressor.best_estimator_"
      ],
      "execution_count": null,
      "outputs": [
        {
          "output_type": "stream",
          "text": [
            " === Start report for regressor LinearRegression ===\n",
            "Tuned Parameters: {'fit_intercept': False}\n",
            "Best score is 0.15074559458061693\n",
            " === Start report for regressor DecisionTreeRegressor ===\n",
            "Tuned Parameters: {'min_samples_leaf': 2, 'min_samples_split': 2}\n",
            "Best score is -0.23875473990514773\n",
            " === Start report for regressor RandomForest ===\n",
            "Tuned Parameters: {'min_samples_leaf': 2, 'min_samples_split': 2, 'n_estimators': 100}\n",
            "Best score is -0.11044301678914983\n"
          ],
          "name": "stdout"
        }
      ]
    },
    {
      "cell_type": "code",
      "metadata": {
        "id": "hOSissmHdRdO"
      },
      "source": [
        "y_pred = pd.DataFrame(data=y_pred)\n",
        "y_pred['UnitPrice']=y_pred[0]\n",
        "e=y_pred.drop(0,axis=1)\n",
        "e.to_csv(\"Nov19_35t.csv\")"
      ],
      "execution_count": null,
      "outputs": []
    },
    {
      "cell_type": "code",
      "metadata": {
        "colab": {
          "base_uri": "https://localhost:8080/"
        },
        "id": "WKv1UN7zgTYS",
        "outputId": "1e02d3e7-1088-4f95-d3aa-a19964e5c34f"
      },
      "source": [
        "e.shape"
      ],
      "execution_count": null,
      "outputs": [
        {
          "output_type": "execute_result",
          "data": {
            "text/plain": [
              "(122049, 1)"
            ]
          },
          "metadata": {
            "tags": []
          },
          "execution_count": 67
        }
      ]
    },
    {
      "cell_type": "code",
      "metadata": {
        "id": "Lu-AYE2rgbBb"
      },
      "source": [
        ""
      ],
      "execution_count": null,
      "outputs": []
    }
  ]
}