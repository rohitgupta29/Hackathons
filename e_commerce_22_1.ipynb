{
  "nbformat": 4,
  "nbformat_minor": 0,
  "metadata": {
    "colab": {
      "name": "e-commerce_22_1.ipynb",
      "provenance": [],
      "authorship_tag": "ABX9TyPYGvcnnU3ozbu6JCQA6yjA",
      "include_colab_link": true
    },
    "kernelspec": {
      "name": "python3",
      "display_name": "Python 3"
    }
  },
  "cells": [
    {
      "cell_type": "markdown",
      "metadata": {
        "id": "view-in-github",
        "colab_type": "text"
      },
      "source": [
        "<a href=\"https://colab.research.google.com/github/rohitgupta29/Hackathons/blob/main/e_commerce_22_1.ipynb\" target=\"_parent\"><img src=\"https://colab.research.google.com/assets/colab-badge.svg\" alt=\"Open In Colab\"/></a>"
      ]
    },
    {
      "cell_type": "code",
      "metadata": {
        "id": "23E5mVFepFn-"
      },
      "source": [
        "import numpy as np \n",
        "import pandas as pd\n",
        "import matplotlib.pyplot as plt\n",
        "import seaborn as sns\n",
        "%matplotlib inline"
      ],
      "execution_count": 2,
      "outputs": []
    },
    {
      "cell_type": "code",
      "metadata": {
        "id": "QoUSudHbpH6m"
      },
      "source": [
        "df_train=pd.read_csv('https://raw.githubusercontent.com/rohitgupta29/Hackathons/main/e-commerce_retail/Data/Train.csv')\n",
        "df_test=pd.read_csv('https://raw.githubusercontent.com/rohitgupta29/Hackathons/main/e-commerce_retail/Data/Test.csv')"
      ],
      "execution_count": 3,
      "outputs": []
    },
    {
      "cell_type": "code",
      "metadata": {
        "colab": {
          "base_uri": "https://localhost:8080/"
        },
        "id": "85UcaPoLqbO1",
        "outputId": "6ea447b4-10e8-47b7-ac8b-327ff8266587"
      },
      "source": [
        "df_train.UnitPrice.describe()"
      ],
      "execution_count": 4,
      "outputs": [
        {
          "output_type": "execute_result",
          "data": {
            "text/plain": [
              "count    284780.000000\n",
              "mean          3.451216\n",
              "std          78.399541\n",
              "min           0.000000\n",
              "25%           1.250000\n",
              "50%           1.950000\n",
              "75%           3.750000\n",
              "max       38970.000000\n",
              "Name: UnitPrice, dtype: float64"
            ]
          },
          "metadata": {
            "tags": []
          },
          "execution_count": 4
        }
      ]
    },
    {
      "cell_type": "code",
      "metadata": {
        "id": "1ot6EOlNqeBn"
      },
      "source": [
        "data = df_train.loc[(df_train.UnitPrice < 4000)].copy()"
      ],
      "execution_count": 5,
      "outputs": []
    },
    {
      "cell_type": "code",
      "metadata": {
        "colab": {
          "base_uri": "https://localhost:8080/",
          "height": 160
        },
        "id": "-hVMD15DqiOy",
        "outputId": "59866113-17c9-4706-b971-b3ebaa3dd990"
      },
      "source": [
        "df_test[df_train.Quantity > 3000]"
      ],
      "execution_count": 6,
      "outputs": [
        {
          "output_type": "stream",
          "text": [
            "/usr/local/lib/python3.6/dist-packages/ipykernel_launcher.py:1: UserWarning: Boolean Series key will be reindexed to match DataFrame index.\n",
            "  \"\"\"Entry point for launching an IPython kernel.\n"
          ],
          "name": "stderr"
        },
        {
          "output_type": "execute_result",
          "data": {
            "text/html": [
              "<div>\n",
              "<style scoped>\n",
              "    .dataframe tbody tr th:only-of-type {\n",
              "        vertical-align: middle;\n",
              "    }\n",
              "\n",
              "    .dataframe tbody tr th {\n",
              "        vertical-align: top;\n",
              "    }\n",
              "\n",
              "    .dataframe thead th {\n",
              "        text-align: right;\n",
              "    }\n",
              "</style>\n",
              "<table border=\"1\" class=\"dataframe\">\n",
              "  <thead>\n",
              "    <tr style=\"text-align: right;\">\n",
              "      <th></th>\n",
              "      <th>InvoiceNo</th>\n",
              "      <th>StockCode</th>\n",
              "      <th>Description</th>\n",
              "      <th>Quantity</th>\n",
              "      <th>InvoiceDate</th>\n",
              "      <th>CustomerID</th>\n",
              "      <th>Country</th>\n",
              "    </tr>\n",
              "  </thead>\n",
              "  <tbody>\n",
              "    <tr>\n",
              "      <th>26477</th>\n",
              "      <td>8102</td>\n",
              "      <td>2033</td>\n",
              "      <td>1762</td>\n",
              "      <td>1</td>\n",
              "      <td>2011-06-15 13:05:00</td>\n",
              "      <td>16904.0</td>\n",
              "      <td>35</td>\n",
              "    </tr>\n",
              "    <tr>\n",
              "      <th>49344</th>\n",
              "      <td>16034</td>\n",
              "      <td>1685</td>\n",
              "      <td>1676</td>\n",
              "      <td>4</td>\n",
              "      <td>2011-11-11 13:25:00</td>\n",
              "      <td>14907.0</td>\n",
              "      <td>35</td>\n",
              "    </tr>\n",
              "  </tbody>\n",
              "</table>\n",
              "</div>"
            ],
            "text/plain": [
              "       InvoiceNo  StockCode  ...  CustomerID  Country\n",
              "26477       8102       2033  ...     16904.0       35\n",
              "49344      16034       1685  ...     14907.0       35\n",
              "\n",
              "[2 rows x 7 columns]"
            ]
          },
          "metadata": {
            "tags": []
          },
          "execution_count": 6
        }
      ]
    },
    {
      "cell_type": "code",
      "metadata": {
        "colab": {
          "base_uri": "https://localhost:8080/",
          "height": 195
        },
        "id": "Hjw-5DQmqjal",
        "outputId": "1d47e192-6f2f-41e1-8506-e9913cd5de11"
      },
      "source": [
        "df_train[df_train.Quantity > 2360].head()"
      ],
      "execution_count": 7,
      "outputs": [
        {
          "output_type": "execute_result",
          "data": {
            "text/html": [
              "<div>\n",
              "<style scoped>\n",
              "    .dataframe tbody tr th:only-of-type {\n",
              "        vertical-align: middle;\n",
              "    }\n",
              "\n",
              "    .dataframe tbody tr th {\n",
              "        vertical-align: top;\n",
              "    }\n",
              "\n",
              "    .dataframe thead th {\n",
              "        text-align: right;\n",
              "    }\n",
              "</style>\n",
              "<table border=\"1\" class=\"dataframe\">\n",
              "  <thead>\n",
              "    <tr style=\"text-align: right;\">\n",
              "      <th></th>\n",
              "      <th>InvoiceNo</th>\n",
              "      <th>StockCode</th>\n",
              "      <th>Description</th>\n",
              "      <th>Quantity</th>\n",
              "      <th>InvoiceDate</th>\n",
              "      <th>UnitPrice</th>\n",
              "      <th>CustomerID</th>\n",
              "      <th>Country</th>\n",
              "    </tr>\n",
              "  </thead>\n",
              "  <tbody>\n",
              "    <tr>\n",
              "      <th>5758</th>\n",
              "      <td>2752</td>\n",
              "      <td>1547</td>\n",
              "      <td>1537</td>\n",
              "      <td>2400</td>\n",
              "      <td>2011-02-11 11:22:00</td>\n",
              "      <td>0.94</td>\n",
              "      <td>16029.0</td>\n",
              "      <td>35</td>\n",
              "    </tr>\n",
              "    <tr>\n",
              "      <th>26477</th>\n",
              "      <td>17360</td>\n",
              "      <td>3034</td>\n",
              "      <td>248</td>\n",
              "      <td>12540</td>\n",
              "      <td>2011-11-25 15:57:00</td>\n",
              "      <td>0.00</td>\n",
              "      <td>13256.0</td>\n",
              "      <td>35</td>\n",
              "    </tr>\n",
              "    <tr>\n",
              "      <th>34794</th>\n",
              "      <td>1127</td>\n",
              "      <td>1547</td>\n",
              "      <td>1537</td>\n",
              "      <td>2400</td>\n",
              "      <td>2010-12-16 10:35:00</td>\n",
              "      <td>0.94</td>\n",
              "      <td>16029.0</td>\n",
              "      <td>35</td>\n",
              "    </tr>\n",
              "    <tr>\n",
              "      <th>49344</th>\n",
              "      <td>5463</td>\n",
              "      <td>356</td>\n",
              "      <td>1168</td>\n",
              "      <td>3114</td>\n",
              "      <td>2011-04-18 13:20:00</td>\n",
              "      <td>2.10</td>\n",
              "      <td>15749.0</td>\n",
              "      <td>35</td>\n",
              "    </tr>\n",
              "    <tr>\n",
              "      <th>141379</th>\n",
              "      <td>1909</td>\n",
              "      <td>2001</td>\n",
              "      <td>2002</td>\n",
              "      <td>74215</td>\n",
              "      <td>2011-01-18 10:01:00</td>\n",
              "      <td>1.04</td>\n",
              "      <td>12346.0</td>\n",
              "      <td>35</td>\n",
              "    </tr>\n",
              "  </tbody>\n",
              "</table>\n",
              "</div>"
            ],
            "text/plain": [
              "        InvoiceNo  StockCode  Description  ...  UnitPrice CustomerID  Country\n",
              "5758         2752       1547         1537  ...       0.94    16029.0       35\n",
              "26477       17360       3034          248  ...       0.00    13256.0       35\n",
              "34794        1127       1547         1537  ...       0.94    16029.0       35\n",
              "49344        5463        356         1168  ...       2.10    15749.0       35\n",
              "141379       1909       2001         2002  ...       1.04    12346.0       35\n",
              "\n",
              "[5 rows x 8 columns]"
            ]
          },
          "metadata": {
            "tags": []
          },
          "execution_count": 7
        }
      ]
    },
    {
      "cell_type": "code",
      "metadata": {
        "colab": {
          "base_uri": "https://localhost:8080/",
          "height": 195
        },
        "id": "Xxfc9194qlSt",
        "outputId": "ea0d48c5-3a8a-4f8f-a602-569603fa1a77"
      },
      "source": [
        "df_test[df_test.Quantity <-160].head()"
      ],
      "execution_count": 8,
      "outputs": [
        {
          "output_type": "execute_result",
          "data": {
            "text/html": [
              "<div>\n",
              "<style scoped>\n",
              "    .dataframe tbody tr th:only-of-type {\n",
              "        vertical-align: middle;\n",
              "    }\n",
              "\n",
              "    .dataframe tbody tr th {\n",
              "        vertical-align: top;\n",
              "    }\n",
              "\n",
              "    .dataframe thead th {\n",
              "        text-align: right;\n",
              "    }\n",
              "</style>\n",
              "<table border=\"1\" class=\"dataframe\">\n",
              "  <thead>\n",
              "    <tr style=\"text-align: right;\">\n",
              "      <th></th>\n",
              "      <th>InvoiceNo</th>\n",
              "      <th>StockCode</th>\n",
              "      <th>Description</th>\n",
              "      <th>Quantity</th>\n",
              "      <th>InvoiceDate</th>\n",
              "      <th>CustomerID</th>\n",
              "      <th>Country</th>\n",
              "    </tr>\n",
              "  </thead>\n",
              "  <tbody>\n",
              "    <tr>\n",
              "      <th>7316</th>\n",
              "      <td>20935</td>\n",
              "      <td>2037</td>\n",
              "      <td>1779</td>\n",
              "      <td>-200</td>\n",
              "      <td>2011-08-31 13:10:00</td>\n",
              "      <td>12931.0</td>\n",
              "      <td>35</td>\n",
              "    </tr>\n",
              "    <tr>\n",
              "      <th>8610</th>\n",
              "      <td>21999</td>\n",
              "      <td>1804</td>\n",
              "      <td>3825</td>\n",
              "      <td>-250</td>\n",
              "      <td>2011-11-28 15:43:00</td>\n",
              "      <td>12657.0</td>\n",
              "      <td>13</td>\n",
              "    </tr>\n",
              "    <tr>\n",
              "      <th>10472</th>\n",
              "      <td>21976</td>\n",
              "      <td>1092</td>\n",
              "      <td>2612</td>\n",
              "      <td>-200</td>\n",
              "      <td>2011-11-24 10:40:00</td>\n",
              "      <td>15482.0</td>\n",
              "      <td>35</td>\n",
              "    </tr>\n",
              "    <tr>\n",
              "      <th>14547</th>\n",
              "      <td>19598</td>\n",
              "      <td>382</td>\n",
              "      <td>2743</td>\n",
              "      <td>-200</td>\n",
              "      <td>2011-04-01 10:46:00</td>\n",
              "      <td>13694.0</td>\n",
              "      <td>35</td>\n",
              "    </tr>\n",
              "    <tr>\n",
              "      <th>15712</th>\n",
              "      <td>21534</td>\n",
              "      <td>1006</td>\n",
              "      <td>2077</td>\n",
              "      <td>-468</td>\n",
              "      <td>2011-10-24 10:40:00</td>\n",
              "      <td>14607.0</td>\n",
              "      <td>35</td>\n",
              "    </tr>\n",
              "  </tbody>\n",
              "</table>\n",
              "</div>"
            ],
            "text/plain": [
              "       InvoiceNo  StockCode  ...  CustomerID  Country\n",
              "7316       20935       2037  ...     12931.0       35\n",
              "8610       21999       1804  ...     12657.0       13\n",
              "10472      21976       1092  ...     15482.0       35\n",
              "14547      19598        382  ...     13694.0       35\n",
              "15712      21534       1006  ...     14607.0       35\n",
              "\n",
              "[5 rows x 7 columns]"
            ]
          },
          "metadata": {
            "tags": []
          },
          "execution_count": 8
        }
      ]
    },
    {
      "cell_type": "code",
      "metadata": {
        "id": "USCh_ux8qmwa"
      },
      "source": [
        "data = data.loc[(data.Quantity > -1360) & (data.Quantity < 2000)].copy()"
      ],
      "execution_count": 9,
      "outputs": []
    },
    {
      "cell_type": "code",
      "metadata": {
        "colab": {
          "base_uri": "https://localhost:8080/"
        },
        "id": "FwxJ2O5Tqotl",
        "outputId": "b22b8aaf-849d-4c8e-ae88-37be191a73cb"
      },
      "source": [
        "data.shape"
      ],
      "execution_count": 10,
      "outputs": [
        {
          "output_type": "execute_result",
          "data": {
            "text/plain": [
              "(284756, 8)"
            ]
          },
          "metadata": {
            "tags": []
          },
          "execution_count": 10
        }
      ]
    },
    {
      "cell_type": "code",
      "metadata": {
        "id": "cygbtEWiqp9I",
        "colab": {
          "base_uri": "https://localhost:8080/",
          "height": 333
        },
        "outputId": "d340cbe5-ef06-4b6f-e3d8-bf9d2fcbb5f3"
      },
      "source": [
        "data['InvoiceDate'] = pd.to_datetime(data['InvoiceDate'], errors='coerce')\n",
        "data[\"Year\"] = data.InvoiceDate.dt.year\n",
        "data[\"Quarter\"] = data.InvoiceDate.dt.quarter\n",
        "data[\"Month\"] = data.InvoiceDate.dt.month\n",
        "data[\"Day\"] = data.InvoiceDate.dt.day\n",
        "data[\"Dayofyear\"] = data.InvoiceDate.dt.dayofyear\n",
        "data[\"WeekofYear\"] = data.InvoiceDate.dt.weekofyear\n",
        "data.head()"
      ],
      "execution_count": 11,
      "outputs": [
        {
          "output_type": "stream",
          "text": [
            "/usr/local/lib/python3.6/dist-packages/ipykernel_launcher.py:7: FutureWarning: Series.dt.weekofyear and Series.dt.week have been deprecated.  Please use Series.dt.isocalendar().week instead.\n",
            "  import sys\n"
          ],
          "name": "stderr"
        },
        {
          "output_type": "execute_result",
          "data": {
            "text/html": [
              "<div>\n",
              "<style scoped>\n",
              "    .dataframe tbody tr th:only-of-type {\n",
              "        vertical-align: middle;\n",
              "    }\n",
              "\n",
              "    .dataframe tbody tr th {\n",
              "        vertical-align: top;\n",
              "    }\n",
              "\n",
              "    .dataframe thead th {\n",
              "        text-align: right;\n",
              "    }\n",
              "</style>\n",
              "<table border=\"1\" class=\"dataframe\">\n",
              "  <thead>\n",
              "    <tr style=\"text-align: right;\">\n",
              "      <th></th>\n",
              "      <th>InvoiceNo</th>\n",
              "      <th>StockCode</th>\n",
              "      <th>Description</th>\n",
              "      <th>Quantity</th>\n",
              "      <th>InvoiceDate</th>\n",
              "      <th>UnitPrice</th>\n",
              "      <th>CustomerID</th>\n",
              "      <th>Country</th>\n",
              "      <th>Year</th>\n",
              "      <th>Quarter</th>\n",
              "      <th>Month</th>\n",
              "      <th>Day</th>\n",
              "      <th>Dayofyear</th>\n",
              "      <th>WeekofYear</th>\n",
              "    </tr>\n",
              "  </thead>\n",
              "  <tbody>\n",
              "    <tr>\n",
              "      <th>0</th>\n",
              "      <td>6141</td>\n",
              "      <td>1583</td>\n",
              "      <td>144</td>\n",
              "      <td>3</td>\n",
              "      <td>2011-05-06 16:54:00</td>\n",
              "      <td>3.75</td>\n",
              "      <td>14056.0</td>\n",
              "      <td>35</td>\n",
              "      <td>2011</td>\n",
              "      <td>2</td>\n",
              "      <td>5</td>\n",
              "      <td>6</td>\n",
              "      <td>126</td>\n",
              "      <td>18</td>\n",
              "    </tr>\n",
              "    <tr>\n",
              "      <th>1</th>\n",
              "      <td>6349</td>\n",
              "      <td>1300</td>\n",
              "      <td>3682</td>\n",
              "      <td>6</td>\n",
              "      <td>2011-05-11 07:35:00</td>\n",
              "      <td>1.95</td>\n",
              "      <td>13098.0</td>\n",
              "      <td>35</td>\n",
              "      <td>2011</td>\n",
              "      <td>2</td>\n",
              "      <td>5</td>\n",
              "      <td>11</td>\n",
              "      <td>131</td>\n",
              "      <td>19</td>\n",
              "    </tr>\n",
              "    <tr>\n",
              "      <th>2</th>\n",
              "      <td>16783</td>\n",
              "      <td>2178</td>\n",
              "      <td>1939</td>\n",
              "      <td>4</td>\n",
              "      <td>2011-11-20 13:20:00</td>\n",
              "      <td>5.95</td>\n",
              "      <td>15044.0</td>\n",
              "      <td>35</td>\n",
              "      <td>2011</td>\n",
              "      <td>4</td>\n",
              "      <td>11</td>\n",
              "      <td>20</td>\n",
              "      <td>324</td>\n",
              "      <td>46</td>\n",
              "    </tr>\n",
              "    <tr>\n",
              "      <th>3</th>\n",
              "      <td>16971</td>\n",
              "      <td>2115</td>\n",
              "      <td>2983</td>\n",
              "      <td>1</td>\n",
              "      <td>2011-11-22 12:07:00</td>\n",
              "      <td>0.83</td>\n",
              "      <td>15525.0</td>\n",
              "      <td>35</td>\n",
              "      <td>2011</td>\n",
              "      <td>4</td>\n",
              "      <td>11</td>\n",
              "      <td>22</td>\n",
              "      <td>326</td>\n",
              "      <td>47</td>\n",
              "    </tr>\n",
              "    <tr>\n",
              "      <th>4</th>\n",
              "      <td>6080</td>\n",
              "      <td>1210</td>\n",
              "      <td>2886</td>\n",
              "      <td>12</td>\n",
              "      <td>2011-05-06 09:00:00</td>\n",
              "      <td>1.65</td>\n",
              "      <td>13952.0</td>\n",
              "      <td>35</td>\n",
              "      <td>2011</td>\n",
              "      <td>2</td>\n",
              "      <td>5</td>\n",
              "      <td>6</td>\n",
              "      <td>126</td>\n",
              "      <td>18</td>\n",
              "    </tr>\n",
              "  </tbody>\n",
              "</table>\n",
              "</div>"
            ],
            "text/plain": [
              "   InvoiceNo  StockCode  Description  ...  Day Dayofyear  WeekofYear\n",
              "0       6141       1583          144  ...    6       126          18\n",
              "1       6349       1300         3682  ...   11       131          19\n",
              "2      16783       2178         1939  ...   20       324          46\n",
              "3      16971       2115         2983  ...   22       326          47\n",
              "4       6080       1210         2886  ...    6       126          18\n",
              "\n",
              "[5 rows x 14 columns]"
            ]
          },
          "metadata": {
            "tags": []
          },
          "execution_count": 11
        }
      ]
    },
    {
      "cell_type": "markdown",
      "metadata": {
        "id": "AHlI4w4Aq2hU"
      },
      "source": [
        "Test Data"
      ]
    },
    {
      "cell_type": "code",
      "metadata": {
        "id": "juQmC-C3qteO",
        "colab": {
          "base_uri": "https://localhost:8080/"
        },
        "outputId": "a54aafd4-8cff-4d0b-c920-f44b7edd0404"
      },
      "source": [
        "data1=df_test\n",
        "data1['InvoiceDate'] = pd.to_datetime(data1['InvoiceDate'], errors='coerce')\n",
        "data1[\"Year\"] = data1.InvoiceDate.dt.year\n",
        "data1[\"Quarter\"] = data1.InvoiceDate.dt.quarter\n",
        "data1[\"Month\"] = data1.InvoiceDate.dt.month\n",
        "data1[\"Day\"] = data1.InvoiceDate.dt.day\n",
        "data1[\"Dayofyear\"] = data1.InvoiceDate.dt.dayofyear\n",
        "data1[\"WeekofYear\"] = data1.InvoiceDate.dt.weekofyear"
      ],
      "execution_count": 12,
      "outputs": [
        {
          "output_type": "stream",
          "text": [
            "/usr/local/lib/python3.6/dist-packages/ipykernel_launcher.py:8: FutureWarning: Series.dt.weekofyear and Series.dt.week have been deprecated.  Please use Series.dt.isocalendar().week instead.\n",
            "  \n"
          ],
          "name": "stderr"
        }
      ]
    },
    {
      "cell_type": "code",
      "metadata": {
        "colab": {
          "base_uri": "https://localhost:8080/"
        },
        "id": "LXk-Rf0Vq5SL",
        "outputId": "51298037-207c-426d-eee0-e3707f0ade51"
      },
      "source": [
        "data.InvoiceNo.unique()"
      ],
      "execution_count": 13,
      "outputs": [
        {
          "output_type": "execute_result",
          "data": {
            "text/plain": [
              "array([ 6141,  6349, 16783, ..., 21879, 13119, 20867])"
            ]
          },
          "metadata": {
            "tags": []
          },
          "execution_count": 13
        }
      ]
    },
    {
      "cell_type": "code",
      "metadata": {
        "id": "ybBYwmECq79r"
      },
      "source": [
        "data1[\"35\"] = np.where(data1.Country == 35, 1, 0)"
      ],
      "execution_count": 14,
      "outputs": []
    },
    {
      "cell_type": "code",
      "metadata": {
        "id": "oXImC4pXq-Tf"
      },
      "source": [
        "data[\"35\"] = np.where(data.Country == 35, 1, 0)"
      ],
      "execution_count": 15,
      "outputs": []
    },
    {
      "cell_type": "code",
      "metadata": {
        "id": "nPZ4fCtnrAbT"
      },
      "source": [
        "d=data.drop('Quantity',axis=1)"
      ],
      "execution_count": 16,
      "outputs": []
    },
    {
      "cell_type": "code",
      "metadata": {
        "colab": {
          "base_uri": "https://localhost:8080/"
        },
        "id": "Rsd_4eSJrB2F",
        "outputId": "77619096-4499-4708-ebf1-9bde11ddbb2e"
      },
      "source": [
        "data.shape"
      ],
      "execution_count": 17,
      "outputs": [
        {
          "output_type": "execute_result",
          "data": {
            "text/plain": [
              "(284756, 15)"
            ]
          },
          "metadata": {
            "tags": []
          },
          "execution_count": 17
        }
      ]
    },
    {
      "cell_type": "code",
      "metadata": {
        "colab": {
          "base_uri": "https://localhost:8080/"
        },
        "id": "UkR7Gdk7rDn6",
        "outputId": "aa40c48d-4020-465d-841d-c36988ae73a5"
      },
      "source": [
        "data1.shape"
      ],
      "execution_count": 18,
      "outputs": [
        {
          "output_type": "execute_result",
          "data": {
            "text/plain": [
              "(122049, 14)"
            ]
          },
          "metadata": {
            "tags": []
          },
          "execution_count": 18
        }
      ]
    },
    {
      "cell_type": "code",
      "metadata": {
        "id": "GXKzpxYvrHT7"
      },
      "source": [
        "d1=data1.drop(['Quantity','InvoiceNo'],axis=1)\n",
        "d1=d1.drop('InvoiceDate',axis=1)"
      ],
      "execution_count": 19,
      "outputs": []
    },
    {
      "cell_type": "code",
      "metadata": {
        "id": "LJ775mBHrJWb"
      },
      "source": [
        "d=d.drop(['InvoiceDate','InvoiceNo'],axis=1)"
      ],
      "execution_count": 20,
      "outputs": []
    },
    {
      "cell_type": "code",
      "metadata": {
        "colab": {
          "base_uri": "https://localhost:8080/"
        },
        "id": "BCbHXTgvrLvP",
        "outputId": "57082204-12c6-467e-a03f-2bdef5641970"
      },
      "source": [
        "d1.shape"
      ],
      "execution_count": 21,
      "outputs": [
        {
          "output_type": "execute_result",
          "data": {
            "text/plain": [
              "(122049, 11)"
            ]
          },
          "metadata": {
            "tags": []
          },
          "execution_count": 21
        }
      ]
    },
    {
      "cell_type": "code",
      "metadata": {
        "colab": {
          "base_uri": "https://localhost:8080/"
        },
        "id": "2vPnluiKrNrL",
        "outputId": "c9e1dd4d-37d4-4704-8df1-3715f46cd82d"
      },
      "source": [
        "d.shape"
      ],
      "execution_count": 22,
      "outputs": [
        {
          "output_type": "execute_result",
          "data": {
            "text/plain": [
              "(284756, 12)"
            ]
          },
          "metadata": {
            "tags": []
          },
          "execution_count": 22
        }
      ]
    },
    {
      "cell_type": "code",
      "metadata": {
        "colab": {
          "base_uri": "https://localhost:8080/"
        },
        "id": "Sz088JHkrQqP",
        "outputId": "f66ddf08-95f6-42e5-b07f-1ecd3d26c21c"
      },
      "source": [
        "d.isnull().sum()"
      ],
      "execution_count": 23,
      "outputs": [
        {
          "output_type": "execute_result",
          "data": {
            "text/plain": [
              "StockCode      0\n",
              "Description    0\n",
              "UnitPrice      0\n",
              "CustomerID     0\n",
              "Country        0\n",
              "Year           0\n",
              "Quarter        0\n",
              "Month          0\n",
              "Day            0\n",
              "Dayofyear      0\n",
              "WeekofYear     0\n",
              "35             0\n",
              "dtype: int64"
            ]
          },
          "metadata": {
            "tags": []
          },
          "execution_count": 23
        }
      ]
    },
    {
      "cell_type": "code",
      "metadata": {
        "id": "b96jW9ybrV5M"
      },
      "source": [
        "X=d.drop('UnitPrice',axis=1)\n",
        "y=d.UnitPrice"
      ],
      "execution_count": 24,
      "outputs": []
    },
    {
      "cell_type": "code",
      "metadata": {
        "id": "O1e_24K_6YhL"
      },
      "source": [
        "# !pip install catboost"
      ],
      "execution_count": 25,
      "outputs": []
    },
    {
      "cell_type": "code",
      "metadata": {
        "id": "-Qb3c9Yw6JUV"
      },
      "source": [
        "# from catboost import CatBoostRegressor\n",
        "\n",
        "# model =  CatBoostRegressor(iterations=2000,\n",
        "#                                     learning_rate=1,\n",
        "#                                     depth=8)\n",
        "\n",
        "# model.fit(X,y)"
      ],
      "execution_count": 26,
      "outputs": []
    },
    {
      "cell_type": "code",
      "metadata": {
        "id": "enXv5891hUbj"
      },
      "source": [
        "# #importing library and building model\n",
        "# from catboost import CatBoostRegressor\n",
        "# model=CatBoostRegressor(iterations=3000, depth=6, learning_rate=0.1, loss_function='RMSE')\n",
        "# model.fit(X, y,plot=True)"
      ],
      "execution_count": 27,
      "outputs": []
    },
    {
      "cell_type": "code",
      "metadata": {
        "id": "wJDNLwc0QAku"
      },
      "source": [
        "#Importing the relevant libraries for spot check algorithms\n",
        "from sklearn.linear_model import LinearRegression\n",
        "from sklearn.linear_model import Lasso\n",
        "from sklearn.linear_model import ElasticNet\n",
        "from sklearn.tree import DecisionTreeRegressor\n",
        "from sklearn.neighbors import KNeighborsRegressor\n",
        "from sklearn.ensemble import GradientBoostingRegressor\n",
        "from sklearn.preprocessing import MinMaxScaler\n",
        "from sklearn.model_selection import KFold\n",
        "from sklearn.model_selection import cross_val_score\n",
        "\n",
        "import warnings\n",
        "warnings.filterwarnings(\"ignore\")"
      ],
      "execution_count": 28,
      "outputs": []
    },
    {
      "cell_type": "code",
      "metadata": {
        "id": "WvkjuSP2JLHC"
      },
      "source": [
        "from sklearn.tree import DecisionTreeRegressor\n",
        "from sklearn.linear_model import LinearRegression\n",
        "from sklearn.ensemble import GradientBoostingRegressor\n",
        "from sklearn.ensemble import VotingRegressor\n",
        "from sklearn.ensemble import RandomForestRegressor"
      ],
      "execution_count": 29,
      "outputs": []
    },
    {
      "cell_type": "code",
      "metadata": {
        "id": "WYj8pO9FJO8Y"
      },
      "source": [
        "dt=DecisionTreeRegressor(random_state=0)\n",
        "lg=GradientBoostingRegressor()\n",
        "lr=LinearRegression()\n",
        "rf=RandomForestRegressor(n_estimators=300)\n",
        "classifier=[('Linear Regression',lr),('DecisionTreeRegressor',dt),('GradientBoosting',lg),('RandomForest',rf)]"
      ],
      "execution_count": 30,
      "outputs": []
    },
    {
      "cell_type": "code",
      "metadata": {
        "colab": {
          "base_uri": "https://localhost:8080/"
        },
        "id": "mQ1s7EU4JS7H",
        "outputId": "4a53f1f7-1596-4a79-cab6-9836dffb4a33"
      },
      "source": [
        "vc=VotingRegressor(estimators=classifier)\n",
        "vc.fit(X,y)"
      ],
      "execution_count": 31,
      "outputs": [
        {
          "output_type": "execute_result",
          "data": {
            "text/plain": [
              "VotingRegressor(estimators=[('Linear Regression',\n",
              "                             LinearRegression(copy_X=True, fit_intercept=True,\n",
              "                                              n_jobs=None, normalize=False)),\n",
              "                            ('DecisionTreeRegressor',\n",
              "                             DecisionTreeRegressor(ccp_alpha=0.0,\n",
              "                                                   criterion='mse',\n",
              "                                                   max_depth=None,\n",
              "                                                   max_features=None,\n",
              "                                                   max_leaf_nodes=None,\n",
              "                                                   min_impurity_decrease=0.0,\n",
              "                                                   min_impurity_split=None,\n",
              "                                                   min_samples_leaf=1,\n",
              "                                                   min_samples_split=2,\n",
              "                                                   min_w...\n",
              "                             RandomForestRegressor(bootstrap=True,\n",
              "                                                   ccp_alpha=0.0,\n",
              "                                                   criterion='mse',\n",
              "                                                   max_depth=None,\n",
              "                                                   max_features='auto',\n",
              "                                                   max_leaf_nodes=None,\n",
              "                                                   max_samples=None,\n",
              "                                                   min_impurity_decrease=0.0,\n",
              "                                                   min_impurity_split=None,\n",
              "                                                   min_samples_leaf=1,\n",
              "                                                   min_samples_split=2,\n",
              "                                                   min_weight_fraction_leaf=0.0,\n",
              "                                                   n_estimators=300,\n",
              "                                                   n_jobs=None, oob_score=False,\n",
              "                                                   random_state=None, verbose=0,\n",
              "                                                   warm_start=False))],\n",
              "                n_jobs=None, weights=None)"
            ]
          },
          "metadata": {
            "tags": []
          },
          "execution_count": 31
        }
      ]
    },
    {
      "cell_type": "code",
      "metadata": {
        "id": "7kCvw6R5oS9g"
      },
      "source": [
        ""
      ],
      "execution_count": 31,
      "outputs": []
    },
    {
      "cell_type": "code",
      "metadata": {
        "colab": {
          "base_uri": "https://localhost:8080/"
        },
        "id": "MeYcZiDFJbSl",
        "outputId": "2a994196-b3a2-4727-9d42-2dd9ba8ee9d9"
      },
      "source": [
        "cases_pred = vc.predict(d1).round(2)\n",
        "cases_pred"
      ],
      "execution_count": 46,
      "outputs": [
        {
          "output_type": "execute_result",
          "data": {
            "text/plain": [
              "array([2.34, 1.56, 3.26, ..., 1.98, 3.74, 3.71])"
            ]
          },
          "metadata": {
            "tags": []
          },
          "execution_count": 46
        }
      ]
    },
    {
      "cell_type": "code",
      "metadata": {
        "id": "p7YkhrCGJ-av"
      },
      "source": [
        "result = pd.DataFrame(data=cases_pred)\n",
        "result['UnitPrice'] = result[0]\n",
        "\n",
        "e = result.drop(0, axis = 1)\n",
        "\n",
        "e.to_csv(\"vc_rf_300_22.csv\")\n",
        "# result.head()"
      ],
      "execution_count": 58,
      "outputs": []
    },
    {
      "cell_type": "code",
      "metadata": {
        "id": "hOGMFNP6KOU4"
      },
      "source": [
        "result.to_csv(\"submission_vote_300_2.csv\" , index = False)"
      ],
      "execution_count": 34,
      "outputs": []
    },
    {
      "cell_type": "code",
      "metadata": {
        "id": "bPIz4faOmv72"
      },
      "source": [
        "# from sklearn.model_selection import GridSearchCV\n",
        "\n",
        "# rfc=RandomForestRegressor(random_state=42)\n",
        "\n",
        "# param_grid = { \n",
        "#     'n_estimators': [200, 500],\n",
        "#     'max_features': ['auto', 'sqrt', 'log2'],\n",
        "#     'max_depth' : [4,5,6,7,8],\n",
        "    \n",
        "# }\n",
        "\n",
        "# CV_rfc = GridSearchCV(estimator=rfc, param_grid=param_grid, cv= 5)\n",
        "# CV_rfc.fit(X, y)\n",
        "\n",
        "# CV_rfc.best_params_"
      ],
      "execution_count": 35,
      "outputs": []
    },
    {
      "cell_type": "code",
      "metadata": {
        "id": "yjnr3ubJrX23"
      },
      "source": [
        "# from sklearn.ensemble import RandomForestRegressor\n",
        "# model = RandomForestRegressor(bootstrap=True, ccp_alpha=0.0, criterion='mse',\n",
        "#                       max_depth=None, max_features='auto', max_leaf_nodes=None,\n",
        "#                       max_samples=None, min_impurity_decrease=0.0,\n",
        "#                       min_impurity_split=None, min_samples_leaf=1,\n",
        "#                       min_samples_split=2, min_weight_fraction_leaf=0.0,\n",
        "#                       n_estimators=300, n_jobs=None, oob_score=False,\n",
        "#                       random_state=None, verbose=0, warm_start=False)\n",
        "# model.fit(X,y)"
      ],
      "execution_count": 36,
      "outputs": []
    },
    {
      "cell_type": "markdown",
      "metadata": {
        "id": "kiv2zs81Tx8_"
      },
      "source": [
        "Keras"
      ]
    },
    {
      "cell_type": "code",
      "metadata": {
        "id": "PiZ7-GDzTxJG"
      },
      "source": [
        ""
      ],
      "execution_count": 36,
      "outputs": []
    },
    {
      "cell_type": "code",
      "metadata": {
        "id": "m9-H2MALrZ8M"
      },
      "source": [
        "# y_pred2 = model.predict(d1)\n",
        "# y_pred2 = pd.DataFrame(data = y_pred2)\n",
        "# y_pred2['UnitPrice'] = y_pred2[0]\n",
        "# e = y_pred2.drop(0,axis = 1)\n",
        "# e.to_csv(\"unitpricecat_3000.csv\")"
      ],
      "execution_count": 37,
      "outputs": []
    },
    {
      "cell_type": "markdown",
      "metadata": {
        "id": "3getOz7dQJPB"
      },
      "source": [
        "KNN check\n"
      ]
    },
    {
      "cell_type": "code",
      "metadata": {
        "id": "6BIlljuNs2DM"
      },
      "source": [
        "# #Importing the relevant libraries for spot check algorithms\n",
        "# from sklearn.linear_model import LinearRegression\n",
        "# from sklearn.linear_model import Lasso\n",
        "# from sklearn.linear_model import ElasticNet\n",
        "# from sklearn.tree import DecisionTreeRegressor\n",
        "# from sklearn.neighbors import KNeighborsRegressor\n",
        "# from sklearn.ensemble import GradientBoostingRegressor\n",
        "# from sklearn.preprocessing import MinMaxScaler\n",
        "# from sklearn.model_selection import KFold\n",
        "# from sklearn.model_selection import cross_val_score\n",
        "\n",
        "# import warnings\n",
        "# warnings.filterwarnings(\"ignore\")"
      ],
      "execution_count": 38,
      "outputs": []
    },
    {
      "cell_type": "code",
      "metadata": {
        "id": "HMsDy_n9QOAf"
      },
      "source": [
        "# models = []\n",
        "# models.append(('LR',LinearRegression()))\n",
        "# models.append(('LASSO', Lasso()))\n",
        "# models.append(('EN', ElasticNet()))\n",
        "# models.append(('KNN', KNeighborsRegressor()))\n",
        "# models.append(('CART', DecisionTreeRegressor()))\n",
        "# models.append(('GBM', GradientBoostingRegressor()))\n",
        "# models.append(('RF', RandomForestRegressor(n_estimators=300)))\n",
        "\n",
        "# results = []\n",
        "# names = []\n",
        "# for name, model in models:\n",
        "#     kfold = KFold(n_splits=10, random_state=21)\n",
        "#     cv_results = cross_val_score(model, X, y, cv=kfold, scoring='max_error')\n",
        "#     results.append(cv_results)\n",
        "#     names.append(name)\n",
        "#     msg = \"%s: %f (%f)\" % (name, cv_results.mean(), cv_results.std())\n",
        "#     print(msg)"
      ],
      "execution_count": 39,
      "outputs": []
    },
    {
      "cell_type": "code",
      "metadata": {
        "id": "fxwk-KSRQVM2"
      },
      "source": [
        ""
      ],
      "execution_count": 39,
      "outputs": []
    }
  ]
}