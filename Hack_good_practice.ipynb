{
  "nbformat": 4,
  "nbformat_minor": 0,
  "metadata": {
    "accelerator": "GPU",
    "colab": {
      "name": "Hack_good_practice.ipynb",
      "provenance": [],
      "authorship_tag": "ABX9TyNczN4zCBukkcKV89yS2h0M",
      "include_colab_link": true
    },
    "kernelspec": {
      "display_name": "Python 3",
      "name": "python3"
    }
  },
  "cells": [
    {
      "cell_type": "markdown",
      "metadata": {
        "id": "view-in-github",
        "colab_type": "text"
      },
      "source": [
        "<a href=\"https://colab.research.google.com/github/rohitgupta29/Hackathons/blob/main/Hack_good_practice.ipynb\" target=\"_parent\"><img src=\"https://colab.research.google.com/assets/colab-badge.svg\" alt=\"Open In Colab\"/></a>"
      ]
    },
    {
      "cell_type": "markdown",
      "metadata": {
        "id": "PtbAiilj3MSC"
      },
      "source": [
        "## Attribute Description:\n",
        "- Invoice No - Invoice ID, encoded as Label\n",
        "- StockCode - Unique code per stock, encoded as Label\n",
        "- Description - The Description, encoded as Label\n",
        "- Quantity - Quantity purchased\n",
        "- InvoiceDate - Date of purchase\n",
        "- UnitPrice - The target value, price of every product\n",
        "- CustomerID - Unique Identifier for every Customer\n",
        "- Country - Country of sales, encoded as Label"
      ]
    },
    {
      "cell_type": "code",
      "metadata": {
        "id": "IrHVZCJa3Lzh"
      },
      "source": [
        ""
      ],
      "execution_count": null,
      "outputs": []
    },
    {
      "cell_type": "markdown",
      "metadata": {
        "id": "bGfJY64B3Kms"
      },
      "source": [
        ""
      ]
    },
    {
      "cell_type": "code",
      "metadata": {
        "id": "yHwxi0MW214F"
      },
      "source": [
        "#Importing the relevant libraries\n",
        "\n",
        "import pandas as pd\n",
        "import numpy as np\n",
        "from pandas.plotting import scatter_matrix\n",
        "import matplotlib.pyplot as plt\n",
        "from sklearn import model_selection\n",
        "import seaborn as sns\n",
        "%matplotlib inline\n",
        "from sklearn.linear_model import LinearRegression\n",
        "from sklearn.model_selection import train_test_split\n",
        "from sklearn.preprocessing import StandardScaler\n",
        "scaler = StandardScaler()"
      ],
      "execution_count": null,
      "outputs": []
    },
    {
      "cell_type": "code",
      "metadata": {
        "colab": {
          "base_uri": "https://localhost:8080/",
          "height": 195
        },
        "id": "J4R3YY6T258Z",
        "outputId": "dbb3eca8-ba62-4176-cb40-8eb9f83efba9"
      },
      "source": [
        "hackathon_=pd.read_csv('https://raw.githubusercontent.com/rohitgupta29/Hackathons/main/e-commerce_retail/Data/Train.csv')\n",
        "\n",
        "hackathon_.head()\n",
        "# df_test=pd.read_csv('https://raw.githubusercontent.com/rohitgupta29/Hackathons/main/e-commerce_retail/Data/Test.csv')"
      ],
      "execution_count": null,
      "outputs": [
        {
          "output_type": "execute_result",
          "data": {
            "text/html": [
              "<div>\n",
              "<style scoped>\n",
              "    .dataframe tbody tr th:only-of-type {\n",
              "        vertical-align: middle;\n",
              "    }\n",
              "\n",
              "    .dataframe tbody tr th {\n",
              "        vertical-align: top;\n",
              "    }\n",
              "\n",
              "    .dataframe thead th {\n",
              "        text-align: right;\n",
              "    }\n",
              "</style>\n",
              "<table border=\"1\" class=\"dataframe\">\n",
              "  <thead>\n",
              "    <tr style=\"text-align: right;\">\n",
              "      <th></th>\n",
              "      <th>InvoiceNo</th>\n",
              "      <th>StockCode</th>\n",
              "      <th>Description</th>\n",
              "      <th>Quantity</th>\n",
              "      <th>InvoiceDate</th>\n",
              "      <th>UnitPrice</th>\n",
              "      <th>CustomerID</th>\n",
              "      <th>Country</th>\n",
              "    </tr>\n",
              "  </thead>\n",
              "  <tbody>\n",
              "    <tr>\n",
              "      <th>0</th>\n",
              "      <td>6141</td>\n",
              "      <td>1583</td>\n",
              "      <td>144</td>\n",
              "      <td>3</td>\n",
              "      <td>2011-05-06 16:54:00</td>\n",
              "      <td>3.75</td>\n",
              "      <td>14056.0</td>\n",
              "      <td>35</td>\n",
              "    </tr>\n",
              "    <tr>\n",
              "      <th>1</th>\n",
              "      <td>6349</td>\n",
              "      <td>1300</td>\n",
              "      <td>3682</td>\n",
              "      <td>6</td>\n",
              "      <td>2011-05-11 07:35:00</td>\n",
              "      <td>1.95</td>\n",
              "      <td>13098.0</td>\n",
              "      <td>35</td>\n",
              "    </tr>\n",
              "    <tr>\n",
              "      <th>2</th>\n",
              "      <td>16783</td>\n",
              "      <td>2178</td>\n",
              "      <td>1939</td>\n",
              "      <td>4</td>\n",
              "      <td>2011-11-20 13:20:00</td>\n",
              "      <td>5.95</td>\n",
              "      <td>15044.0</td>\n",
              "      <td>35</td>\n",
              "    </tr>\n",
              "    <tr>\n",
              "      <th>3</th>\n",
              "      <td>16971</td>\n",
              "      <td>2115</td>\n",
              "      <td>2983</td>\n",
              "      <td>1</td>\n",
              "      <td>2011-11-22 12:07:00</td>\n",
              "      <td>0.83</td>\n",
              "      <td>15525.0</td>\n",
              "      <td>35</td>\n",
              "    </tr>\n",
              "    <tr>\n",
              "      <th>4</th>\n",
              "      <td>6080</td>\n",
              "      <td>1210</td>\n",
              "      <td>2886</td>\n",
              "      <td>12</td>\n",
              "      <td>2011-05-06 09:00:00</td>\n",
              "      <td>1.65</td>\n",
              "      <td>13952.0</td>\n",
              "      <td>35</td>\n",
              "    </tr>\n",
              "  </tbody>\n",
              "</table>\n",
              "</div>"
            ],
            "text/plain": [
              "   InvoiceNo  StockCode  Description  ...  UnitPrice CustomerID  Country\n",
              "0       6141       1583          144  ...       3.75    14056.0       35\n",
              "1       6349       1300         3682  ...       1.95    13098.0       35\n",
              "2      16783       2178         1939  ...       5.95    15044.0       35\n",
              "3      16971       2115         2983  ...       0.83    15525.0       35\n",
              "4       6080       1210         2886  ...       1.65    13952.0       35\n",
              "\n",
              "[5 rows x 8 columns]"
            ]
          },
          "metadata": {
            "tags": []
          },
          "execution_count": 6
        }
      ]
    },
    {
      "cell_type": "code",
      "metadata": {
        "colab": {
          "base_uri": "https://localhost:8080/"
        },
        "id": "24OCvJWd52f7",
        "outputId": "d528a155-ca38-460a-8173-a8a732c4f9fc"
      },
      "source": [
        "#storing the copy of dataset in another dataframe\n",
        "hackathon_train=hackathon_\n",
        "hackathon_train.shape"
      ],
      "execution_count": null,
      "outputs": [
        {
          "output_type": "execute_result",
          "data": {
            "text/plain": [
              "(284780, 8)"
            ]
          },
          "metadata": {
            "tags": []
          },
          "execution_count": 7
        }
      ]
    },
    {
      "cell_type": "code",
      "metadata": {
        "colab": {
          "base_uri": "https://localhost:8080/",
          "height": 195
        },
        "id": "UBJC1fao2-vY",
        "outputId": "2d70c11f-96d3-43be-99d3-3622aa0a9d79"
      },
      "source": [
        "hackathon_test_=pd.read_csv('https://raw.githubusercontent.com/rohitgupta29/Hackathons/main/e-commerce_retail/Data/Test.csv')\n",
        "hackathon_test_.head()"
      ],
      "execution_count": null,
      "outputs": [
        {
          "output_type": "execute_result",
          "data": {
            "text/html": [
              "<div>\n",
              "<style scoped>\n",
              "    .dataframe tbody tr th:only-of-type {\n",
              "        vertical-align: middle;\n",
              "    }\n",
              "\n",
              "    .dataframe tbody tr th {\n",
              "        vertical-align: top;\n",
              "    }\n",
              "\n",
              "    .dataframe thead th {\n",
              "        text-align: right;\n",
              "    }\n",
              "</style>\n",
              "<table border=\"1\" class=\"dataframe\">\n",
              "  <thead>\n",
              "    <tr style=\"text-align: right;\">\n",
              "      <th></th>\n",
              "      <th>InvoiceNo</th>\n",
              "      <th>StockCode</th>\n",
              "      <th>Description</th>\n",
              "      <th>Quantity</th>\n",
              "      <th>InvoiceDate</th>\n",
              "      <th>CustomerID</th>\n",
              "      <th>Country</th>\n",
              "    </tr>\n",
              "  </thead>\n",
              "  <tbody>\n",
              "    <tr>\n",
              "      <th>0</th>\n",
              "      <td>3139</td>\n",
              "      <td>1709</td>\n",
              "      <td>1079</td>\n",
              "      <td>3</td>\n",
              "      <td>2011-02-22 15:22:00</td>\n",
              "      <td>16161.0</td>\n",
              "      <td>35</td>\n",
              "    </tr>\n",
              "    <tr>\n",
              "      <th>1</th>\n",
              "      <td>617</td>\n",
              "      <td>510</td>\n",
              "      <td>3457</td>\n",
              "      <td>1</td>\n",
              "      <td>2010-12-08 12:46:00</td>\n",
              "      <td>17341.0</td>\n",
              "      <td>35</td>\n",
              "    </tr>\n",
              "    <tr>\n",
              "      <th>2</th>\n",
              "      <td>14653</td>\n",
              "      <td>604</td>\n",
              "      <td>694</td>\n",
              "      <td>36</td>\n",
              "      <td>2011-10-25 13:53:00</td>\n",
              "      <td>15158.0</td>\n",
              "      <td>35</td>\n",
              "    </tr>\n",
              "    <tr>\n",
              "      <th>3</th>\n",
              "      <td>8634</td>\n",
              "      <td>1478</td>\n",
              "      <td>3473</td>\n",
              "      <td>2</td>\n",
              "      <td>2011-06-27 12:38:00</td>\n",
              "      <td>16033.0</td>\n",
              "      <td>35</td>\n",
              "    </tr>\n",
              "    <tr>\n",
              "      <th>4</th>\n",
              "      <td>15546</td>\n",
              "      <td>3216</td>\n",
              "      <td>871</td>\n",
              "      <td>1</td>\n",
              "      <td>2011-11-06 16:14:00</td>\n",
              "      <td>15351.0</td>\n",
              "      <td>35</td>\n",
              "    </tr>\n",
              "  </tbody>\n",
              "</table>\n",
              "</div>"
            ],
            "text/plain": [
              "   InvoiceNo  StockCode  Description  ...          InvoiceDate CustomerID  Country\n",
              "0       3139       1709         1079  ...  2011-02-22 15:22:00    16161.0       35\n",
              "1        617        510         3457  ...  2010-12-08 12:46:00    17341.0       35\n",
              "2      14653        604          694  ...  2011-10-25 13:53:00    15158.0       35\n",
              "3       8634       1478         3473  ...  2011-06-27 12:38:00    16033.0       35\n",
              "4      15546       3216          871  ...  2011-11-06 16:14:00    15351.0       35\n",
              "\n",
              "[5 rows x 7 columns]"
            ]
          },
          "metadata": {
            "tags": []
          },
          "execution_count": 8
        }
      ]
    },
    {
      "cell_type": "code",
      "metadata": {
        "colab": {
          "base_uri": "https://localhost:8080/"
        },
        "id": "jDjXtzop6l5V",
        "outputId": "1f99814d-cd02-41c0-8c88-7130e31a9db3"
      },
      "source": [
        "#storing the copy of the test dataset in another dataframe\n",
        "hackathon_test=hackathon_test_\n",
        "hackathon_test.shape"
      ],
      "execution_count": null,
      "outputs": [
        {
          "output_type": "execute_result",
          "data": {
            "text/plain": [
              "(122049, 7)"
            ]
          },
          "metadata": {
            "tags": []
          },
          "execution_count": 9
        }
      ]
    },
    {
      "cell_type": "markdown",
      "metadata": {
        "id": "0C2EMuL86rGB"
      },
      "source": [
        "Any value of quantity greater than 12000 is treated as an utlier in the train dataset and is removed"
      ]
    },
    {
      "cell_type": "code",
      "metadata": {
        "colab": {
          "base_uri": "https://localhost:8080/"
        },
        "id": "4HjGwztr6oyT",
        "outputId": "c16097c6-267b-47c0-b03e-4e50b7510777"
      },
      "source": [
        "#Convering all the negative values of quantities into positive values\n",
        "\n",
        "hackathon_test[\"Quantity\"] = np.where(hackathon_test[\"Quantity\"]<0,hackathon_test[\"Quantity\"]*-1,hackathon_test[\"Quantity\"])\n",
        "hackathon_test[\"Quantity\"].value_counts()"
      ],
      "execution_count": null,
      "outputs": [
        {
          "output_type": "execute_result",
          "data": {
            "text/plain": [
              "1       23224\n",
              "12      18120\n",
              "2       17703\n",
              "6       11457\n",
              "4        9718\n",
              "        ...  \n",
              "2100        1\n",
              "88          1\n",
              "1944        1\n",
              "89          1\n",
              "468         1\n",
              "Name: Quantity, Length: 203, dtype: int64"
            ]
          },
          "metadata": {
            "tags": []
          },
          "execution_count": 10
        }
      ]
    },
    {
      "cell_type": "code",
      "metadata": {
        "colab": {
          "base_uri": "https://localhost:8080/"
        },
        "id": "XZdE_j_b6ssN",
        "outputId": "7d4efbd2-5cb8-4271-838b-13dad2c152da"
      },
      "source": [
        "#Repeating the same step in the test datset\n",
        "hackathon_train[\"Quantity\"] = np.where(hackathon_train[\"Quantity\"]<0,hackathon_train[\"Quantity\"]*-1,hackathon_train[\"Quantity\"])\n",
        "hackathon_train[\"Quantity\"].value_counts()"
      ],
      "execution_count": null,
      "outputs": [
        {
          "output_type": "execute_result",
          "data": {
            "text/plain": [
              "1       53938\n",
              "12      42433\n",
              "2       41629\n",
              "6       26699\n",
              "4       22920\n",
              "        ...  \n",
              "2160        1\n",
              "1900        1\n",
              "98          1\n",
              "1120        1\n",
              "860         1\n",
              "Name: Quantity, Length: 270, dtype: int64"
            ]
          },
          "metadata": {
            "tags": []
          },
          "execution_count": 11
        }
      ]
    },
    {
      "cell_type": "code",
      "metadata": {
        "colab": {
          "base_uri": "https://localhost:8080/"
        },
        "id": "NwLhmqTE6ul5",
        "outputId": "3e343275-ed76-4d0d-e52d-85a6b0a4460e"
      },
      "source": [
        "#Removing the outliers\n",
        "\n",
        "hackathon_train.drop(hackathon_train[hackathon_train.Quantity >= 12000].index, inplace=True)\n",
        "hackathon_train.shape"
      ],
      "execution_count": null,
      "outputs": [
        {
          "output_type": "execute_result",
          "data": {
            "text/plain": [
              "(284775, 8)"
            ]
          },
          "metadata": {
            "tags": []
          },
          "execution_count": 12
        }
      ]
    },
    {
      "cell_type": "code",
      "metadata": {
        "id": "18-M73bA6yTj"
      },
      "source": [
        "#Dropping the Irrelevant columns\n",
        "\n",
        "hackathon_train.drop([\"InvoiceNo\",\"StockCode\",\"InvoiceDate\",\"CustomerID\",\"Country\"],axis=1, inplace=True)\n",
        "hackathon_test.drop([\"InvoiceNo\",\"StockCode\",\"InvoiceDate\",\"CustomerID\",\"Country\"],axis=1, inplace=True)"
      ],
      "execution_count": null,
      "outputs": []
    },
    {
      "cell_type": "code",
      "metadata": {
        "colab": {
          "base_uri": "https://localhost:8080/"
        },
        "id": "2VgC-QJq64Pv",
        "outputId": "92b28d09-4f63-44c3-c3d6-d8fcc8c21a16"
      },
      "source": [
        "#concating the Description columns from the test and train dataset for binary encoding\n",
        "\n",
        "hackathon=pd.concat([hackathon_train.drop([\"UnitPrice\",\"Quantity\"],axis=1),hackathon_test.drop([\"Quantity\"],axis=1)],axis=0)\n",
        "hackathon.shape"
      ],
      "execution_count": null,
      "outputs": [
        {
          "output_type": "execute_result",
          "data": {
            "text/plain": [
              "(406824, 1)"
            ]
          },
          "metadata": {
            "tags": []
          },
          "execution_count": 14
        }
      ]
    },
    {
      "cell_type": "code",
      "metadata": {
        "colab": {
          "base_uri": "https://localhost:8080/"
        },
        "id": "365FzvUa6531",
        "outputId": "4e91d017-c6a2-4cc9-bd8b-3f58eaf212f3"
      },
      "source": [
        "print(hackathon_train.columns)\n",
        "print(hackathon_test.columns)\n",
        "print(hackathon.columns)"
      ],
      "execution_count": null,
      "outputs": [
        {
          "output_type": "stream",
          "text": [
            "Index(['Description', 'Quantity', 'UnitPrice'], dtype='object')\n",
            "Index(['Description', 'Quantity'], dtype='object')\n",
            "Index(['Description'], dtype='object')\n"
          ],
          "name": "stdout"
        }
      ]
    },
    {
      "cell_type": "code",
      "metadata": {
        "id": "aWhuz_5f67nC"
      },
      "source": [
        "#conveting the integer format into string format for binary encoding \n",
        "hackathon['Description'] = hackathon['Description'].apply(str)"
      ],
      "execution_count": null,
      "outputs": []
    },
    {
      "cell_type": "code",
      "metadata": {
        "colab": {
          "base_uri": "https://localhost:8080/"
        },
        "id": "b9KfQO2-69Oy",
        "outputId": "f297fa76-f66e-48a8-da7b-870b821e359c"
      },
      "source": [
        "hackathon.shape"
      ],
      "execution_count": null,
      "outputs": [
        {
          "output_type": "execute_result",
          "data": {
            "text/plain": [
              "(406824, 1)"
            ]
          },
          "metadata": {
            "tags": []
          },
          "execution_count": 17
        }
      ]
    },
    {
      "cell_type": "code",
      "metadata": {
        "colab": {
          "base_uri": "https://localhost:8080/"
        },
        "id": "TxUkaR8Q7Nyp",
        "outputId": "90f5393c-7b35-4ba0-f241-379ae88ec276"
      },
      "source": [
        "!pip install category-encoders\n"
      ],
      "execution_count": null,
      "outputs": [
        {
          "output_type": "stream",
          "text": [
            "Collecting category-encoders\n",
            "\u001b[?25l  Downloading https://files.pythonhosted.org/packages/44/57/fcef41c248701ee62e8325026b90c432adea35555cbc870aff9cfba23727/category_encoders-2.2.2-py2.py3-none-any.whl (80kB)\n",
            "\r\u001b[K     |████                            | 10kB 20.8MB/s eta 0:00:01\r\u001b[K     |████████▏                       | 20kB 16.2MB/s eta 0:00:01\r\u001b[K     |████████████▏                   | 30kB 10.5MB/s eta 0:00:01\r\u001b[K     |████████████████▎               | 40kB 8.6MB/s eta 0:00:01\r\u001b[K     |████████████████████▎           | 51kB 4.3MB/s eta 0:00:01\r\u001b[K     |████████████████████████▍       | 61kB 4.9MB/s eta 0:00:01\r\u001b[K     |████████████████████████████▍   | 71kB 5.1MB/s eta 0:00:01\r\u001b[K     |████████████████████████████████| 81kB 3.8MB/s \n",
            "\u001b[?25hRequirement already satisfied: statsmodels>=0.9.0 in /usr/local/lib/python3.6/dist-packages (from category-encoders) (0.10.2)\n",
            "Requirement already satisfied: scipy>=1.0.0 in /usr/local/lib/python3.6/dist-packages (from category-encoders) (1.4.1)\n",
            "Requirement already satisfied: patsy>=0.5.1 in /usr/local/lib/python3.6/dist-packages (from category-encoders) (0.5.1)\n",
            "Requirement already satisfied: numpy>=1.14.0 in /usr/local/lib/python3.6/dist-packages (from category-encoders) (1.18.5)\n",
            "Requirement already satisfied: scikit-learn>=0.20.0 in /usr/local/lib/python3.6/dist-packages (from category-encoders) (0.22.2.post1)\n",
            "Requirement already satisfied: pandas>=0.21.1 in /usr/local/lib/python3.6/dist-packages (from category-encoders) (1.1.4)\n",
            "Requirement already satisfied: six in /usr/local/lib/python3.6/dist-packages (from patsy>=0.5.1->category-encoders) (1.15.0)\n",
            "Requirement already satisfied: joblib>=0.11 in /usr/local/lib/python3.6/dist-packages (from scikit-learn>=0.20.0->category-encoders) (0.17.0)\n",
            "Requirement already satisfied: python-dateutil>=2.7.3 in /usr/local/lib/python3.6/dist-packages (from pandas>=0.21.1->category-encoders) (2.8.1)\n",
            "Requirement already satisfied: pytz>=2017.2 in /usr/local/lib/python3.6/dist-packages (from pandas>=0.21.1->category-encoders) (2018.9)\n",
            "Installing collected packages: category-encoders\n",
            "Successfully installed category-encoders-2.2.2\n"
          ],
          "name": "stdout"
        }
      ]
    },
    {
      "cell_type": "code",
      "metadata": {
        "id": "nZoelcwW6_fI"
      },
      "source": [
        "#Importing the library for encoding\n",
        "import category_encoders as ce"
      ],
      "execution_count": null,
      "outputs": []
    },
    {
      "cell_type": "code",
      "metadata": {
        "id": "WdnDqbsR7A_Z"
      },
      "source": [
        "encoder= ce.BinaryEncoder(cols=['Description'],return_df=True)"
      ],
      "execution_count": null,
      "outputs": []
    },
    {
      "cell_type": "code",
      "metadata": {
        "colab": {
          "base_uri": "https://localhost:8080/",
          "height": 422
        },
        "id": "XOWKbHtn7U_M",
        "outputId": "0eb720b3-76b2-4816-d512-92c4672ad4d8"
      },
      "source": [
        "hackathon_encoded=encoder.fit_transform(hackathon) \n",
        "hackathon_encoded"
      ],
      "execution_count": null,
      "outputs": [
        {
          "output_type": "execute_result",
          "data": {
            "text/html": [
              "<div>\n",
              "<style scoped>\n",
              "    .dataframe tbody tr th:only-of-type {\n",
              "        vertical-align: middle;\n",
              "    }\n",
              "\n",
              "    .dataframe tbody tr th {\n",
              "        vertical-align: top;\n",
              "    }\n",
              "\n",
              "    .dataframe thead th {\n",
              "        text-align: right;\n",
              "    }\n",
              "</style>\n",
              "<table border=\"1\" class=\"dataframe\">\n",
              "  <thead>\n",
              "    <tr style=\"text-align: right;\">\n",
              "      <th></th>\n",
              "      <th>Description_0</th>\n",
              "      <th>Description_1</th>\n",
              "      <th>Description_2</th>\n",
              "      <th>Description_3</th>\n",
              "      <th>Description_4</th>\n",
              "      <th>Description_5</th>\n",
              "      <th>Description_6</th>\n",
              "      <th>Description_7</th>\n",
              "      <th>Description_8</th>\n",
              "      <th>Description_9</th>\n",
              "      <th>Description_10</th>\n",
              "      <th>Description_11</th>\n",
              "      <th>Description_12</th>\n",
              "    </tr>\n",
              "  </thead>\n",
              "  <tbody>\n",
              "    <tr>\n",
              "      <th>0</th>\n",
              "      <td>0</td>\n",
              "      <td>0</td>\n",
              "      <td>0</td>\n",
              "      <td>0</td>\n",
              "      <td>0</td>\n",
              "      <td>0</td>\n",
              "      <td>0</td>\n",
              "      <td>0</td>\n",
              "      <td>0</td>\n",
              "      <td>0</td>\n",
              "      <td>0</td>\n",
              "      <td>0</td>\n",
              "      <td>1</td>\n",
              "    </tr>\n",
              "    <tr>\n",
              "      <th>1</th>\n",
              "      <td>0</td>\n",
              "      <td>0</td>\n",
              "      <td>0</td>\n",
              "      <td>0</td>\n",
              "      <td>0</td>\n",
              "      <td>0</td>\n",
              "      <td>0</td>\n",
              "      <td>0</td>\n",
              "      <td>0</td>\n",
              "      <td>0</td>\n",
              "      <td>0</td>\n",
              "      <td>1</td>\n",
              "      <td>0</td>\n",
              "    </tr>\n",
              "    <tr>\n",
              "      <th>2</th>\n",
              "      <td>0</td>\n",
              "      <td>0</td>\n",
              "      <td>0</td>\n",
              "      <td>0</td>\n",
              "      <td>0</td>\n",
              "      <td>0</td>\n",
              "      <td>0</td>\n",
              "      <td>0</td>\n",
              "      <td>0</td>\n",
              "      <td>0</td>\n",
              "      <td>0</td>\n",
              "      <td>1</td>\n",
              "      <td>1</td>\n",
              "    </tr>\n",
              "    <tr>\n",
              "      <th>3</th>\n",
              "      <td>0</td>\n",
              "      <td>0</td>\n",
              "      <td>0</td>\n",
              "      <td>0</td>\n",
              "      <td>0</td>\n",
              "      <td>0</td>\n",
              "      <td>0</td>\n",
              "      <td>0</td>\n",
              "      <td>0</td>\n",
              "      <td>0</td>\n",
              "      <td>1</td>\n",
              "      <td>0</td>\n",
              "      <td>0</td>\n",
              "    </tr>\n",
              "    <tr>\n",
              "      <th>4</th>\n",
              "      <td>0</td>\n",
              "      <td>0</td>\n",
              "      <td>0</td>\n",
              "      <td>0</td>\n",
              "      <td>0</td>\n",
              "      <td>0</td>\n",
              "      <td>0</td>\n",
              "      <td>0</td>\n",
              "      <td>0</td>\n",
              "      <td>0</td>\n",
              "      <td>1</td>\n",
              "      <td>0</td>\n",
              "      <td>1</td>\n",
              "    </tr>\n",
              "    <tr>\n",
              "      <th>...</th>\n",
              "      <td>...</td>\n",
              "      <td>...</td>\n",
              "      <td>...</td>\n",
              "      <td>...</td>\n",
              "      <td>...</td>\n",
              "      <td>...</td>\n",
              "      <td>...</td>\n",
              "      <td>...</td>\n",
              "      <td>...</td>\n",
              "      <td>...</td>\n",
              "      <td>...</td>\n",
              "      <td>...</td>\n",
              "      <td>...</td>\n",
              "    </tr>\n",
              "    <tr>\n",
              "      <th>122044</th>\n",
              "      <td>0</td>\n",
              "      <td>1</td>\n",
              "      <td>0</td>\n",
              "      <td>1</td>\n",
              "      <td>1</td>\n",
              "      <td>0</td>\n",
              "      <td>0</td>\n",
              "      <td>1</td>\n",
              "      <td>0</td>\n",
              "      <td>1</td>\n",
              "      <td>0</td>\n",
              "      <td>1</td>\n",
              "      <td>0</td>\n",
              "    </tr>\n",
              "    <tr>\n",
              "      <th>122045</th>\n",
              "      <td>0</td>\n",
              "      <td>0</td>\n",
              "      <td>0</td>\n",
              "      <td>0</td>\n",
              "      <td>1</td>\n",
              "      <td>0</td>\n",
              "      <td>0</td>\n",
              "      <td>0</td>\n",
              "      <td>0</td>\n",
              "      <td>1</td>\n",
              "      <td>0</td>\n",
              "      <td>0</td>\n",
              "      <td>0</td>\n",
              "    </tr>\n",
              "    <tr>\n",
              "      <th>122046</th>\n",
              "      <td>0</td>\n",
              "      <td>0</td>\n",
              "      <td>0</td>\n",
              "      <td>0</td>\n",
              "      <td>0</td>\n",
              "      <td>1</td>\n",
              "      <td>1</td>\n",
              "      <td>0</td>\n",
              "      <td>0</td>\n",
              "      <td>0</td>\n",
              "      <td>0</td>\n",
              "      <td>1</td>\n",
              "      <td>0</td>\n",
              "    </tr>\n",
              "    <tr>\n",
              "      <th>122047</th>\n",
              "      <td>0</td>\n",
              "      <td>0</td>\n",
              "      <td>1</td>\n",
              "      <td>1</td>\n",
              "      <td>1</td>\n",
              "      <td>1</td>\n",
              "      <td>0</td>\n",
              "      <td>1</td>\n",
              "      <td>0</td>\n",
              "      <td>1</td>\n",
              "      <td>0</td>\n",
              "      <td>1</td>\n",
              "      <td>0</td>\n",
              "    </tr>\n",
              "    <tr>\n",
              "      <th>122048</th>\n",
              "      <td>0</td>\n",
              "      <td>0</td>\n",
              "      <td>0</td>\n",
              "      <td>1</td>\n",
              "      <td>1</td>\n",
              "      <td>1</td>\n",
              "      <td>0</td>\n",
              "      <td>0</td>\n",
              "      <td>1</td>\n",
              "      <td>1</td>\n",
              "      <td>0</td>\n",
              "      <td>1</td>\n",
              "      <td>0</td>\n",
              "    </tr>\n",
              "  </tbody>\n",
              "</table>\n",
              "<p>406824 rows × 13 columns</p>\n",
              "</div>"
            ],
            "text/plain": [
              "        Description_0  Description_1  ...  Description_11  Description_12\n",
              "0                   0              0  ...               0               1\n",
              "1                   0              0  ...               1               0\n",
              "2                   0              0  ...               1               1\n",
              "3                   0              0  ...               0               0\n",
              "4                   0              0  ...               0               1\n",
              "...               ...            ...  ...             ...             ...\n",
              "122044              0              1  ...               1               0\n",
              "122045              0              0  ...               0               0\n",
              "122046              0              0  ...               1               0\n",
              "122047              0              0  ...               1               0\n",
              "122048              0              0  ...               1               0\n",
              "\n",
              "[406824 rows x 13 columns]"
            ]
          },
          "metadata": {
            "tags": []
          },
          "execution_count": 21
        }
      ]
    },
    {
      "cell_type": "code",
      "metadata": {
        "colab": {
          "base_uri": "https://localhost:8080/"
        },
        "id": "ybaTd44i7W4j",
        "outputId": "e184bbad-35f3-4c5e-8e79-7caa787b0064"
      },
      "source": [
        "#Splitting the hackathon dataframe into train and test datasets\n",
        "\n",
        "train=pd.concat([hackathon_train.drop([\"Description\"],axis=1),hackathon_encoded.iloc[:284775,:]],axis=1)\n",
        "test=pd.concat([hackathon_test.drop([\"Description\"],axis=1),hackathon_encoded.iloc[284775:,:]],axis=1)\n",
        "print(train.shape)\n",
        "print(test.shape)"
      ],
      "execution_count": null,
      "outputs": [
        {
          "output_type": "stream",
          "text": [
            "(284775, 15)\n",
            "(122049, 14)\n"
          ],
          "name": "stdout"
        }
      ]
    },
    {
      "cell_type": "code",
      "metadata": {
        "colab": {
          "base_uri": "https://localhost:8080/"
        },
        "id": "kFO9qvQy7ZJ-",
        "outputId": "64767fdc-ee56-4457-c97f-395642487523"
      },
      "source": [
        "#checking fr skewness\n",
        "train.skew(axis = 0, skipna = True)"
      ],
      "execution_count": null,
      "outputs": [
        {
          "output_type": "execute_result",
          "data": {
            "text/plain": [
              "Quantity           28.357110\n",
              "UnitPrice         438.336669\n",
              "Description_0       0.000000\n",
              "Description_1       2.564396\n",
              "Description_2       0.923792\n",
              "Description_3       0.488082\n",
              "Description_4       0.271199\n",
              "Description_5       0.156269\n",
              "Description_6       0.013520\n",
              "Description_7      -0.006482\n",
              "Description_8      -0.016512\n",
              "Description_9      -0.011076\n",
              "Description_10      0.072435\n",
              "Description_11      0.019602\n",
              "Description_12     -0.034524\n",
              "dtype: float64"
            ]
          },
          "metadata": {
            "tags": []
          },
          "execution_count": 23
        }
      ]
    },
    {
      "cell_type": "code",
      "metadata": {
        "id": "GINtiiRA7a2A"
      },
      "source": [
        "#Definig the dependant and independant variable on the train datset\n",
        "\n",
        "X=train.drop([\"UnitPrice\"],axis=1)\n",
        "#X=scaler.fit_transform(X) # scaling and removing skewness\n",
        "Y=np.asarray(train[\"UnitPrice\"])\n",
        "Y=np.log1p(Y) # removing skewness"
      ],
      "execution_count": null,
      "outputs": []
    },
    {
      "cell_type": "code",
      "metadata": {
        "colab": {
          "base_uri": "https://localhost:8080/"
        },
        "id": "zuKOsdpv7cxx",
        "outputId": "a56f9da0-59d8-48b9-f214-a658f170b967"
      },
      "source": [
        "#checking for any nan values\n",
        "np.isnan(np.min(Y))"
      ],
      "execution_count": null,
      "outputs": [
        {
          "output_type": "execute_result",
          "data": {
            "text/plain": [
              "False"
            ]
          },
          "metadata": {
            "tags": []
          },
          "execution_count": 25
        }
      ]
    },
    {
      "cell_type": "code",
      "metadata": {
        "colab": {
          "base_uri": "https://localhost:8080/"
        },
        "id": "OFX42T1L7eQl",
        "outputId": "1e97ea30-2904-4183-fb1a-83beb05328e2"
      },
      "source": [
        "#Splitting the X and Y int test and train sest\n",
        "\n",
        "X_train,X_test,Y_train,Y_test=train_test_split(X,Y,test_size=0.2,random_state=4)\n",
        "print ('Train set:', X_train.shape,  Y_train.shape)\n",
        "print ('Test set:', X_test.shape,  Y_test.shape)\n",
        "X_train=scaler.fit_transform(X_train)\n",
        "X_test=scaler.fit_transform(X_test)"
      ],
      "execution_count": null,
      "outputs": [
        {
          "output_type": "stream",
          "text": [
            "Train set: (227820, 14) (227820,)\n",
            "Test set: (56955, 14) (56955,)\n"
          ],
          "name": "stdout"
        }
      ]
    },
    {
      "cell_type": "code",
      "metadata": {
        "id": "vTl0hbZ77fvQ"
      },
      "source": [
        "#Importing the relevant libraries for spot check algorithms\n",
        "from sklearn.linear_model import LinearRegression\n",
        "from sklearn.linear_model import Lasso\n",
        "from sklearn.linear_model import ElasticNet\n",
        "from sklearn.tree import DecisionTreeRegressor\n",
        "from sklearn.neighbors import KNeighborsRegressor\n",
        "from sklearn.ensemble import GradientBoostingRegressor\n",
        "from sklearn.preprocessing import MinMaxScaler\n",
        "from sklearn.model_selection import KFold\n",
        "from sklearn.model_selection import cross_val_score\n",
        "\n",
        "import warnings\n",
        "warnings.filterwarnings(\"ignore\")"
      ],
      "execution_count": null,
      "outputs": []
    },
    {
      "cell_type": "markdown",
      "metadata": {
        "id": "eFB77Nm785PJ"
      },
      "source": [
        "Running it on various models-\n",
        "- Linear Regression\n",
        "- Lasso Regression\n",
        "- Elastic Net\n",
        "- KNN\n",
        "- Decision Tree\n",
        "- GBM"
      ]
    },
    {
      "cell_type": "code",
      "metadata": {
        "colab": {
          "base_uri": "https://localhost:8080/"
        },
        "id": "46zOxJhx7ikl",
        "outputId": "330f076e-0283-4b76-949b-9186526e7be4"
      },
      "source": [
        "models = []\n",
        "models.append(('LR',LinearRegression()))\n",
        "models.append(('LASSO', Lasso()))\n",
        "models.append(('EN', ElasticNet()))\n",
        "models.append(('KNN', KNeighborsRegressor()))\n",
        "models.append(('CART', DecisionTreeRegressor()))\n",
        "models.append(('GBM', GradientBoostingRegressor()))\n",
        "\n",
        "results = []\n",
        "names = []\n",
        "for name, model in models:\n",
        "    kfold = KFold(n_splits=10, random_state=21)\n",
        "    cv_results = cross_val_score(model, X_train, Y_train, cv=kfold, scoring='max_error')\n",
        "    results.append(cv_results)\n",
        "    names.append(name)\n",
        "    msg = \"%s: %f (%f)\" % (name, cv_results.mean(), cv_results.std())\n",
        "    print(msg)"
      ],
      "execution_count": null,
      "outputs": [
        {
          "output_type": "stream",
          "text": [
            "LR: -7.117302 (1.047674)\n",
            "LASSO: -6.927474 (1.067642)\n",
            "EN: -6.927474 (1.067642)\n",
            "KNN: -4.650970 (0.762431)\n",
            "CART: -4.786454 (1.078912)\n",
            "GBM: -6.657916 (1.065460)\n"
          ],
          "name": "stdout"
        }
      ]
    },
    {
      "cell_type": "code",
      "metadata": {
        "colab": {
          "background_save": true
        },
        "id": "U1DNSOCP7ksY"
      },
      "source": [
        "# Using K_Nearest neighbour regressor because it has the least error value\n",
        "# running for different K values to know which yields the max accuracy.\n",
        "from sklearn.metrics import mean_squared_error\n",
        "import math\n",
        "score = []\n",
        "error_rate=[]\n",
        "for k in range(1,20):    \n",
        "    clf = KNeighborsRegressor(n_neighbors = k,  weights = 'distance', p=1)\n",
        "    clf.fit(X_train, Y_train)\n",
        "    score.append(clf.score(X_test, Y_test))\n",
        "    pred=clf.predict(X_test)\n",
        "    rmse=np.sqrt(mean_squared_error(Y_test, pred))\n",
        "    error_rate.append(rmse)"
      ],
      "execution_count": null,
      "outputs": []
    },
    {
      "cell_type": "code",
      "metadata": {
        "colab": {
          "base_uri": "https://localhost:8080/",
          "height": 421
        },
        "id": "4nA7zCRG7nf3",
        "outputId": "8e0b0dbf-1a50-4af9-90cf-496d81de362b"
      },
      "source": [
        "#Plotting Error VS K\n",
        "\n",
        "plt.figure(figsize=(10,6))\n",
        "plt.plot(range(1,20),error_rate,color=\"blue\", linestyle=\"dashed\", marker=\"o\",markerfacecolor=\"red\", markersize=10)\n",
        "plt.title(\"Error Rate vs. K Value\")\n",
        "plt.xlabel(\"K\")\n",
        "plt.ylabel(\"Error Rate\")"
      ],
      "execution_count": null,
      "outputs": [
        {
          "output_type": "execute_result",
          "data": {
            "text/plain": [
              "Text(0, 0.5, 'Error Rate')"
            ]
          },
          "metadata": {
            "tags": []
          },
          "execution_count": 30
        },
        {
          "output_type": "display_data",
          "data": {
            "image/png": "[encoded data removed]",
            "text/plain": [
              "<Figure size 720x432 with 1 Axes>"
            ]
          },
          "metadata": {
            "tags": []
          }
        }
      ]
    },
    {
      "cell_type": "code",
      "metadata": {
        "colab": {
          "base_uri": "https://localhost:8080/",
          "height": 421
        },
        "id": "6ICJLxhl7qe9",
        "outputId": "c0144ee5-e323-4496-a08d-f8bef3dcab39"
      },
      "source": [
        "#Plotting Accuracy vs K\n",
        "\n",
        "plt.figure(figsize=(10,6))\n",
        "plt.plot(range(1,20),score,color=\"blue\", linestyle=\"dashed\", marker=\"o\",markerfacecolor=\"red\", markersize=10)\n",
        "plt.title(\"Accuracy vs. K Value\")\n",
        "plt.xlabel(\"K\")\n",
        "plt.ylabel(\"Accuracy\")"
      ],
      "execution_count": null,
      "outputs": [
        {
          "output_type": "execute_result",
          "data": {
            "text/plain": [
              "Text(0, 0.5, 'Accuracy')"
            ]
          },
          "metadata": {
            "tags": []
          },
          "execution_count": 31
        },
        {
          "output_type": "display_data",
          "data": {
            "image/png": "[encoded data removed]",
            "text/plain": [
              "<Figure size 720x432 with 1 Axes>"
            ]
          },
          "metadata": {
            "tags": []
          }
        }
      ]
    },
    {
      "cell_type": "code",
      "metadata": {
        "colab": {
          "base_uri": "https://localhost:8080/"
        },
        "id": "Vr9oSxMV7sH_",
        "outputId": "7e3007bd-6ca4-4254-ae76-ec6c36146c51"
      },
      "source": [
        "#understanding the best value of K\n",
        "k_max = score.index(max(score))+1\n",
        "print( \"At K = {}, Max Accuracy = {}\".format(k_max, max(score)*100))"
      ],
      "execution_count": null,
      "outputs": [
        {
          "output_type": "stream",
          "text": [
            "At K = 14, Max Accuracy = 95.3971611130392\n"
          ],
          "name": "stdout"
        }
      ]
    },
    {
      "cell_type": "code",
      "metadata": {
        "id": "KBh1I4dU7wIP"
      },
      "source": [
        "# Defininf the independant variable for the test dataset\n",
        "Xt=test\n",
        "Xt=scaler.fit_transform(Xt)\n",
        "X=scaler.fit_transform(X)"
      ],
      "execution_count": null,
      "outputs": []
    },
    {
      "cell_type": "code",
      "metadata": {
        "colab": {
          "base_uri": "https://localhost:8080/"
        },
        "id": "ldvyi0g57w0h",
        "outputId": "97f05d9d-54e3-4f53-8d79-633cfbdcd43c"
      },
      "source": [
        "#Applying KNeighboursRegressor Algorithm with k=6 (elbow method)\n",
        "\n",
        "clf = KNeighborsRegressor(n_neighbors = 6,  weights = 'distance', p=1)\n",
        "clf.fit(X, Y)\n",
        "print(clf.score(X, Y ))   \n",
        "y_pred = clf.predict(Xt)"
      ],
      "execution_count": null,
      "outputs": [
        {
          "output_type": "stream",
          "text": [
            "0.9645564467813801\n"
          ],
          "name": "stdout"
        }
      ]
    },
    {
      "cell_type": "code",
      "metadata": {
        "id": "1eT7hPt57ywt"
      },
      "source": [
        "#Taking the antilog of ouput because it was log transformed earlier\n",
        "output = np.expm1(y_pred) #antilog"
      ],
      "execution_count": null,
      "outputs": []
    },
    {
      "cell_type": "code",
      "metadata": {
        "id": "sgGwBvV_72kQ"
      },
      "source": [
        "hackathon_test[\"output\"]=output #storing the output in a dataframe"
      ],
      "execution_count": null,
      "outputs": []
    },
    {
      "cell_type": "code",
      "metadata": {
        "id": "8TCuOHAY74i2"
      },
      "source": [
        "o2=hackathon_test[\"output\"]"
      ],
      "execution_count": null,
      "outputs": []
    },
    {
      "cell_type": "code",
      "metadata": {
        "colab": {
          "base_uri": "https://localhost:8080/"
        },
        "id": "QZdErYXw7556",
        "outputId": "9bffef10-c202-462d-a825-9aa9543b43cb"
      },
      "source": [
        "o2.shape"
      ],
      "execution_count": null,
      "outputs": [
        {
          "output_type": "execute_result",
          "data": {
            "text/plain": [
              "(122049,)"
            ]
          },
          "metadata": {
            "tags": []
          },
          "execution_count": 38
        }
      ]
    },
    {
      "cell_type": "code",
      "metadata": {
        "id": "AZa_IxWV78tX"
      },
      "source": [
        "o2.to_csv('hackathon_practices21.csv') #Storing in a CSV file"
      ],
      "execution_count": null,
      "outputs": []
    }
  ]
}