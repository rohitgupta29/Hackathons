{
 "cells": [
  {
   "cell_type": "code",
   "execution_count": 64,
   "metadata": {},
   "outputs": [],
   "source": [
    "import numpy as np \n",
    "import pandas as pd \n",
    "import matplotlib.pyplot as plt\n",
    "%matplotlib inline\n",
    "\n",
    "import seaborn as sns\n",
    "sns.set()"
   ]
  },
  {
   "cell_type": "code",
   "execution_count": 80,
   "metadata": {},
   "outputs": [],
   "source": [
    "train = \"https://raw.githubusercontent.com/rohitgupta29/Hackathons/main/e-commerce_retail/Data/Train.csv\"\n",
    "test = \"https://raw.githubusercontent.com/rohitgupta29/Hackathons/main/e-commerce_retail/Data/Test.csv\""
   ]
  },
  {
   "cell_type": "code",
   "execution_count": 81,
   "metadata": {},
   "outputs": [],
   "source": [
    "train = pd.read_csv(train)\n",
    "test = pd.read_csv(test)"
   ]
  },
  {
   "cell_type": "code",
   "execution_count": 82,
   "metadata": {},
   "outputs": [
    {
     "name": "stdout",
     "output_type": "stream",
     "text": [
      "373 days 04:24:00\n",
      "373 days 04:24:00\n"
     ]
    }
   ],
   "source": [
    "train[\"InvoiceDate\"] = pd.to_datetime(train.InvoiceDate, cache=True)\n",
    "print(train.InvoiceDate.max() - train.InvoiceDate.min())\n",
    "\n",
    "test[\"InvoiceDate\"] = pd.to_datetime(test.InvoiceDate, cache=True)\n",
    "print(test.InvoiceDate.max() - test.InvoiceDate.min())"
   ]
  },
  {
   "cell_type": "code",
   "execution_count": 83,
   "metadata": {},
   "outputs": [
    {
     "data": {
      "text/plain": [
       "3819"
      ]
     },
     "execution_count": 83,
     "metadata": {},
     "output_type": "execute_result"
    }
   ],
   "source": [
    "train.Description.nunique()"
   ]
  },
  {
   "cell_type": "code",
   "execution_count": 84,
   "metadata": {},
   "outputs": [
    {
     "data": {
      "text/plain": [
       "count    284780.000000\n",
       "mean          3.451216\n",
       "std          78.399541\n",
       "min           0.000000\n",
       "25%           1.250000\n",
       "50%           1.950000\n",
       "75%           3.750000\n",
       "max       38970.000000\n",
       "Name: UnitPrice, dtype: float64"
      ]
     },
     "execution_count": 84,
     "metadata": {},
     "output_type": "execute_result"
    }
   ],
   "source": [
    "train.UnitPrice.describe()"
   ]
  },
  {
   "cell_type": "code",
   "execution_count": 85,
   "metadata": {},
   "outputs": [],
   "source": [
    "train = train[train.UnitPrice < 2000].copy()\n"
   ]
  },
  {
   "cell_type": "code",
   "execution_count": 87,
   "metadata": {},
   "outputs": [
    {
     "data": {
      "text/plain": [
       "count    122049.000000\n",
       "mean         12.137920\n",
       "std          54.311646\n",
       "min       -9360.000000\n",
       "25%           2.000000\n",
       "50%           5.000000\n",
       "75%          12.000000\n",
       "max        4800.000000\n",
       "Name: Quantity, dtype: float64"
      ]
     },
     "execution_count": 87,
     "metadata": {},
     "output_type": "execute_result"
    }
   ],
   "source": [
    "test.Quantity.describe()"
   ]
  },
  {
   "cell_type": "code",
   "execution_count": 75,
   "metadata": {},
   "outputs": [
    {
     "data": {
      "text/html": [
       "<div>\n",
       "<style scoped>\n",
       "    .dataframe tbody tr th:only-of-type {\n",
       "        vertical-align: middle;\n",
       "    }\n",
       "\n",
       "    .dataframe tbody tr th {\n",
       "        vertical-align: top;\n",
       "    }\n",
       "\n",
       "    .dataframe thead th {\n",
       "        text-align: right;\n",
       "    }\n",
       "</style>\n",
       "<table border=\"1\" class=\"dataframe\">\n",
       "  <thead>\n",
       "    <tr style=\"text-align: right;\">\n",
       "      <th></th>\n",
       "      <th>InvoiceNo</th>\n",
       "      <th>StockCode</th>\n",
       "      <th>Description</th>\n",
       "      <th>Quantity</th>\n",
       "      <th>UnitPrice</th>\n",
       "      <th>CustomerID</th>\n",
       "      <th>Country</th>\n",
       "    </tr>\n",
       "  </thead>\n",
       "  <tbody>\n",
       "    <tr>\n",
       "      <th>count</th>\n",
       "      <td>1834.000000</td>\n",
       "      <td>1834.000000</td>\n",
       "      <td>1834.000000</td>\n",
       "      <td>1834.000000</td>\n",
       "      <td>1834.000000</td>\n",
       "      <td>1834.000000</td>\n",
       "      <td>1834.000000</td>\n",
       "    </tr>\n",
       "    <tr>\n",
       "      <th>mean</th>\n",
       "      <td>9371.201745</td>\n",
       "      <td>1594.494002</td>\n",
       "      <td>2011.790076</td>\n",
       "      <td>447.460742</td>\n",
       "      <td>1.363321</td>\n",
       "      <td>15412.973828</td>\n",
       "      <td>29.783533</td>\n",
       "    </tr>\n",
       "    <tr>\n",
       "      <th>std</th>\n",
       "      <td>4996.729508</td>\n",
       "      <td>932.844518</td>\n",
       "      <td>1097.678733</td>\n",
       "      <td>2588.597476</td>\n",
       "      <td>1.345634</td>\n",
       "      <td>1840.923922</td>\n",
       "      <td>10.008481</td>\n",
       "    </tr>\n",
       "    <tr>\n",
       "      <th>min</th>\n",
       "      <td>20.000000</td>\n",
       "      <td>9.000000</td>\n",
       "      <td>1.000000</td>\n",
       "      <td>151.000000</td>\n",
       "      <td>0.000000</td>\n",
       "      <td>12346.000000</td>\n",
       "      <td>0.000000</td>\n",
       "    </tr>\n",
       "    <tr>\n",
       "      <th>25%</th>\n",
       "      <td>5163.000000</td>\n",
       "      <td>885.250000</td>\n",
       "      <td>1179.250000</td>\n",
       "      <td>200.000000</td>\n",
       "      <td>0.420000</td>\n",
       "      <td>13848.000000</td>\n",
       "      <td>30.000000</td>\n",
       "    </tr>\n",
       "    <tr>\n",
       "      <th>50%</th>\n",
       "      <td>9903.500000</td>\n",
       "      <td>1477.000000</td>\n",
       "      <td>2049.000000</td>\n",
       "      <td>240.000000</td>\n",
       "      <td>1.060000</td>\n",
       "      <td>15251.000000</td>\n",
       "      <td>35.000000</td>\n",
       "    </tr>\n",
       "    <tr>\n",
       "      <th>75%</th>\n",
       "      <td>13381.250000</td>\n",
       "      <td>2167.000000</td>\n",
       "      <td>2880.000000</td>\n",
       "      <td>384.000000</td>\n",
       "      <td>1.790000</td>\n",
       "      <td>17381.000000</td>\n",
       "      <td>35.000000</td>\n",
       "    </tr>\n",
       "    <tr>\n",
       "      <th>max</th>\n",
       "      <td>18515.000000</td>\n",
       "      <td>3681.000000</td>\n",
       "      <td>3893.000000</td>\n",
       "      <td>80995.000000</td>\n",
       "      <td>10.950000</td>\n",
       "      <td>18251.000000</td>\n",
       "      <td>35.000000</td>\n",
       "    </tr>\n",
       "  </tbody>\n",
       "</table>\n",
       "</div>"
      ],
      "text/plain": [
       "          InvoiceNo    StockCode  Description      Quantity    UnitPrice  \\\n",
       "count   1834.000000  1834.000000  1834.000000   1834.000000  1834.000000   \n",
       "mean    9371.201745  1594.494002  2011.790076    447.460742     1.363321   \n",
       "std     4996.729508   932.844518  1097.678733   2588.597476     1.345634   \n",
       "min       20.000000     9.000000     1.000000    151.000000     0.000000   \n",
       "25%     5163.000000   885.250000  1179.250000    200.000000     0.420000   \n",
       "50%     9903.500000  1477.000000  2049.000000    240.000000     1.060000   \n",
       "75%    13381.250000  2167.000000  2880.000000    384.000000     1.790000   \n",
       "max    18515.000000  3681.000000  3893.000000  80995.000000    10.950000   \n",
       "\n",
       "         CustomerID      Country  \n",
       "count   1834.000000  1834.000000  \n",
       "mean   15412.973828    29.783533  \n",
       "std     1840.923922    10.008481  \n",
       "min    12346.000000     0.000000  \n",
       "25%    13848.000000    30.000000  \n",
       "50%    15251.000000    35.000000  \n",
       "75%    17381.000000    35.000000  \n",
       "max    18251.000000    35.000000  "
      ]
     },
     "execution_count": 75,
     "metadata": {},
     "output_type": "execute_result"
    }
   ],
   "source": [
    "train[train.Quantity > 150].describe()"
   ]
  },
  {
   "cell_type": "code",
   "execution_count": 43,
   "metadata": {},
   "outputs": [
    {
     "data": {
      "text/plain": [
       "148.4131591025766"
      ]
     },
     "execution_count": 43,
     "metadata": {},
     "output_type": "execute_result"
    }
   ],
   "source": [
    "np.exp(5)"
   ]
  },
  {
   "cell_type": "code",
   "execution_count": 56,
   "metadata": {},
   "outputs": [
    {
     "data": {
      "text/plain": [
       "count    282821.000000\n",
       "mean          9.844471\n",
       "std          16.381103\n",
       "min        -144.000000\n",
       "25%           2.000000\n",
       "50%           5.000000\n",
       "75%          12.000000\n",
       "max         147.000000\n",
       "Name: Quantity, dtype: float64"
      ]
     },
     "execution_count": 56,
     "metadata": {},
     "output_type": "execute_result"
    }
   ],
   "source": [
    "train = train[train.Quantity > -150].copy()\n",
    "train = train[train.Quantity < 150].copy()\n",
    "train.Quantity.describe()\n"
   ]
  },
  {
   "cell_type": "markdown",
   "metadata": {},
   "source": [
    "## Date Time Data"
   ]
  },
  {
   "cell_type": "code",
   "execution_count": 94,
   "metadata": {},
   "outputs": [
    {
     "name": "stderr",
     "output_type": "stream",
     "text": [
      "C:\\ProgramData\\Anaconda3\\lib\\site-packages\\ipykernel_launcher.py:4: FutureWarning: Series.dt.weekofyear and Series.dt.week have been deprecated.  Please use Series.dt.isocalendar().week instead.\n",
      "  after removing the cwd from sys.path.\n"
     ]
    }
   ],
   "source": [
    "\n",
    "train[\"Year\"] = train.InvoiceDate.dt.year\n",
    "train[\"Quarter\"] = train.InvoiceDate.dt.quarter\n",
    "train[\"Month\"] = train.InvoiceDate.dt.month\n",
    "train[\"Week\"] = train.InvoiceDate.dt.week\n",
    "train[\"Weekday\"] = train.InvoiceDate.dt.weekday\n",
    "train[\"Day\"] = train.InvoiceDate.dt.day\n",
    "train[\"Dayofyear\"] = train.InvoiceDate.dt.dayofyear\n",
    "train[\"Date\"] = pd.to_datetime(train[['Year', 'Month', 'Day']])"
   ]
  },
  {
   "cell_type": "code",
   "execution_count": 102,
   "metadata": {},
   "outputs": [
    {
     "name": "stderr",
     "output_type": "stream",
     "text": [
      "C:\\ProgramData\\Anaconda3\\lib\\site-packages\\ipykernel_launcher.py:4: FutureWarning: Series.dt.weekofyear and Series.dt.week have been deprecated.  Please use Series.dt.isocalendar().week instead.\n",
      "  after removing the cwd from sys.path.\n"
     ]
    },
    {
     "data": {
      "text/plain": [
       "15"
      ]
     },
     "execution_count": 102,
     "metadata": {},
     "output_type": "execute_result"
    }
   ],
   "source": [
    "test[\"Year\"] = test.InvoiceDate.dt.year\n",
    "test[\"Quarter\"] = test.InvoiceDate.dt.quarter\n",
    "test[\"Month\"] = test.InvoiceDate.dt.month\n",
    "test[\"Week\"] = test.InvoiceDate.dt.week\n",
    "test[\"Weekday\"] = test.InvoiceDate.dt.weekday\n",
    "test[\"Day\"] = test.InvoiceDate.dt.day\n",
    "test[\"Dayofyear\"] = test.InvoiceDate.dt.dayofyear\n",
    "test[\"Date\"] = pd.to_datetime(test[['Year', 'Month', 'Day']])\n",
    "test.shape[1]"
   ]
  },
  {
   "cell_type": "code",
   "execution_count": 103,
   "metadata": {},
   "outputs": [
    {
     "data": {
      "text/plain": [
       "16"
      ]
     },
     "execution_count": 103,
     "metadata": {},
     "output_type": "execute_result"
    }
   ],
   "source": [
    "train.shape[1]"
   ]
  },
  {
   "cell_type": "code",
   "execution_count": 105,
   "metadata": {},
   "outputs": [],
   "source": [
    "X = train.drop([\"UnitPrice\", \"InvoiceDate\"], axis = 1)\n",
    "y = train[\"UnitPrice\"]\n",
    "\n"
   ]
  },
  {
   "cell_type": "code",
   "execution_count": 106,
   "metadata": {},
   "outputs": [
    {
     "name": "stdout",
     "output_type": "stream",
     "text": [
      "0:\tlearn: 13.6900574\ttotal: 88ms\tremaining: 8.71s\n",
      "1:\tlearn: 13.6291810\ttotal: 110ms\tremaining: 5.38s\n",
      "2:\tlearn: 13.5104221\ttotal: 128ms\tremaining: 4.13s\n",
      "3:\tlearn: 13.5016255\ttotal: 147ms\tremaining: 3.53s\n",
      "4:\tlearn: 13.4702937\ttotal: 165ms\tremaining: 3.14s\n",
      "5:\tlearn: 13.4389589\ttotal: 184ms\tremaining: 2.88s\n",
      "6:\tlearn: 13.1855550\ttotal: 202ms\tremaining: 2.68s\n",
      "7:\tlearn: 13.0277592\ttotal: 222ms\tremaining: 2.55s\n",
      "8:\tlearn: 12.9706274\ttotal: 250ms\tremaining: 2.52s\n",
      "9:\tlearn: 12.8711877\ttotal: 280ms\tremaining: 2.52s\n",
      "10:\tlearn: 12.8673191\ttotal: 316ms\tremaining: 2.56s\n",
      "11:\tlearn: 12.8621381\ttotal: 357ms\tremaining: 2.62s\n",
      "12:\tlearn: 12.8555886\ttotal: 388ms\tremaining: 2.6s\n",
      "13:\tlearn: 12.8377547\ttotal: 414ms\tremaining: 2.54s\n",
      "14:\tlearn: 12.7435153\ttotal: 443ms\tremaining: 2.51s\n",
      "15:\tlearn: 12.7136453\ttotal: 469ms\tremaining: 2.46s\n",
      "16:\tlearn: 12.6761725\ttotal: 497ms\tremaining: 2.42s\n",
      "17:\tlearn: 12.6726117\ttotal: 524ms\tremaining: 2.39s\n",
      "18:\tlearn: 12.6467687\ttotal: 556ms\tremaining: 2.37s\n",
      "19:\tlearn: 12.6101051\ttotal: 577ms\tremaining: 2.31s\n",
      "20:\tlearn: 12.5435269\ttotal: 612ms\tremaining: 2.3s\n",
      "21:\tlearn: 12.5123466\ttotal: 653ms\tremaining: 2.31s\n",
      "22:\tlearn: 12.4668972\ttotal: 685ms\tremaining: 2.29s\n",
      "23:\tlearn: 12.4521651\ttotal: 718ms\tremaining: 2.27s\n",
      "24:\tlearn: 12.4222686\ttotal: 761ms\tremaining: 2.28s\n",
      "25:\tlearn: 12.4176135\ttotal: 802ms\tremaining: 2.28s\n",
      "26:\tlearn: 12.3954484\ttotal: 841ms\tremaining: 2.27s\n",
      "27:\tlearn: 12.3666891\ttotal: 880ms\tremaining: 2.26s\n",
      "28:\tlearn: 12.3413558\ttotal: 919ms\tremaining: 2.25s\n",
      "29:\tlearn: 12.3237960\ttotal: 945ms\tremaining: 2.21s\n",
      "30:\tlearn: 12.3190831\ttotal: 975ms\tremaining: 2.17s\n",
      "31:\tlearn: 12.3161317\ttotal: 998ms\tremaining: 2.12s\n",
      "32:\tlearn: 12.2891616\ttotal: 1.02s\tremaining: 2.08s\n",
      "33:\tlearn: 12.2584599\ttotal: 1.06s\tremaining: 2.06s\n",
      "34:\tlearn: 12.2313819\ttotal: 1.09s\tremaining: 2.03s\n",
      "35:\tlearn: 12.2059483\ttotal: 1.12s\tremaining: 2s\n",
      "36:\tlearn: 12.1800532\ttotal: 1.16s\tremaining: 1.97s\n",
      "37:\tlearn: 12.1620883\ttotal: 1.19s\tremaining: 1.94s\n",
      "38:\tlearn: 12.1369693\ttotal: 1.21s\tremaining: 1.89s\n",
      "39:\tlearn: 12.1187229\ttotal: 1.24s\tremaining: 1.86s\n",
      "40:\tlearn: 12.0956622\ttotal: 1.27s\tremaining: 1.82s\n",
      "41:\tlearn: 12.0727092\ttotal: 1.3s\tremaining: 1.79s\n",
      "42:\tlearn: 12.0561385\ttotal: 1.33s\tremaining: 1.77s\n",
      "43:\tlearn: 12.0329276\ttotal: 1.37s\tremaining: 1.74s\n",
      "44:\tlearn: 12.0148065\ttotal: 1.41s\tremaining: 1.72s\n",
      "45:\tlearn: 11.9958132\ttotal: 1.45s\tremaining: 1.7s\n",
      "46:\tlearn: 11.9766111\ttotal: 1.49s\tremaining: 1.68s\n",
      "47:\tlearn: 11.9653736\ttotal: 1.51s\tremaining: 1.64s\n",
      "48:\tlearn: 11.9622070\ttotal: 1.56s\tremaining: 1.62s\n",
      "49:\tlearn: 11.9589759\ttotal: 1.59s\tremaining: 1.59s\n",
      "50:\tlearn: 11.9564832\ttotal: 1.65s\tremaining: 1.58s\n",
      "51:\tlearn: 11.9550835\ttotal: 1.68s\tremaining: 1.55s\n",
      "52:\tlearn: 11.9542121\ttotal: 1.71s\tremaining: 1.52s\n",
      "53:\tlearn: 11.9479326\ttotal: 1.75s\tremaining: 1.49s\n",
      "54:\tlearn: 11.9422661\ttotal: 1.79s\tremaining: 1.46s\n",
      "55:\tlearn: 11.9404212\ttotal: 1.83s\tremaining: 1.43s\n",
      "56:\tlearn: 11.9353683\ttotal: 1.86s\tremaining: 1.41s\n",
      "57:\tlearn: 11.9230007\ttotal: 1.89s\tremaining: 1.37s\n",
      "58:\tlearn: 11.9214082\ttotal: 1.93s\tremaining: 1.34s\n",
      "59:\tlearn: 11.9187515\ttotal: 1.95s\tremaining: 1.3s\n",
      "60:\tlearn: 11.9165503\ttotal: 1.98s\tremaining: 1.27s\n",
      "61:\tlearn: 11.9060130\ttotal: 2.01s\tremaining: 1.23s\n",
      "62:\tlearn: 11.8943690\ttotal: 2.04s\tremaining: 1.2s\n",
      "63:\tlearn: 11.8731462\ttotal: 2.07s\tremaining: 1.17s\n",
      "64:\tlearn: 11.8616467\ttotal: 2.12s\tremaining: 1.14s\n",
      "65:\tlearn: 11.8602452\ttotal: 2.16s\tremaining: 1.11s\n",
      "66:\tlearn: 11.8584414\ttotal: 2.2s\tremaining: 1.08s\n",
      "67:\tlearn: 11.8575039\ttotal: 2.23s\tremaining: 1.05s\n",
      "68:\tlearn: 11.8505745\ttotal: 2.27s\tremaining: 1.02s\n",
      "69:\tlearn: 11.8455386\ttotal: 2.3s\tremaining: 985ms\n",
      "70:\tlearn: 11.8443723\ttotal: 2.33s\tremaining: 953ms\n",
      "71:\tlearn: 11.8432070\ttotal: 2.37s\tremaining: 921ms\n",
      "72:\tlearn: 11.8423534\ttotal: 2.39s\tremaining: 885ms\n",
      "73:\tlearn: 11.8396855\ttotal: 2.43s\tremaining: 853ms\n",
      "74:\tlearn: 11.8375361\ttotal: 2.45s\tremaining: 817ms\n",
      "75:\tlearn: 11.8355211\ttotal: 2.48s\tremaining: 784ms\n",
      "76:\tlearn: 11.8325611\ttotal: 2.52s\tremaining: 752ms\n",
      "77:\tlearn: 11.8276412\ttotal: 2.56s\tremaining: 721ms\n",
      "78:\tlearn: 11.8262607\ttotal: 2.59s\tremaining: 689ms\n",
      "79:\tlearn: 11.8257282\ttotal: 2.63s\tremaining: 658ms\n",
      "80:\tlearn: 11.8242483\ttotal: 2.66s\tremaining: 625ms\n",
      "81:\tlearn: 11.8171493\ttotal: 2.69s\tremaining: 591ms\n",
      "82:\tlearn: 11.8138320\ttotal: 2.73s\tremaining: 558ms\n",
      "83:\tlearn: 11.8016971\ttotal: 2.76s\tremaining: 526ms\n",
      "84:\tlearn: 11.7977243\ttotal: 2.81s\tremaining: 495ms\n",
      "85:\tlearn: 11.7881550\ttotal: 2.83s\tremaining: 460ms\n",
      "86:\tlearn: 11.7808335\ttotal: 2.87s\tremaining: 428ms\n",
      "87:\tlearn: 11.7800571\ttotal: 2.9s\tremaining: 396ms\n",
      "88:\tlearn: 11.7777209\ttotal: 2.94s\tremaining: 364ms\n",
      "89:\tlearn: 11.7769102\ttotal: 2.98s\tremaining: 332ms\n",
      "90:\tlearn: 11.7759721\ttotal: 3.02s\tremaining: 298ms\n",
      "91:\tlearn: 11.7701359\ttotal: 3.04s\tremaining: 265ms\n",
      "92:\tlearn: 11.7612093\ttotal: 3.09s\tremaining: 233ms\n",
      "93:\tlearn: 11.7597896\ttotal: 3.13s\tremaining: 200ms\n",
      "94:\tlearn: 11.7587169\ttotal: 3.17s\tremaining: 167ms\n",
      "95:\tlearn: 11.7452708\ttotal: 3.2s\tremaining: 133ms\n",
      "96:\tlearn: 11.7288304\ttotal: 3.23s\tremaining: 99.8ms\n",
      "97:\tlearn: 11.7143967\ttotal: 3.27s\tremaining: 66.7ms\n",
      "98:\tlearn: 11.7087462\ttotal: 3.31s\tremaining: 33.4ms\n",
      "99:\tlearn: 11.6997177\ttotal: 3.34s\tremaining: 0us\n"
     ]
    },
    {
     "data": {
      "text/plain": [
       "<catboost.core.CatBoostRegressor at 0x1f38d0dfa88>"
      ]
     },
     "execution_count": 106,
     "metadata": {},
     "output_type": "execute_result"
    }
   ],
   "source": [
    "from catboost import CatBoostRegressor\n",
    "model = CatBoostRegressor(iterations=100,learning_rate=1, depth=2)\n",
    "\n",
    "model.fit(X,y)\n",
    "\n"
   ]
  },
  {
   "cell_type": "code",
   "execution_count": 108,
   "metadata": {},
   "outputs": [],
   "source": [
    "y_pred = model.predict(test)"
   ]
  },
  {
   "cell_type": "code",
   "execution_count": 111,
   "metadata": {},
   "outputs": [],
   "source": [
    "y_pred = pd.DataFrame(data=y_pred)\n",
    "y_pred['UnitPrice']=y_pred[0]\n",
    "e=y_pred.drop(0,axis=1)\n",
    "e.to_csv(\"catprice.csv\")"
   ]
  },
  {
   "cell_type": "code",
   "execution_count": 99,
   "metadata": {},
   "outputs": [
    {
     "data": {
      "text/html": [
       "<div>\n",
       "<style scoped>\n",
       "    .dataframe tbody tr th:only-of-type {\n",
       "        vertical-align: middle;\n",
       "    }\n",
       "\n",
       "    .dataframe tbody tr th {\n",
       "        vertical-align: top;\n",
       "    }\n",
       "\n",
       "    .dataframe thead th {\n",
       "        text-align: right;\n",
       "    }\n",
       "</style>\n",
       "<table border=\"1\" class=\"dataframe\">\n",
       "  <thead>\n",
       "    <tr style=\"text-align: right;\">\n",
       "      <th></th>\n",
       "      <th>0</th>\n",
       "      <th>1</th>\n",
       "    </tr>\n",
       "  </thead>\n",
       "  <tbody>\n",
       "    <tr>\n",
       "      <th>0</th>\n",
       "      <td>(2010-12-01 00:00:00, 2010, 4, 12, 48, 2, 335,...</td>\n",
       "      <td>InvoiceNo  StockCode  Description  Qua...</td>\n",
       "    </tr>\n",
       "    <tr>\n",
       "      <th>1</th>\n",
       "      <td>(2010-12-01 00:00:00, 2010, 4, 12, 48, 2, 335,...</td>\n",
       "      <td>InvoiceNo  StockCode  Description  Qua...</td>\n",
       "    </tr>\n",
       "    <tr>\n",
       "      <th>2</th>\n",
       "      <td>(2010-12-01 00:00:00, 2010, 4, 12, 48, 2, 335,...</td>\n",
       "      <td>InvoiceNo  StockCode  Description  Qua...</td>\n",
       "    </tr>\n",
       "    <tr>\n",
       "      <th>3</th>\n",
       "      <td>(2010-12-01 00:00:00, 2010, 4, 12, 48, 2, 335,...</td>\n",
       "      <td>InvoiceNo  StockCode  Description  Qua...</td>\n",
       "    </tr>\n",
       "    <tr>\n",
       "      <th>4</th>\n",
       "      <td>(2010-12-01 00:00:00, 2010, 4, 12, 48, 2, 335,...</td>\n",
       "      <td>InvoiceNo  StockCode  Description  Qua...</td>\n",
       "    </tr>\n",
       "    <tr>\n",
       "      <th>...</th>\n",
       "      <td>...</td>\n",
       "      <td>...</td>\n",
       "    </tr>\n",
       "    <tr>\n",
       "      <th>195066</th>\n",
       "      <td>(2011-12-09 00:00:00, 2011, 4, 12, 49, 4, 343,...</td>\n",
       "      <td>InvoiceNo  StockCode  Description  Quan...</td>\n",
       "    </tr>\n",
       "    <tr>\n",
       "      <th>195067</th>\n",
       "      <td>(2011-12-09 00:00:00, 2011, 4, 12, 49, 4, 343,...</td>\n",
       "      <td>InvoiceNo  StockCode  Description  Qua...</td>\n",
       "    </tr>\n",
       "    <tr>\n",
       "      <th>195068</th>\n",
       "      <td>(2011-12-09 00:00:00, 2011, 4, 12, 49, 4, 343,...</td>\n",
       "      <td>InvoiceNo  StockCode  Description  Qua...</td>\n",
       "    </tr>\n",
       "    <tr>\n",
       "      <th>195069</th>\n",
       "      <td>(2011-12-09 00:00:00, 2011, 4, 12, 49, 4, 343,...</td>\n",
       "      <td>InvoiceNo  StockCode  Description  Quan...</td>\n",
       "    </tr>\n",
       "    <tr>\n",
       "      <th>195070</th>\n",
       "      <td>(2011-12-09 00:00:00, 2011, 4, 12, 49, 4, 343,...</td>\n",
       "      <td>InvoiceNo  StockCode  Description  Qua...</td>\n",
       "    </tr>\n",
       "  </tbody>\n",
       "</table>\n",
       "<p>195071 rows × 2 columns</p>\n",
       "</div>"
      ],
      "text/plain": [
       "                                                        0  \\\n",
       "0       (2010-12-01 00:00:00, 2010, 4, 12, 48, 2, 335,...   \n",
       "1       (2010-12-01 00:00:00, 2010, 4, 12, 48, 2, 335,...   \n",
       "2       (2010-12-01 00:00:00, 2010, 4, 12, 48, 2, 335,...   \n",
       "3       (2010-12-01 00:00:00, 2010, 4, 12, 48, 2, 335,...   \n",
       "4       (2010-12-01 00:00:00, 2010, 4, 12, 48, 2, 335,...   \n",
       "...                                                   ...   \n",
       "195066  (2011-12-09 00:00:00, 2011, 4, 12, 49, 4, 343,...   \n",
       "195067  (2011-12-09 00:00:00, 2011, 4, 12, 49, 4, 343,...   \n",
       "195068  (2011-12-09 00:00:00, 2011, 4, 12, 49, 4, 343,...   \n",
       "195069  (2011-12-09 00:00:00, 2011, 4, 12, 49, 4, 343,...   \n",
       "195070  (2011-12-09 00:00:00, 2011, 4, 12, 49, 4, 343,...   \n",
       "\n",
       "                                                        1  \n",
       "0               InvoiceNo  StockCode  Description  Qua...  \n",
       "1               InvoiceNo  StockCode  Description  Qua...  \n",
       "2               InvoiceNo  StockCode  Description  Qua...  \n",
       "3               InvoiceNo  StockCode  Description  Qua...  \n",
       "4               InvoiceNo  StockCode  Description  Qua...  \n",
       "...                                                   ...  \n",
       "195066         InvoiceNo  StockCode  Description  Quan...  \n",
       "195067          InvoiceNo  StockCode  Description  Qua...  \n",
       "195068          InvoiceNo  StockCode  Description  Qua...  \n",
       "195069         InvoiceNo  StockCode  Description  Quan...  \n",
       "195070          InvoiceNo  StockCode  Description  Qua...  \n",
       "\n",
       "[195071 rows x 2 columns]"
      ]
     },
     "execution_count": 99,
     "metadata": {},
     "output_type": "execute_result"
    }
   ],
   "source": [
    "\n",
    "daily_data = pd.DataFrame(train.groupby(grouped_features))\n"
   ]
  },
  {
   "cell_type": "code",
   "execution_count": 100,
   "metadata": {},
   "outputs": [
    {
     "data": {
      "text/html": [
       "<div>\n",
       "<style scoped>\n",
       "    .dataframe tbody tr th:only-of-type {\n",
       "        vertical-align: middle;\n",
       "    }\n",
       "\n",
       "    .dataframe tbody tr th {\n",
       "        vertical-align: top;\n",
       "    }\n",
       "\n",
       "    .dataframe thead th {\n",
       "        text-align: right;\n",
       "    }\n",
       "</style>\n",
       "<table border=\"1\" class=\"dataframe\">\n",
       "  <thead>\n",
       "    <tr style=\"text-align: right;\">\n",
       "      <th></th>\n",
       "      <th>0</th>\n",
       "      <th>1</th>\n",
       "    </tr>\n",
       "  </thead>\n",
       "  <tbody>\n",
       "    <tr>\n",
       "      <th>0</th>\n",
       "      <td>(2010-12-01 00:00:00, 2010, 4, 12, 48, 2, 335,...</td>\n",
       "      <td>InvoiceNo  StockCode  Description  Qua...</td>\n",
       "    </tr>\n",
       "    <tr>\n",
       "      <th>1</th>\n",
       "      <td>(2010-12-01 00:00:00, 2010, 4, 12, 48, 2, 335,...</td>\n",
       "      <td>InvoiceNo  StockCode  Description  Qua...</td>\n",
       "    </tr>\n",
       "    <tr>\n",
       "      <th>2</th>\n",
       "      <td>(2010-12-01 00:00:00, 2010, 4, 12, 48, 2, 335,...</td>\n",
       "      <td>InvoiceNo  StockCode  Description  Qua...</td>\n",
       "    </tr>\n",
       "    <tr>\n",
       "      <th>3</th>\n",
       "      <td>(2010-12-01 00:00:00, 2010, 4, 12, 48, 2, 335,...</td>\n",
       "      <td>InvoiceNo  StockCode  Description  Qua...</td>\n",
       "    </tr>\n",
       "    <tr>\n",
       "      <th>4</th>\n",
       "      <td>(2010-12-01 00:00:00, 2010, 4, 12, 48, 2, 335,...</td>\n",
       "      <td>InvoiceNo  StockCode  Description  Qua...</td>\n",
       "    </tr>\n",
       "    <tr>\n",
       "      <th>...</th>\n",
       "      <td>...</td>\n",
       "      <td>...</td>\n",
       "    </tr>\n",
       "    <tr>\n",
       "      <th>195066</th>\n",
       "      <td>(2011-12-09 00:00:00, 2011, 4, 12, 49, 4, 343,...</td>\n",
       "      <td>InvoiceNo  StockCode  Description  Quan...</td>\n",
       "    </tr>\n",
       "    <tr>\n",
       "      <th>195067</th>\n",
       "      <td>(2011-12-09 00:00:00, 2011, 4, 12, 49, 4, 343,...</td>\n",
       "      <td>InvoiceNo  StockCode  Description  Qua...</td>\n",
       "    </tr>\n",
       "    <tr>\n",
       "      <th>195068</th>\n",
       "      <td>(2011-12-09 00:00:00, 2011, 4, 12, 49, 4, 343,...</td>\n",
       "      <td>InvoiceNo  StockCode  Description  Qua...</td>\n",
       "    </tr>\n",
       "    <tr>\n",
       "      <th>195069</th>\n",
       "      <td>(2011-12-09 00:00:00, 2011, 4, 12, 49, 4, 343,...</td>\n",
       "      <td>InvoiceNo  StockCode  Description  Quan...</td>\n",
       "    </tr>\n",
       "    <tr>\n",
       "      <th>195070</th>\n",
       "      <td>(2011-12-09 00:00:00, 2011, 4, 12, 49, 4, 343,...</td>\n",
       "      <td>InvoiceNo  StockCode  Description  Qua...</td>\n",
       "    </tr>\n",
       "  </tbody>\n",
       "</table>\n",
       "<p>195071 rows × 2 columns</p>\n",
       "</div>"
      ],
      "text/plain": [
       "                                                        0  \\\n",
       "0       (2010-12-01 00:00:00, 2010, 4, 12, 48, 2, 335,...   \n",
       "1       (2010-12-01 00:00:00, 2010, 4, 12, 48, 2, 335,...   \n",
       "2       (2010-12-01 00:00:00, 2010, 4, 12, 48, 2, 335,...   \n",
       "3       (2010-12-01 00:00:00, 2010, 4, 12, 48, 2, 335,...   \n",
       "4       (2010-12-01 00:00:00, 2010, 4, 12, 48, 2, 335,...   \n",
       "...                                                   ...   \n",
       "195066  (2011-12-09 00:00:00, 2011, 4, 12, 49, 4, 343,...   \n",
       "195067  (2011-12-09 00:00:00, 2011, 4, 12, 49, 4, 343,...   \n",
       "195068  (2011-12-09 00:00:00, 2011, 4, 12, 49, 4, 343,...   \n",
       "195069  (2011-12-09 00:00:00, 2011, 4, 12, 49, 4, 343,...   \n",
       "195070  (2011-12-09 00:00:00, 2011, 4, 12, 49, 4, 343,...   \n",
       "\n",
       "                                                        1  \n",
       "0               InvoiceNo  StockCode  Description  Qua...  \n",
       "1               InvoiceNo  StockCode  Description  Qua...  \n",
       "2               InvoiceNo  StockCode  Description  Qua...  \n",
       "3               InvoiceNo  StockCode  Description  Qua...  \n",
       "4               InvoiceNo  StockCode  Description  Qua...  \n",
       "...                                                   ...  \n",
       "195066         InvoiceNo  StockCode  Description  Quan...  \n",
       "195067          InvoiceNo  StockCode  Description  Qua...  \n",
       "195068          InvoiceNo  StockCode  Description  Qua...  \n",
       "195069         InvoiceNo  StockCode  Description  Quan...  \n",
       "195070          InvoiceNo  StockCode  Description  Qua...  \n",
       "\n",
       "[195071 rows x 2 columns]"
      ]
     },
     "execution_count": 100,
     "metadata": {},
     "output_type": "execute_result"
    }
   ],
   "source": [
    "daily_data"
   ]
  },
  {
   "cell_type": "code",
   "execution_count": 60,
   "metadata": {},
   "outputs": [
    {
     "name": "stdout",
     "output_type": "stream",
     "text": [
      "(-2.0, 130.0)\n"
     ]
    }
   ],
   "source": [
    "low_quantity = daily_data.Quantity.quantile(0.01)\n",
    "high_quantity = daily_data.Quantity.quantile(0.99)\n",
    "print((low_quantity, high_quantity))"
   ]
  },
  {
   "cell_type": "code",
   "execution_count": null,
   "metadata": {},
   "outputs": [],
   "source": [
    "from sklearn.model_selection import TimeSeriesSplit\n",
    "X = train."
   ]
  }
 ],
 "metadata": {
  "kernelspec": {
   "display_name": "Python 3",
   "language": "python",
   "name": "python3"
  },
  "language_info": {
   "codemirror_mode": {
    "name": "ipython",
    "version": 3
   },
   "file_extension": ".py",
   "mimetype": "text/x-python",
   "name": "python",
   "nbconvert_exporter": "python",
   "pygments_lexer": "ipython3",
   "version": "3.7.6"
  }
 },
 "nbformat": 4,
 "nbformat_minor": 4
}
